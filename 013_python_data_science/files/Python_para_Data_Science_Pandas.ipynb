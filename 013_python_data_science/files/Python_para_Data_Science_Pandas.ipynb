{
 "cells": [
  {
   "cell_type": "markdown",
   "metadata": {
    "colab_type": "text",
    "id": "W4bTJkJED0-t"
   },
   "source": [
    "# <font color=green> PYTHON PARA DATA SCIENCE - PANDAS\n",
    "---"
   ]
  },
  {
   "cell_type": "markdown",
   "metadata": {
    "colab_type": "text",
    "id": "GOEcCc62D0-x"
   },
   "source": [
    "# <font color=green> 1. INTRODUCCIÓN A PYTHON\n",
    "---"
   ]
  },
  {
   "cell_type": "markdown",
   "metadata": {
    "colab_type": "text",
    "id": "oGvoOJ-XD0-y"
   },
   "source": [
    "# 1.1 Introducción"
   ]
  },
  {
   "cell_type": "markdown",
   "metadata": {
    "colab_type": "text",
    "id": "fam3BM0aD0-z"
   },
   "source": [
    "> Python es un lenguaje de programación de alto nivel con soporte a múltiples paradigmas de programación. Es un proyecto *open source* y desde su aparición en 1991, viene convirtiéndose en uno de los lenguajes de programación interpretados más populares. \n",
    ">\n",
    "> En los últimos años Python ha desarrollado una comunidad activa de procesamiento científico y análisis de datos y viene destacándose como uno de los lenguajes más relevantes cuando el asunto es ciencia de datos y machine learning, tanto en el entorno académico como también en el entorno laboral."
   ]
  },
  {
   "cell_type": "markdown",
   "metadata": {
    "colab_type": "text",
    "id": "6kH5DY-vD0-1"
   },
   "source": [
    "# 1.2 Instalación y entorno de trabajo"
   ]
  },
  {
   "cell_type": "markdown",
   "metadata": {
    "colab_type": "text",
    "id": "BTpm79I2D0-2"
   },
   "source": [
    "### Instalación Local\n",
    "\n",
    "### https://www.python.org/downloads/\n",
    "### o\n",
    "### https://www.anaconda.com/distribution/"
   ]
  },
  {
   "cell_type": "markdown",
   "metadata": {
    "colab_type": "text",
    "id": "AuPS_XwRD0-3"
   },
   "source": [
    "### Google Colaboratory\n",
    "\n",
    "### https://colab.research.google.com"
   ]
  },
  {
   "cell_type": "markdown",
   "metadata": {
    "colab_type": "text",
    "id": "4rUYsPrXD0-4"
   },
   "source": [
    "### Verificando versión"
   ]
  },
  {
   "cell_type": "code",
   "execution_count": 1,
   "metadata": {
    "colab": {},
    "colab_type": "code",
    "id": "PgTCVRB2D0-5"
   },
   "outputs": [
    {
     "name": "stdout",
     "output_type": "stream",
     "text": [
      "Python 3.7.1\n"
     ]
    }
   ],
   "source": [
    "!python -V"
   ]
  },
  {
   "cell_type": "markdown",
   "metadata": {
    "colab_type": "text",
    "id": "lTtI6so4D0-9"
   },
   "source": [
    "# 1.3 Trabajando con datos"
   ]
  },
  {
   "cell_type": "code",
   "execution_count": 8,
   "metadata": {
    "colab": {},
    "colab_type": "code",
    "id": "E_n4FUUWD0-9"
   },
   "outputs": [],
   "source": [
    "import pandas as pd\n",
    "pd.set_option('display.max_rows', 10)\n",
    "pd.set_option('display.max_columns', 1000)"
   ]
  },
  {
   "cell_type": "code",
   "execution_count": 5,
   "metadata": {
    "colab": {},
    "colab_type": "code",
    "id": "Kq-JdRHFD0-_"
   },
   "outputs": [],
   "source": [
    "dataset = pd.read_csv('db.csv', sep=';')"
   ]
  },
  {
   "cell_type": "code",
   "execution_count": 6,
   "metadata": {
    "colab": {},
    "colab_type": "code",
    "id": "mOV1rCA6D0_A",
    "scrolled": true
   },
   "outputs": [
    {
     "data": {
      "text/html": [
       "<div>\n",
       "<style scoped>\n",
       "    .dataframe tbody tr th:only-of-type {\n",
       "        vertical-align: middle;\n",
       "    }\n",
       "\n",
       "    .dataframe tbody tr th {\n",
       "        vertical-align: top;\n",
       "    }\n",
       "\n",
       "    .dataframe thead th {\n",
       "        text-align: right;\n",
       "    }\n",
       "</style>\n",
       "<table border=\"1\" class=\"dataframe\">\n",
       "  <thead>\n",
       "    <tr style=\"text-align: right;\">\n",
       "      <th></th>\n",
       "      <th>Nombre</th>\n",
       "      <th>Motor</th>\n",
       "      <th>Año</th>\n",
       "      <th>Kilometraje</th>\n",
       "      <th>Cero_km</th>\n",
       "      <th>Accesorios</th>\n",
       "      <th>Valor</th>\n",
       "    </tr>\n",
       "  </thead>\n",
       "  <tbody>\n",
       "    <tr>\n",
       "      <th>0</th>\n",
       "      <td>Jetta Variant</td>\n",
       "      <td>Motor 4.0 Turbo</td>\n",
       "      <td>2003</td>\n",
       "      <td>44410.0</td>\n",
       "      <td>False</td>\n",
       "      <td>['Llantas de aleación', 'Cerraduras electricas...</td>\n",
       "      <td>88078.64</td>\n",
       "    </tr>\n",
       "    <tr>\n",
       "      <th>1</th>\n",
       "      <td>Passat</td>\n",
       "      <td>Motor Diesel</td>\n",
       "      <td>1991</td>\n",
       "      <td>5712.0</td>\n",
       "      <td>False</td>\n",
       "      <td>['Central multimedia', 'Techo panorámico', 'Fr...</td>\n",
       "      <td>106161.94</td>\n",
       "    </tr>\n",
       "    <tr>\n",
       "      <th>2</th>\n",
       "      <td>Crossfox</td>\n",
       "      <td>Motor Diesel V8</td>\n",
       "      <td>1990</td>\n",
       "      <td>37123.0</td>\n",
       "      <td>False</td>\n",
       "      <td>['Piloto automático', 'Control de estabilidad'...</td>\n",
       "      <td>72832.16</td>\n",
       "    </tr>\n",
       "    <tr>\n",
       "      <th>3</th>\n",
       "      <td>DS5</td>\n",
       "      <td>Motor 2.4 Turbo</td>\n",
       "      <td>2019</td>\n",
       "      <td>NaN</td>\n",
       "      <td>True</td>\n",
       "      <td>['Cerraduras electricas', '4 X 4', 'Ventanas e...</td>\n",
       "      <td>124549.07</td>\n",
       "    </tr>\n",
       "    <tr>\n",
       "      <th>4</th>\n",
       "      <td>Aston Martin DB4</td>\n",
       "      <td>Motor 2.4 Turbo</td>\n",
       "      <td>2006</td>\n",
       "      <td>25757.0</td>\n",
       "      <td>False</td>\n",
       "      <td>['Llantas de aleación', '4 X 4', 'Central mult...</td>\n",
       "      <td>92612.10</td>\n",
       "    </tr>\n",
       "    <tr>\n",
       "      <th>5</th>\n",
       "      <td>Palio Weekend</td>\n",
       "      <td>Motor 1.8 16v</td>\n",
       "      <td>2012</td>\n",
       "      <td>10728.0</td>\n",
       "      <td>False</td>\n",
       "      <td>['Sensor de estacionamiento', 'Techo panorámic...</td>\n",
       "      <td>97497.73</td>\n",
       "    </tr>\n",
       "    <tr>\n",
       "      <th>6</th>\n",
       "      <td>A5</td>\n",
       "      <td>Motor 4.0 Turbo</td>\n",
       "      <td>2019</td>\n",
       "      <td>NaN</td>\n",
       "      <td>True</td>\n",
       "      <td>['Transmisión automática', 'Cámara de estacion...</td>\n",
       "      <td>56445.20</td>\n",
       "    </tr>\n",
       "    <tr>\n",
       "      <th>7</th>\n",
       "      <td>Série 3 Cabrio</td>\n",
       "      <td>Motor 1.0 8v</td>\n",
       "      <td>2009</td>\n",
       "      <td>77599.0</td>\n",
       "      <td>False</td>\n",
       "      <td>['Control de estabilidad', 'Sensor crepuscular...</td>\n",
       "      <td>112310.44</td>\n",
       "    </tr>\n",
       "    <tr>\n",
       "      <th>8</th>\n",
       "      <td>Dodge Jorney</td>\n",
       "      <td>Motor 3.0 32v</td>\n",
       "      <td>2010</td>\n",
       "      <td>99197.0</td>\n",
       "      <td>False</td>\n",
       "      <td>['Ventanas eléctricas', 'Piloto automático', '...</td>\n",
       "      <td>120716.27</td>\n",
       "    </tr>\n",
       "    <tr>\n",
       "      <th>9</th>\n",
       "      <td>Carens</td>\n",
       "      <td>Motor 5.0 V8 Bi-Turbo</td>\n",
       "      <td>2011</td>\n",
       "      <td>37978.0</td>\n",
       "      <td>False</td>\n",
       "      <td>['Aire condicionado', 'Panel digital', 'Centra...</td>\n",
       "      <td>76566.49</td>\n",
       "    </tr>\n",
       "    <tr>\n",
       "      <th>10</th>\n",
       "      <td>Ford Edge</td>\n",
       "      <td>Motor Diesel V6</td>\n",
       "      <td>2002</td>\n",
       "      <td>12859.0</td>\n",
       "      <td>False</td>\n",
       "      <td>['Sensor crepuscular', 'Llantas de aleación', ...</td>\n",
       "      <td>71647.59</td>\n",
       "    </tr>\n",
       "    <tr>\n",
       "      <th>11</th>\n",
       "      <td>Courier</td>\n",
       "      <td>Motor Diesel V8</td>\n",
       "      <td>2007</td>\n",
       "      <td>8052.0</td>\n",
       "      <td>False</td>\n",
       "      <td>['Central multimedia', '4 X 4', 'Piloto automá...</td>\n",
       "      <td>73919.53</td>\n",
       "    </tr>\n",
       "    <tr>\n",
       "      <th>12</th>\n",
       "      <td>S-18</td>\n",
       "      <td>Motor V6</td>\n",
       "      <td>2001</td>\n",
       "      <td>89773.0</td>\n",
       "      <td>False</td>\n",
       "      <td>['Asientos de cuero', 'Sensor de lluvia', 'Lla...</td>\n",
       "      <td>112732.99</td>\n",
       "    </tr>\n",
       "    <tr>\n",
       "      <th>13</th>\n",
       "      <td>J5</td>\n",
       "      <td>Motor V6</td>\n",
       "      <td>2019</td>\n",
       "      <td>NaN</td>\n",
       "      <td>True</td>\n",
       "      <td>['Sensor crepuscular', 'Panel digital', 'Llant...</td>\n",
       "      <td>53183.38</td>\n",
       "    </tr>\n",
       "    <tr>\n",
       "      <th>14</th>\n",
       "      <td>F-Type Coupé</td>\n",
       "      <td>Motor 5.0 V8 Bi-Turbo</td>\n",
       "      <td>2009</td>\n",
       "      <td>41457.0</td>\n",
       "      <td>False</td>\n",
       "      <td>['Piloto automático', 'Sensor crepuscular', 'S...</td>\n",
       "      <td>127488.42</td>\n",
       "    </tr>\n",
       "    <tr>\n",
       "      <th>15</th>\n",
       "      <td>RAM</td>\n",
       "      <td>Motor Diesel V8</td>\n",
       "      <td>2016</td>\n",
       "      <td>115607.0</td>\n",
       "      <td>False</td>\n",
       "      <td>['Sensor crepuscular', 'Transmisión automática...</td>\n",
       "      <td>59910.40</td>\n",
       "    </tr>\n",
       "    <tr>\n",
       "      <th>16</th>\n",
       "      <td>Série 1</td>\n",
       "      <td>Motor 3.0 32v</td>\n",
       "      <td>2012</td>\n",
       "      <td>46449.0</td>\n",
       "      <td>False</td>\n",
       "      <td>['Techo panorámico', 'Cámara de estacionamient...</td>\n",
       "      <td>61118.59</td>\n",
       "    </tr>\n",
       "    <tr>\n",
       "      <th>17</th>\n",
       "      <td>A3</td>\n",
       "      <td>Motor 1.0 8v</td>\n",
       "      <td>2019</td>\n",
       "      <td>NaN</td>\n",
       "      <td>True</td>\n",
       "      <td>['4 X 4', 'Piloto automático', 'Central multim...</td>\n",
       "      <td>88552.39</td>\n",
       "    </tr>\n",
       "    <tr>\n",
       "      <th>18</th>\n",
       "      <td>XC90</td>\n",
       "      <td>Motor 1.0 8v</td>\n",
       "      <td>2016</td>\n",
       "      <td>37086.0</td>\n",
       "      <td>False</td>\n",
       "      <td>['Cerraduras electricas', 'Ventanas eléctricas...</td>\n",
       "      <td>62696.69</td>\n",
       "    </tr>\n",
       "    <tr>\n",
       "      <th>19</th>\n",
       "      <td>RS 3 Sportback</td>\n",
       "      <td>Motor 3.0 32v</td>\n",
       "      <td>2017</td>\n",
       "      <td>15173.0</td>\n",
       "      <td>False</td>\n",
       "      <td>['4 X 4', 'Piloto automático', 'Central multim...</td>\n",
       "      <td>101726.30</td>\n",
       "    </tr>\n",
       "    <tr>\n",
       "      <th>20</th>\n",
       "      <td>Pajero Sport</td>\n",
       "      <td>Motor 1.0 8v</td>\n",
       "      <td>2002</td>\n",
       "      <td>101193.0</td>\n",
       "      <td>False</td>\n",
       "      <td>['Sensor de estacionamiento', 'Piloto automáti...</td>\n",
       "      <td>106147.38</td>\n",
       "    </tr>\n",
       "    <tr>\n",
       "      <th>21</th>\n",
       "      <td>Série 1 M</td>\n",
       "      <td>Motor V8</td>\n",
       "      <td>2019</td>\n",
       "      <td>NaN</td>\n",
       "      <td>True</td>\n",
       "      <td>['Control de estabilidad', 'Central multimedia...</td>\n",
       "      <td>94564.40</td>\n",
       "    </tr>\n",
       "    <tr>\n",
       "      <th>22</th>\n",
       "      <td>Lamborghini Obvious</td>\n",
       "      <td>Motor Diesel V6</td>\n",
       "      <td>1994</td>\n",
       "      <td>98079.0</td>\n",
       "      <td>False</td>\n",
       "      <td>['Llantas de aleación', 'Transmisión automátic...</td>\n",
       "      <td>133529.84</td>\n",
       "    </tr>\n",
       "    <tr>\n",
       "      <th>23</th>\n",
       "      <td>Effa Hafei Picape Baú</td>\n",
       "      <td>Motor Diesel</td>\n",
       "      <td>1991</td>\n",
       "      <td>102959.0</td>\n",
       "      <td>False</td>\n",
       "      <td>['Control de estabilidad', 'Panel digital', 'V...</td>\n",
       "      <td>125684.65</td>\n",
       "    </tr>\n",
       "    <tr>\n",
       "      <th>24</th>\n",
       "      <td>Lamborghini Murciélago</td>\n",
       "      <td>Motor 5.0 V8 Bi-Turbo</td>\n",
       "      <td>2019</td>\n",
       "      <td>NaN</td>\n",
       "      <td>True</td>\n",
       "      <td>['Frenos ABS', 'Transmisión automática', 'Aire...</td>\n",
       "      <td>121596.21</td>\n",
       "    </tr>\n",
       "    <tr>\n",
       "      <th>25</th>\n",
       "      <td>Up!</td>\n",
       "      <td>Motor Diesel V6</td>\n",
       "      <td>2019</td>\n",
       "      <td>NaN</td>\n",
       "      <td>True</td>\n",
       "      <td>['Sensor de estacionamiento', 'Ventanas eléctr...</td>\n",
       "      <td>71367.10</td>\n",
       "    </tr>\n",
       "    <tr>\n",
       "      <th>26</th>\n",
       "      <td>Fiesta Rocam Sedan</td>\n",
       "      <td>Motor 4.0 Turbo</td>\n",
       "      <td>2016</td>\n",
       "      <td>5795.0</td>\n",
       "      <td>False</td>\n",
       "      <td>['Aire condicionado', 'Asientos de cuero', 'Tr...</td>\n",
       "      <td>95347.75</td>\n",
       "    </tr>\n",
       "    <tr>\n",
       "      <th>27</th>\n",
       "      <td>Sandero Stepway</td>\n",
       "      <td>Motor 3.0 32v</td>\n",
       "      <td>2019</td>\n",
       "      <td>NaN</td>\n",
       "      <td>True</td>\n",
       "      <td>['Frenos ABS', 'Aire condicionado', 'Techo pan...</td>\n",
       "      <td>105432.84</td>\n",
       "    </tr>\n",
       "    <tr>\n",
       "      <th>28</th>\n",
       "      <td>Cayman S</td>\n",
       "      <td>Motor 3.0 32v</td>\n",
       "      <td>2002</td>\n",
       "      <td>58848.0</td>\n",
       "      <td>False</td>\n",
       "      <td>['Transmisión automática', 'Sensor de estacion...</td>\n",
       "      <td>57045.27</td>\n",
       "    </tr>\n",
       "    <tr>\n",
       "      <th>29</th>\n",
       "      <td>V40</td>\n",
       "      <td>Motor 4.0 Turbo</td>\n",
       "      <td>1991</td>\n",
       "      <td>94381.0</td>\n",
       "      <td>False</td>\n",
       "      <td>['Cámara de estacionamiento', 'Sensor de estac...</td>\n",
       "      <td>120432.70</td>\n",
       "    </tr>\n",
       "    <tr>\n",
       "      <th>30</th>\n",
       "      <td>Classe SLS AMG</td>\n",
       "      <td>Motor 1.0 8v</td>\n",
       "      <td>1997</td>\n",
       "      <td>30163.0</td>\n",
       "      <td>False</td>\n",
       "      <td>['Sensor de estacionamiento', 'Control de esta...</td>\n",
       "      <td>70707.20</td>\n",
       "    </tr>\n",
       "    <tr>\n",
       "      <th>31</th>\n",
       "      <td>Gol G4</td>\n",
       "      <td>Motor 2.0 16v</td>\n",
       "      <td>1995</td>\n",
       "      <td>53332.0</td>\n",
       "      <td>False</td>\n",
       "      <td>['Sensor crepuscular', '4 X 4', 'Ventanas eléc...</td>\n",
       "      <td>69105.18</td>\n",
       "    </tr>\n",
       "    <tr>\n",
       "      <th>32</th>\n",
       "      <td>Linea</td>\n",
       "      <td>Motor 1.0 8v</td>\n",
       "      <td>2018</td>\n",
       "      <td>17720.0</td>\n",
       "      <td>False</td>\n",
       "      <td>['Piloto automático', 'Panel digital', 'Ventan...</td>\n",
       "      <td>59358.69</td>\n",
       "    </tr>\n",
       "    <tr>\n",
       "      <th>33</th>\n",
       "      <td>Ford F100</td>\n",
       "      <td>Motor 2.0 16v</td>\n",
       "      <td>1991</td>\n",
       "      <td>33808.0</td>\n",
       "      <td>False</td>\n",
       "      <td>['Control de tracción', 'Sensor crepuscular', ...</td>\n",
       "      <td>65955.40</td>\n",
       "    </tr>\n",
       "    <tr>\n",
       "      <th>34</th>\n",
       "      <td>J2</td>\n",
       "      <td>Motor V8</td>\n",
       "      <td>2014</td>\n",
       "      <td>90684.0</td>\n",
       "      <td>False</td>\n",
       "      <td>['Techo panorámico', 'Sensor de estacionamient...</td>\n",
       "      <td>60017.03</td>\n",
       "    </tr>\n",
       "    <tr>\n",
       "      <th>35</th>\n",
       "      <td>Aston Martin DBS</td>\n",
       "      <td>Motor V8</td>\n",
       "      <td>1995</td>\n",
       "      <td>43975.0</td>\n",
       "      <td>False</td>\n",
       "      <td>['Techo panorámico', 'Piloto automático', 'Air...</td>\n",
       "      <td>118909.52</td>\n",
       "    </tr>\n",
       "    <tr>\n",
       "      <th>36</th>\n",
       "      <td>Pajero TR4</td>\n",
       "      <td>Motor 2.4 Turbo</td>\n",
       "      <td>2019</td>\n",
       "      <td>NaN</td>\n",
       "      <td>True</td>\n",
       "      <td>['Control de tracción', 'Asientos de cuero', '...</td>\n",
       "      <td>51606.59</td>\n",
       "    </tr>\n",
       "    <tr>\n",
       "      <th>37</th>\n",
       "      <td>Polo Sedan</td>\n",
       "      <td>Motor V6</td>\n",
       "      <td>2019</td>\n",
       "      <td>NaN</td>\n",
       "      <td>True</td>\n",
       "      <td>['Sensor de lluvia', 'Sensor crepuscular', 'Ai...</td>\n",
       "      <td>123281.87</td>\n",
       "    </tr>\n",
       "    <tr>\n",
       "      <th>38</th>\n",
       "      <td>California</td>\n",
       "      <td>Motor 1.0 8v</td>\n",
       "      <td>2009</td>\n",
       "      <td>5526.0</td>\n",
       "      <td>False</td>\n",
       "      <td>['Llantas de aleación', 'Aire condicionado', '...</td>\n",
       "      <td>69770.18</td>\n",
       "    </tr>\n",
       "    <tr>\n",
       "      <th>39</th>\n",
       "      <td>S60</td>\n",
       "      <td>Motor 2.4 Turbo</td>\n",
       "      <td>2019</td>\n",
       "      <td>NaN</td>\n",
       "      <td>True</td>\n",
       "      <td>['Techo panorámico', 'Frenos ABS', '4 X 4', 'A...</td>\n",
       "      <td>102609.54</td>\n",
       "    </tr>\n",
       "    <tr>\n",
       "      <th>40</th>\n",
       "      <td>Tucson</td>\n",
       "      <td>Motor 2.0 16v</td>\n",
       "      <td>2013</td>\n",
       "      <td>93415.0</td>\n",
       "      <td>False</td>\n",
       "      <td>['Ventanas eléctricas', 'Sensor crepuscular', ...</td>\n",
       "      <td>67997.19</td>\n",
       "    </tr>\n",
       "    <tr>\n",
       "      <th>41</th>\n",
       "      <td>HB20</td>\n",
       "      <td>Motor V6</td>\n",
       "      <td>2003</td>\n",
       "      <td>40762.0</td>\n",
       "      <td>False</td>\n",
       "      <td>['Sensor de lluvia', 'Cerraduras electricas', ...</td>\n",
       "      <td>135235.29</td>\n",
       "    </tr>\n",
       "    <tr>\n",
       "      <th>42</th>\n",
       "      <td>Optima</td>\n",
       "      <td>Motor 1.8 16v</td>\n",
       "      <td>2019</td>\n",
       "      <td>NaN</td>\n",
       "      <td>True</td>\n",
       "      <td>['Central multimedia', 'Aire condicionado', 'T...</td>\n",
       "      <td>86641.34</td>\n",
       "    </tr>\n",
       "    <tr>\n",
       "      <th>43</th>\n",
       "      <td>Logan</td>\n",
       "      <td>Motor 4.0 Turbo</td>\n",
       "      <td>2002</td>\n",
       "      <td>86302.0</td>\n",
       "      <td>False</td>\n",
       "      <td>['Cámara de estacionamiento', 'Ventanas eléctr...</td>\n",
       "      <td>136818.39</td>\n",
       "    </tr>\n",
       "    <tr>\n",
       "      <th>44</th>\n",
       "      <td>Range Rover Vogue</td>\n",
       "      <td>Motor 1.0 8v</td>\n",
       "      <td>2019</td>\n",
       "      <td>NaN</td>\n",
       "      <td>True</td>\n",
       "      <td>['4 X 4', 'Ventanas eléctricas', 'Llantas de a...</td>\n",
       "      <td>117626.73</td>\n",
       "    </tr>\n",
       "    <tr>\n",
       "      <th>45</th>\n",
       "      <td>Sonata</td>\n",
       "      <td>Motor 5.0 V8 Bi-Turbo</td>\n",
       "      <td>2002</td>\n",
       "      <td>9755.0</td>\n",
       "      <td>False</td>\n",
       "      <td>['Piloto automático', 'Aire condicionado', 'Ve...</td>\n",
       "      <td>56208.70</td>\n",
       "    </tr>\n",
       "    <tr>\n",
       "      <th>46</th>\n",
       "      <td>Ford New Fiesta Sedan</td>\n",
       "      <td>Motor 3.0 32v</td>\n",
       "      <td>2004</td>\n",
       "      <td>69945.0</td>\n",
       "      <td>False</td>\n",
       "      <td>['Techo panorámico', 'Panel digital', 'Aire co...</td>\n",
       "      <td>84222.65</td>\n",
       "    </tr>\n",
       "    <tr>\n",
       "      <th>47</th>\n",
       "      <td>Série 5 Gran Turismo</td>\n",
       "      <td>Motor 4.0 Turbo</td>\n",
       "      <td>2001</td>\n",
       "      <td>2395.0</td>\n",
       "      <td>False</td>\n",
       "      <td>['Control de tracción', 'Piloto automático', '...</td>\n",
       "      <td>90781.65</td>\n",
       "    </tr>\n",
       "    <tr>\n",
       "      <th>48</th>\n",
       "      <td>CR-V</td>\n",
       "      <td>Motor Diesel V8</td>\n",
       "      <td>2019</td>\n",
       "      <td>NaN</td>\n",
       "      <td>True</td>\n",
       "      <td>['Transmisión automática', 'Central multimedia...</td>\n",
       "      <td>64701.10</td>\n",
       "    </tr>\n",
       "    <tr>\n",
       "      <th>49</th>\n",
       "      <td>Ford EcoSport</td>\n",
       "      <td>Motor 1.0 8v</td>\n",
       "      <td>2003</td>\n",
       "      <td>80349.0</td>\n",
       "      <td>False</td>\n",
       "      <td>['Ventanas eléctricas', 'Piloto automático', '...</td>\n",
       "      <td>126350.49</td>\n",
       "    </tr>\n",
       "    <tr>\n",
       "      <th>50</th>\n",
       "      <td>Versa</td>\n",
       "      <td>Motor 3.0 32v</td>\n",
       "      <td>2009</td>\n",
       "      <td>85554.0</td>\n",
       "      <td>False</td>\n",
       "      <td>['Asientos de cuero', 'Aire condicionado', 'Ll...</td>\n",
       "      <td>148152.89</td>\n",
       "    </tr>\n",
       "    <tr>\n",
       "      <th>51</th>\n",
       "      <td>Classe E</td>\n",
       "      <td>Motor 1.0 8v</td>\n",
       "      <td>2006</td>\n",
       "      <td>50496.0</td>\n",
       "      <td>False</td>\n",
       "      <td>['Frenos ABS', 'Sensor de estacionamiento', 'C...</td>\n",
       "      <td>132298.83</td>\n",
       "    </tr>\n",
       "    <tr>\n",
       "      <th>52</th>\n",
       "      <td>Carnival</td>\n",
       "      <td>Motor V8</td>\n",
       "      <td>2000</td>\n",
       "      <td>67716.0</td>\n",
       "      <td>False</td>\n",
       "      <td>['Cerraduras electricas', 'Transmisión automát...</td>\n",
       "      <td>137627.63</td>\n",
       "    </tr>\n",
       "    <tr>\n",
       "      <th>53</th>\n",
       "      <td>Aston Martin V8 Vantage Roadster</td>\n",
       "      <td>Motor 2.4 Turbo</td>\n",
       "      <td>2006</td>\n",
       "      <td>93947.0</td>\n",
       "      <td>False</td>\n",
       "      <td>['Transmisión automática', 'Cámara de estacion...</td>\n",
       "      <td>80422.71</td>\n",
       "    </tr>\n",
       "    <tr>\n",
       "      <th>54</th>\n",
       "      <td>Hoggar</td>\n",
       "      <td>Motor 5.0 V8 Bi-Turbo</td>\n",
       "      <td>2010</td>\n",
       "      <td>35345.0</td>\n",
       "      <td>False</td>\n",
       "      <td>['Control de estabilidad', 'Asientos de cuero'...</td>\n",
       "      <td>56373.99</td>\n",
       "    </tr>\n",
       "    <tr>\n",
       "      <th>55</th>\n",
       "      <td>A1</td>\n",
       "      <td>Motor 5.0 V8 Bi-Turbo</td>\n",
       "      <td>1994</td>\n",
       "      <td>81007.0</td>\n",
       "      <td>False</td>\n",
       "      <td>['Panel digital', 'Transmisión automática', 'C...</td>\n",
       "      <td>70846.03</td>\n",
       "    </tr>\n",
       "    <tr>\n",
       "      <th>56</th>\n",
       "      <td>Aston Martin DB7 Vantage</td>\n",
       "      <td>Motor V6</td>\n",
       "      <td>2007</td>\n",
       "      <td>119513.0</td>\n",
       "      <td>False</td>\n",
       "      <td>['Sensor crepuscular', 'Piloto automático', 'T...</td>\n",
       "      <td>128694.23</td>\n",
       "    </tr>\n",
       "    <tr>\n",
       "      <th>57</th>\n",
       "      <td>CLA</td>\n",
       "      <td>Motor 1.0 8v</td>\n",
       "      <td>2019</td>\n",
       "      <td>NaN</td>\n",
       "      <td>True</td>\n",
       "      <td>['Central multimedia', 'Sensor de lluvia', 'Co...</td>\n",
       "      <td>133329.19</td>\n",
       "    </tr>\n",
       "    <tr>\n",
       "      <th>58</th>\n",
       "      <td>Accord</td>\n",
       "      <td>Motor V8</td>\n",
       "      <td>2019</td>\n",
       "      <td>NaN</td>\n",
       "      <td>True</td>\n",
       "      <td>['Sensor de estacionamiento', 'Aire condiciona...</td>\n",
       "      <td>131961.43</td>\n",
       "    </tr>\n",
       "    <tr>\n",
       "      <th>59</th>\n",
       "      <td>EXTRA 103EX</td>\n",
       "      <td>Motor 2.0 16v</td>\n",
       "      <td>2019</td>\n",
       "      <td>NaN</td>\n",
       "      <td>True</td>\n",
       "      <td>['Sensor de estacionamiento', 'Central multime...</td>\n",
       "      <td>112033.27</td>\n",
       "    </tr>\n",
       "    <tr>\n",
       "      <th>60</th>\n",
       "      <td>Sorento</td>\n",
       "      <td>Motor Diesel</td>\n",
       "      <td>2019</td>\n",
       "      <td>NaN</td>\n",
       "      <td>True</td>\n",
       "      <td>['Sensor de lluvia', 'Cámara de estacionamient...</td>\n",
       "      <td>81399.35</td>\n",
       "    </tr>\n",
       "    <tr>\n",
       "      <th>61</th>\n",
       "      <td>Tiggo</td>\n",
       "      <td>Motor 3.0 32v</td>\n",
       "      <td>2019</td>\n",
       "      <td>NaN</td>\n",
       "      <td>True</td>\n",
       "      <td>['Cámara de estacionamiento', 'Frenos ABS', 'P...</td>\n",
       "      <td>97163.10</td>\n",
       "    </tr>\n",
       "    <tr>\n",
       "      <th>62</th>\n",
       "      <td>New Fiesta Hatch</td>\n",
       "      <td>Motor Diesel</td>\n",
       "      <td>2017</td>\n",
       "      <td>118895.0</td>\n",
       "      <td>False</td>\n",
       "      <td>['Sensor de estacionamiento', 'Cerraduras elec...</td>\n",
       "      <td>66007.16</td>\n",
       "    </tr>\n",
       "    <tr>\n",
       "      <th>63</th>\n",
       "      <td>Jeep Renegade</td>\n",
       "      <td>Motor 5.0 V8 Bi-Turbo</td>\n",
       "      <td>2011</td>\n",
       "      <td>48509.0</td>\n",
       "      <td>False</td>\n",
       "      <td>['Ventanas eléctricas', 'Techo panorámico', 'A...</td>\n",
       "      <td>128776.22</td>\n",
       "    </tr>\n",
       "    <tr>\n",
       "      <th>64</th>\n",
       "      <td>Lamborghini Ankonian</td>\n",
       "      <td>Motor 2.0 16v</td>\n",
       "      <td>2001</td>\n",
       "      <td>100912.0</td>\n",
       "      <td>False</td>\n",
       "      <td>['Asientos de cuero', 'Cámara de estacionamien...</td>\n",
       "      <td>142623.02</td>\n",
       "    </tr>\n",
       "    <tr>\n",
       "      <th>65</th>\n",
       "      <td>Space Cross</td>\n",
       "      <td>Motor 5.0 V8 Bi-Turbo</td>\n",
       "      <td>1996</td>\n",
       "      <td>95649.0</td>\n",
       "      <td>False</td>\n",
       "      <td>['Techo panorámico', 'Ventanas eléctricas', 'S...</td>\n",
       "      <td>136930.13</td>\n",
       "    </tr>\n",
       "    <tr>\n",
       "      <th>66</th>\n",
       "      <td>Touareg</td>\n",
       "      <td>Motor V8</td>\n",
       "      <td>2019</td>\n",
       "      <td>NaN</td>\n",
       "      <td>True</td>\n",
       "      <td>['Control de estabilidad', 'Piloto automático'...</td>\n",
       "      <td>66526.61</td>\n",
       "    </tr>\n",
       "    <tr>\n",
       "      <th>67</th>\n",
       "      <td>Classe M</td>\n",
       "      <td>Motor 1.0 8v</td>\n",
       "      <td>1994</td>\n",
       "      <td>90495.0</td>\n",
       "      <td>False</td>\n",
       "      <td>['Central multimedia', 'Asientos de cuero', 'L...</td>\n",
       "      <td>114154.87</td>\n",
       "    </tr>\n",
       "    <tr>\n",
       "      <th>68</th>\n",
       "      <td>Lancer Evolution X</td>\n",
       "      <td>Motor Diesel V6</td>\n",
       "      <td>2019</td>\n",
       "      <td>NaN</td>\n",
       "      <td>True</td>\n",
       "      <td>['Ventanas eléctricas', 'Transmisión automátic...</td>\n",
       "      <td>142392.75</td>\n",
       "    </tr>\n",
       "    <tr>\n",
       "      <th>69</th>\n",
       "      <td>Kangoo Express</td>\n",
       "      <td>Motor Diesel</td>\n",
       "      <td>2007</td>\n",
       "      <td>29132.0</td>\n",
       "      <td>False</td>\n",
       "      <td>['Asientos de cuero', 'Transmisión automática'...</td>\n",
       "      <td>146716.91</td>\n",
       "    </tr>\n",
       "    <tr>\n",
       "      <th>70</th>\n",
       "      <td>SW4</td>\n",
       "      <td>Motor Diesel V6</td>\n",
       "      <td>1994</td>\n",
       "      <td>23802.0</td>\n",
       "      <td>False</td>\n",
       "      <td>['Sensor de lluvia', 'Asientos de cuero', 'Con...</td>\n",
       "      <td>122485.68</td>\n",
       "    </tr>\n",
       "    <tr>\n",
       "      <th>71</th>\n",
       "      <td>Cadillac ELR</td>\n",
       "      <td>Motor 1.0 8v</td>\n",
       "      <td>2007</td>\n",
       "      <td>84992.0</td>\n",
       "      <td>False</td>\n",
       "      <td>['Sensor crepuscular', 'Cerraduras electricas'...</td>\n",
       "      <td>97951.03</td>\n",
       "    </tr>\n",
       "    <tr>\n",
       "      <th>72</th>\n",
       "      <td>Doblò</td>\n",
       "      <td>Motor 1.8 16v</td>\n",
       "      <td>1997</td>\n",
       "      <td>54395.0</td>\n",
       "      <td>False</td>\n",
       "      <td>['Cámara de estacionamiento', 'Techo panorámic...</td>\n",
       "      <td>78283.49</td>\n",
       "    </tr>\n",
       "    <tr>\n",
       "      <th>73</th>\n",
       "      <td>Lamborghini Egoista</td>\n",
       "      <td>Motor 3.0 32v</td>\n",
       "      <td>2006</td>\n",
       "      <td>26731.0</td>\n",
       "      <td>False</td>\n",
       "      <td>['Llantas de aleación', 'Control de tracción',...</td>\n",
       "      <td>83434.04</td>\n",
       "    </tr>\n",
       "    <tr>\n",
       "      <th>74</th>\n",
       "      <td>Fit</td>\n",
       "      <td>Motor Diesel</td>\n",
       "      <td>2013</td>\n",
       "      <td>44329.0</td>\n",
       "      <td>False</td>\n",
       "      <td>['Frenos ABS', 'Cámara de estacionamiento', 'T...</td>\n",
       "      <td>77836.23</td>\n",
       "    </tr>\n",
       "    <tr>\n",
       "      <th>75</th>\n",
       "      <td>C5</td>\n",
       "      <td>Motor 2.0 16v</td>\n",
       "      <td>1994</td>\n",
       "      <td>118236.0</td>\n",
       "      <td>False</td>\n",
       "      <td>['Panel digital', 'Techo panorámico', 'Piloto ...</td>\n",
       "      <td>60813.92</td>\n",
       "    </tr>\n",
       "    <tr>\n",
       "      <th>76</th>\n",
       "      <td>Celer Hatch</td>\n",
       "      <td>Motor V8</td>\n",
       "      <td>2008</td>\n",
       "      <td>113808.0</td>\n",
       "      <td>False</td>\n",
       "      <td>['Control de estabilidad', 'Transmisión automá...</td>\n",
       "      <td>91353.86</td>\n",
       "    </tr>\n",
       "    <tr>\n",
       "      <th>77</th>\n",
       "      <td>HB20S</td>\n",
       "      <td>Motor V8</td>\n",
       "      <td>2008</td>\n",
       "      <td>610.0</td>\n",
       "      <td>False</td>\n",
       "      <td>['Techo panorámico', 'Llantas de aleación', 'C...</td>\n",
       "      <td>116281.21</td>\n",
       "    </tr>\n",
       "    <tr>\n",
       "      <th>78</th>\n",
       "      <td>Cielo Hatch</td>\n",
       "      <td>Motor Diesel</td>\n",
       "      <td>2019</td>\n",
       "      <td>NaN</td>\n",
       "      <td>True</td>\n",
       "      <td>['Panel digital', 'Central multimedia', 'Cámar...</td>\n",
       "      <td>145197.70</td>\n",
       "    </tr>\n",
       "    <tr>\n",
       "      <th>79</th>\n",
       "      <td>Livina</td>\n",
       "      <td>Motor 2.0 16v</td>\n",
       "      <td>2019</td>\n",
       "      <td>NaN</td>\n",
       "      <td>True</td>\n",
       "      <td>['Sensor crepuscular', 'Cámara de estacionamie...</td>\n",
       "      <td>50742.10</td>\n",
       "    </tr>\n",
       "    <tr>\n",
       "      <th>80</th>\n",
       "      <td>Ducato</td>\n",
       "      <td>Motor 5.0 V8 Bi-Turbo</td>\n",
       "      <td>1999</td>\n",
       "      <td>12887.0</td>\n",
       "      <td>False</td>\n",
       "      <td>['Sensor de lluvia', 'Panel digital', 'Sensor ...</td>\n",
       "      <td>73033.53</td>\n",
       "    </tr>\n",
       "    <tr>\n",
       "      <th>81</th>\n",
       "      <td>March</td>\n",
       "      <td>Motor V6</td>\n",
       "      <td>2007</td>\n",
       "      <td>79607.0</td>\n",
       "      <td>False</td>\n",
       "      <td>['Asientos de cuero', 'Piloto automático', 'Se...</td>\n",
       "      <td>54332.87</td>\n",
       "    </tr>\n",
       "    <tr>\n",
       "      <th>82</th>\n",
       "      <td>Cadillac XTS sedan</td>\n",
       "      <td>Motor Diesel V6</td>\n",
       "      <td>1993</td>\n",
       "      <td>90924.0</td>\n",
       "      <td>False</td>\n",
       "      <td>['Aire condicionado', 'Transmisión automática'...</td>\n",
       "      <td>52207.45</td>\n",
       "    </tr>\n",
       "    <tr>\n",
       "      <th>83</th>\n",
       "      <td>Lamborghini Centenario</td>\n",
       "      <td>Motor V6</td>\n",
       "      <td>1995</td>\n",
       "      <td>42733.0</td>\n",
       "      <td>False</td>\n",
       "      <td>['Central multimedia', 'Ventanas eléctricas', ...</td>\n",
       "      <td>63578.50</td>\n",
       "    </tr>\n",
       "    <tr>\n",
       "      <th>84</th>\n",
       "      <td>Hilux</td>\n",
       "      <td>Motor 5.0 V8 Bi-Turbo</td>\n",
       "      <td>2019</td>\n",
       "      <td>NaN</td>\n",
       "      <td>True</td>\n",
       "      <td>['4 X 4', 'Piloto automático', 'Techo panorámi...</td>\n",
       "      <td>64507.72</td>\n",
       "    </tr>\n",
       "    <tr>\n",
       "      <th>85</th>\n",
       "      <td>Grand Siena</td>\n",
       "      <td>Motor Diesel V8</td>\n",
       "      <td>2019</td>\n",
       "      <td>NaN</td>\n",
       "      <td>True</td>\n",
       "      <td>['Asientos de cuero', 'Panel digital', 'Sensor...</td>\n",
       "      <td>115075.59</td>\n",
       "    </tr>\n",
       "    <tr>\n",
       "      <th>86</th>\n",
       "      <td>Symbol</td>\n",
       "      <td>Motor Diesel</td>\n",
       "      <td>2016</td>\n",
       "      <td>117714.0</td>\n",
       "      <td>False</td>\n",
       "      <td>['4 X 4', 'Piloto automático', 'Sensor crepusc...</td>\n",
       "      <td>133030.60</td>\n",
       "    </tr>\n",
       "    <tr>\n",
       "      <th>87</th>\n",
       "      <td>Aston Martin V12 GT Zagato</td>\n",
       "      <td>Motor 4.0 Turbo</td>\n",
       "      <td>2011</td>\n",
       "      <td>113885.0</td>\n",
       "      <td>False</td>\n",
       "      <td>['Central multimedia', 'Piloto automático', 'S...</td>\n",
       "      <td>141591.86</td>\n",
       "    </tr>\n",
       "    <tr>\n",
       "      <th>88</th>\n",
       "      <td>Fusion</td>\n",
       "      <td>Motor 1.8 16v</td>\n",
       "      <td>2019</td>\n",
       "      <td>NaN</td>\n",
       "      <td>True</td>\n",
       "      <td>['Control de tracción', 'Transmisión automátic...</td>\n",
       "      <td>100380.28</td>\n",
       "    </tr>\n",
       "    <tr>\n",
       "      <th>89</th>\n",
       "      <td>A4 Sedan</td>\n",
       "      <td>Motor Diesel</td>\n",
       "      <td>2002</td>\n",
       "      <td>30511.0</td>\n",
       "      <td>False</td>\n",
       "      <td>['Cámara de estacionamiento', '4 X 4', 'Cerrad...</td>\n",
       "      <td>96369.04</td>\n",
       "    </tr>\n",
       "    <tr>\n",
       "      <th>90</th>\n",
       "      <td>Xsara Picasso</td>\n",
       "      <td>Motor 2.0 16v</td>\n",
       "      <td>2013</td>\n",
       "      <td>74867.0</td>\n",
       "      <td>False</td>\n",
       "      <td>['Sensor de lluvia', 'Techo panorámico', 'Cent...</td>\n",
       "      <td>142603.84</td>\n",
       "    </tr>\n",
       "    <tr>\n",
       "      <th>91</th>\n",
       "      <td>207 SW</td>\n",
       "      <td>Motor 3.0 32v</td>\n",
       "      <td>2017</td>\n",
       "      <td>119760.0</td>\n",
       "      <td>False</td>\n",
       "      <td>['Control de estabilidad', 'Cerraduras electri...</td>\n",
       "      <td>117709.67</td>\n",
       "    </tr>\n",
       "    <tr>\n",
       "      <th>92</th>\n",
       "      <td>Star</td>\n",
       "      <td>Motor V6</td>\n",
       "      <td>2016</td>\n",
       "      <td>8356.0</td>\n",
       "      <td>False</td>\n",
       "      <td>['Cámara de estacionamiento', '4 X 4', 'Centra...</td>\n",
       "      <td>102241.54</td>\n",
       "    </tr>\n",
       "    <tr>\n",
       "      <th>93</th>\n",
       "      <td>Doblò Cargo</td>\n",
       "      <td>Motor 3.0 32v</td>\n",
       "      <td>2008</td>\n",
       "      <td>64247.0</td>\n",
       "      <td>False</td>\n",
       "      <td>['Frenos ABS', 'Techo panorámico', 'Ventanas e...</td>\n",
       "      <td>96065.38</td>\n",
       "    </tr>\n",
       "    <tr>\n",
       "      <th>94</th>\n",
       "      <td>Cadillac CTS</td>\n",
       "      <td>Motor 1.8 16v</td>\n",
       "      <td>2018</td>\n",
       "      <td>88661.0</td>\n",
       "      <td>False</td>\n",
       "      <td>['Cerraduras electricas', 'Sensor de lluvia', ...</td>\n",
       "      <td>53894.61</td>\n",
       "    </tr>\n",
       "    <tr>\n",
       "      <th>95</th>\n",
       "      <td>Cayenne</td>\n",
       "      <td>Motor 1.0 8v</td>\n",
       "      <td>2003</td>\n",
       "      <td>4539.0</td>\n",
       "      <td>False</td>\n",
       "      <td>['Control de tracción', 'Piloto automático', '...</td>\n",
       "      <td>123911.78</td>\n",
       "    </tr>\n",
       "    <tr>\n",
       "      <th>96</th>\n",
       "      <td>Fox</td>\n",
       "      <td>Motor 4.0 Turbo</td>\n",
       "      <td>2003</td>\n",
       "      <td>110116.0</td>\n",
       "      <td>False</td>\n",
       "      <td>['Piloto automático', 'Transmisión automática'...</td>\n",
       "      <td>101996.35</td>\n",
       "    </tr>\n",
       "    <tr>\n",
       "      <th>97</th>\n",
       "      <td>Tiida Hatch</td>\n",
       "      <td>Motor Diesel V6</td>\n",
       "      <td>2004</td>\n",
       "      <td>33215.0</td>\n",
       "      <td>False</td>\n",
       "      <td>['Techo panorámico', 'Cerraduras electricas', ...</td>\n",
       "      <td>83431.66</td>\n",
       "    </tr>\n",
       "    <tr>\n",
       "      <th>98</th>\n",
       "      <td>Dodge Charger</td>\n",
       "      <td>Motor 2.4 Turbo</td>\n",
       "      <td>2010</td>\n",
       "      <td>92001.0</td>\n",
       "      <td>False</td>\n",
       "      <td>['Ventanas eléctricas', 'Sensor crepuscular', ...</td>\n",
       "      <td>122975.63</td>\n",
       "    </tr>\n",
       "    <tr>\n",
       "      <th>99</th>\n",
       "      <td>Face</td>\n",
       "      <td>Motor V8</td>\n",
       "      <td>2019</td>\n",
       "      <td>NaN</td>\n",
       "      <td>True</td>\n",
       "      <td>['Control de estabilidad', 'Ventanas eléctrica...</td>\n",
       "      <td>93227.73</td>\n",
       "    </tr>\n",
       "    <tr>\n",
       "      <th>100</th>\n",
       "      <td>Prius</td>\n",
       "      <td>Motor 3.0 32v</td>\n",
       "      <td>2006</td>\n",
       "      <td>81708.0</td>\n",
       "      <td>False</td>\n",
       "      <td>['Llantas de aleación', 'Asientos de cuero', '...</td>\n",
       "      <td>58762.65</td>\n",
       "    </tr>\n",
       "    <tr>\n",
       "      <th>101</th>\n",
       "      <td>Idea</td>\n",
       "      <td>Motor V6</td>\n",
       "      <td>2001</td>\n",
       "      <td>70641.0</td>\n",
       "      <td>False</td>\n",
       "      <td>['Central multimedia', 'Piloto automático', 'C...</td>\n",
       "      <td>139549.67</td>\n",
       "    </tr>\n",
       "    <tr>\n",
       "      <th>102</th>\n",
       "      <td>A8</td>\n",
       "      <td>Motor 2.0 16v</td>\n",
       "      <td>2019</td>\n",
       "      <td>NaN</td>\n",
       "      <td>True</td>\n",
       "      <td>['Panel digital', 'Techo panorámico', 'Piloto ...</td>\n",
       "      <td>122016.42</td>\n",
       "    </tr>\n",
       "    <tr>\n",
       "      <th>103</th>\n",
       "      <td>Série 1 Cabrio</td>\n",
       "      <td>Motor 3.0 32v</td>\n",
       "      <td>2015</td>\n",
       "      <td>91277.0</td>\n",
       "      <td>False</td>\n",
       "      <td>['Ventanas eléctricas', 'Cerraduras electricas...</td>\n",
       "      <td>72731.98</td>\n",
       "    </tr>\n",
       "    <tr>\n",
       "      <th>104</th>\n",
       "      <td>Edge</td>\n",
       "      <td>Motor V6</td>\n",
       "      <td>2018</td>\n",
       "      <td>26544.0</td>\n",
       "      <td>False</td>\n",
       "      <td>['Frenos ABS', 'Control de tracción', 'Sensor ...</td>\n",
       "      <td>88416.54</td>\n",
       "    </tr>\n",
       "    <tr>\n",
       "      <th>105</th>\n",
       "      <td>Cadillac ATS sedan</td>\n",
       "      <td>Motor 1.8 16v</td>\n",
       "      <td>2017</td>\n",
       "      <td>52596.0</td>\n",
       "      <td>False</td>\n",
       "      <td>['Panel digital', 'Ventanas eléctricas', 'Tech...</td>\n",
       "      <td>73873.42</td>\n",
       "    </tr>\n",
       "    <tr>\n",
       "      <th>106</th>\n",
       "      <td>Lamborghini Asterion LPI 910-4</td>\n",
       "      <td>Motor 5.0 V8 Bi-Turbo</td>\n",
       "      <td>1992</td>\n",
       "      <td>47503.0</td>\n",
       "      <td>False</td>\n",
       "      <td>['Aire condicionado', 'Panel digital', 'Contro...</td>\n",
       "      <td>70709.34</td>\n",
       "    </tr>\n",
       "    <tr>\n",
       "      <th>107</th>\n",
       "      <td>Frontier</td>\n",
       "      <td>Motor V8</td>\n",
       "      <td>2001</td>\n",
       "      <td>89056.0</td>\n",
       "      <td>False</td>\n",
       "      <td>['Transmisión automática', 'Llantas de aleació...</td>\n",
       "      <td>115306.50</td>\n",
       "    </tr>\n",
       "    <tr>\n",
       "      <th>108</th>\n",
       "      <td>Série 3 Sedã</td>\n",
       "      <td>Motor 3.0 32v</td>\n",
       "      <td>1993</td>\n",
       "      <td>28834.0</td>\n",
       "      <td>False</td>\n",
       "      <td>['Control de tracción', 'Control de estabilida...</td>\n",
       "      <td>55924.63</td>\n",
       "    </tr>\n",
       "    <tr>\n",
       "      <th>109</th>\n",
       "      <td>Lamborghini LM002</td>\n",
       "      <td>Motor 1.8 16v</td>\n",
       "      <td>1995</td>\n",
       "      <td>110564.0</td>\n",
       "      <td>False</td>\n",
       "      <td>['Asientos de cuero', 'Frenos ABS', 'Central m...</td>\n",
       "      <td>85052.26</td>\n",
       "    </tr>\n",
       "    <tr>\n",
       "      <th>110</th>\n",
       "      <td>Cadillac XLR</td>\n",
       "      <td>Motor Diesel V8</td>\n",
       "      <td>2003</td>\n",
       "      <td>56638.0</td>\n",
       "      <td>False</td>\n",
       "      <td>['Sensor crepuscular', 'Techo panorámico', 'Se...</td>\n",
       "      <td>56646.34</td>\n",
       "    </tr>\n",
       "    <tr>\n",
       "      <th>111</th>\n",
       "      <td>A4 Avant</td>\n",
       "      <td>Motor Diesel</td>\n",
       "      <td>2014</td>\n",
       "      <td>17357.0</td>\n",
       "      <td>False</td>\n",
       "      <td>['Techo panorámico', '4 X 4', 'Asientos de cue...</td>\n",
       "      <td>138946.88</td>\n",
       "    </tr>\n",
       "    <tr>\n",
       "      <th>112</th>\n",
       "      <td>EcoSport</td>\n",
       "      <td>Motor 4.0 Turbo</td>\n",
       "      <td>2008</td>\n",
       "      <td>74015.0</td>\n",
       "      <td>False</td>\n",
       "      <td>['Piloto automático', 'Sensor de estacionamien...</td>\n",
       "      <td>108256.72</td>\n",
       "    </tr>\n",
       "    <tr>\n",
       "      <th>113</th>\n",
       "      <td>J3</td>\n",
       "      <td>Motor 1.8 16v</td>\n",
       "      <td>2013</td>\n",
       "      <td>15196.0</td>\n",
       "      <td>False</td>\n",
       "      <td>['Control de estabilidad', '4 X 4', 'Cámara de...</td>\n",
       "      <td>58979.30</td>\n",
       "    </tr>\n",
       "    <tr>\n",
       "      <th>114</th>\n",
       "      <td>Q3</td>\n",
       "      <td>Motor 3.0 32v</td>\n",
       "      <td>2019</td>\n",
       "      <td>NaN</td>\n",
       "      <td>True</td>\n",
       "      <td>['Control de estabilidad', 'Asientos de cuero'...</td>\n",
       "      <td>114727.68</td>\n",
       "    </tr>\n",
       "    <tr>\n",
       "      <th>115</th>\n",
       "      <td>Aston Martin V8 Vantage</td>\n",
       "      <td>Motor V8</td>\n",
       "      <td>2017</td>\n",
       "      <td>10821.0</td>\n",
       "      <td>False</td>\n",
       "      <td>['Techo panorámico', 'Control de tracción', 'P...</td>\n",
       "      <td>139661.48</td>\n",
       "    </tr>\n",
       "    <tr>\n",
       "      <th>116</th>\n",
       "      <td>Z4 Roadster</td>\n",
       "      <td>Motor 3.0 32v</td>\n",
       "      <td>2019</td>\n",
       "      <td>NaN</td>\n",
       "      <td>True</td>\n",
       "      <td>['Central multimedia', 'Transmisión automática...</td>\n",
       "      <td>80382.24</td>\n",
       "    </tr>\n",
       "    <tr>\n",
       "      <th>117</th>\n",
       "      <td>Lamborghini Ferruccio</td>\n",
       "      <td>Motor 3.0 32v</td>\n",
       "      <td>2019</td>\n",
       "      <td>NaN</td>\n",
       "      <td>True</td>\n",
       "      <td>['Ventanas eléctricas', 'Piloto automático', '...</td>\n",
       "      <td>149157.17</td>\n",
       "    </tr>\n",
       "    <tr>\n",
       "      <th>118</th>\n",
       "      <td>Ford Ka+</td>\n",
       "      <td>Motor 1.8 16v</td>\n",
       "      <td>2006</td>\n",
       "      <td>9595.0</td>\n",
       "      <td>False</td>\n",
       "      <td>['Sensor crepuscular', 'Piloto automático', 'C...</td>\n",
       "      <td>87830.41</td>\n",
       "    </tr>\n",
       "    <tr>\n",
       "      <th>119</th>\n",
       "      <td>Silver Shadow</td>\n",
       "      <td>Motor Diesel</td>\n",
       "      <td>2015</td>\n",
       "      <td>99052.0</td>\n",
       "      <td>False</td>\n",
       "      <td>['4 X 4', 'Central multimedia', 'Aire condicio...</td>\n",
       "      <td>143568.22</td>\n",
       "    </tr>\n",
       "    <tr>\n",
       "      <th>120</th>\n",
       "      <td>Classe C 63 AMG Touring</td>\n",
       "      <td>Motor Diesel V8</td>\n",
       "      <td>2007</td>\n",
       "      <td>52389.0</td>\n",
       "      <td>False</td>\n",
       "      <td>['Central multimedia', 'Piloto automático', 'F...</td>\n",
       "      <td>138171.85</td>\n",
       "    </tr>\n",
       "    <tr>\n",
       "      <th>121</th>\n",
       "      <td>Discovery 4</td>\n",
       "      <td>Motor 4.0 Turbo</td>\n",
       "      <td>2005</td>\n",
       "      <td>119945.0</td>\n",
       "      <td>False</td>\n",
       "      <td>['Frenos ABS', 'Llantas de aleación', 'Sensor ...</td>\n",
       "      <td>115784.95</td>\n",
       "    </tr>\n",
       "    <tr>\n",
       "      <th>122</th>\n",
       "      <td>Veloster</td>\n",
       "      <td>Motor Diesel V8</td>\n",
       "      <td>2017</td>\n",
       "      <td>96005.0</td>\n",
       "      <td>False</td>\n",
       "      <td>['Aire condicionado', 'Central multimedia', 'A...</td>\n",
       "      <td>146508.99</td>\n",
       "    </tr>\n",
       "    <tr>\n",
       "      <th>123</th>\n",
       "      <td>Classe C</td>\n",
       "      <td>Motor Diesel V6</td>\n",
       "      <td>1998</td>\n",
       "      <td>31639.0</td>\n",
       "      <td>False</td>\n",
       "      <td>['Frenos ABS', 'Sensor de lluvia', 'Central mu...</td>\n",
       "      <td>137670.23</td>\n",
       "    </tr>\n",
       "    <tr>\n",
       "      <th>124</th>\n",
       "      <td>Camry</td>\n",
       "      <td>Motor Diesel</td>\n",
       "      <td>2019</td>\n",
       "      <td>NaN</td>\n",
       "      <td>True</td>\n",
       "      <td>['Cerraduras electricas', 'Llantas de aleación...</td>\n",
       "      <td>138597.27</td>\n",
       "    </tr>\n",
       "    <tr>\n",
       "      <th>125</th>\n",
       "      <td>C5 Tourer</td>\n",
       "      <td>Motor Diesel V6</td>\n",
       "      <td>1999</td>\n",
       "      <td>80187.0</td>\n",
       "      <td>False</td>\n",
       "      <td>['Llantas de aleación', 'Sensor de lluvia', 'P...</td>\n",
       "      <td>147627.81</td>\n",
       "    </tr>\n",
       "    <tr>\n",
       "      <th>126</th>\n",
       "      <td>R8 GT</td>\n",
       "      <td>Motor 4.0 Turbo</td>\n",
       "      <td>2019</td>\n",
       "      <td>NaN</td>\n",
       "      <td>True</td>\n",
       "      <td>['Llantas de aleación', 'Transmisión automátic...</td>\n",
       "      <td>62999.02</td>\n",
       "    </tr>\n",
       "    <tr>\n",
       "      <th>127</th>\n",
       "      <td>Bongo</td>\n",
       "      <td>Motor Diesel V8</td>\n",
       "      <td>2009</td>\n",
       "      <td>58212.0</td>\n",
       "      <td>False</td>\n",
       "      <td>['Ventanas eléctricas', 'Techo panorámico', 'P...</td>\n",
       "      <td>91242.44</td>\n",
       "    </tr>\n",
       "    <tr>\n",
       "      <th>128</th>\n",
       "      <td>ASX</td>\n",
       "      <td>Motor Diesel V8</td>\n",
       "      <td>2003</td>\n",
       "      <td>61672.0</td>\n",
       "      <td>False</td>\n",
       "      <td>['Aire condicionado', 'Sensor crepuscular', 'L...</td>\n",
       "      <td>149489.92</td>\n",
       "    </tr>\n",
       "    <tr>\n",
       "      <th>129</th>\n",
       "      <td>Cadillac SRX</td>\n",
       "      <td>Motor 5.0 V8 Bi-Turbo</td>\n",
       "      <td>1994</td>\n",
       "      <td>32017.0</td>\n",
       "      <td>False</td>\n",
       "      <td>['Panel digital', 'Piloto automático', 'Contro...</td>\n",
       "      <td>63529.95</td>\n",
       "    </tr>\n",
       "    <tr>\n",
       "      <th>130</th>\n",
       "      <td>Classe CL</td>\n",
       "      <td>Motor V8</td>\n",
       "      <td>2019</td>\n",
       "      <td>NaN</td>\n",
       "      <td>True</td>\n",
       "      <td>['Central multimedia', 'Transmisión automática...</td>\n",
       "      <td>58525.41</td>\n",
       "    </tr>\n",
       "    <tr>\n",
       "      <th>131</th>\n",
       "      <td>500 Abarth</td>\n",
       "      <td>Motor V6</td>\n",
       "      <td>1994</td>\n",
       "      <td>56944.0</td>\n",
       "      <td>False</td>\n",
       "      <td>['4 X 4', 'Techo panorámico', 'Control de trac...</td>\n",
       "      <td>90345.05</td>\n",
       "    </tr>\n",
       "    <tr>\n",
       "      <th>132</th>\n",
       "      <td>Aston Martin Cygnet</td>\n",
       "      <td>Motor 5.0 V8 Bi-Turbo</td>\n",
       "      <td>2019</td>\n",
       "      <td>NaN</td>\n",
       "      <td>True</td>\n",
       "      <td>['Panel digital', 'Aire condicionado', 'Sensor...</td>\n",
       "      <td>147770.87</td>\n",
       "    </tr>\n",
       "    <tr>\n",
       "      <th>133</th>\n",
       "      <td>Cadillac STS</td>\n",
       "      <td>Motor 4.0 Turbo</td>\n",
       "      <td>2015</td>\n",
       "      <td>86519.0</td>\n",
       "      <td>False</td>\n",
       "      <td>['Panel digital', 'Asientos de cuero', 'Sensor...</td>\n",
       "      <td>106617.71</td>\n",
       "    </tr>\n",
       "    <tr>\n",
       "      <th>134</th>\n",
       "      <td>Aston Martin DB9</td>\n",
       "      <td>Motor 1.8 16v</td>\n",
       "      <td>1996</td>\n",
       "      <td>4821.0</td>\n",
       "      <td>False</td>\n",
       "      <td>['Aire condicionado', 'Ventanas eléctricas', '...</td>\n",
       "      <td>104929.88</td>\n",
       "    </tr>\n",
       "    <tr>\n",
       "      <th>135</th>\n",
       "      <td>NX 200t</td>\n",
       "      <td>Motor 2.4 Turbo</td>\n",
       "      <td>1997</td>\n",
       "      <td>101025.0</td>\n",
       "      <td>False</td>\n",
       "      <td>['Control de estabilidad', 'Panel digital', 'A...</td>\n",
       "      <td>100712.45</td>\n",
       "    </tr>\n",
       "    <tr>\n",
       "      <th>136</th>\n",
       "      <td>Aston Martin One-77</td>\n",
       "      <td>Motor V6</td>\n",
       "      <td>1993</td>\n",
       "      <td>30705.0</td>\n",
       "      <td>False</td>\n",
       "      <td>['Sensor de estacionamiento', 'Llantas de alea...</td>\n",
       "      <td>141982.93</td>\n",
       "    </tr>\n",
       "    <tr>\n",
       "      <th>137</th>\n",
       "      <td>Lamborghini Veneno</td>\n",
       "      <td>Motor 3.0 32v</td>\n",
       "      <td>2019</td>\n",
       "      <td>NaN</td>\n",
       "      <td>True</td>\n",
       "      <td>['4 X 4', 'Sensor de estacionamiento', 'Transm...</td>\n",
       "      <td>104038.79</td>\n",
       "    </tr>\n",
       "    <tr>\n",
       "      <th>138</th>\n",
       "      <td>Sentra</td>\n",
       "      <td>Motor 2.0 16v</td>\n",
       "      <td>1992</td>\n",
       "      <td>32555.0</td>\n",
       "      <td>False</td>\n",
       "      <td>['Piloto automático', 'Sensor crepuscular', 'C...</td>\n",
       "      <td>88501.54</td>\n",
       "    </tr>\n",
       "    <tr>\n",
       "      <th>139</th>\n",
       "      <td>Jumper</td>\n",
       "      <td>Motor 2.4 Turbo</td>\n",
       "      <td>1995</td>\n",
       "      <td>103389.0</td>\n",
       "      <td>False</td>\n",
       "      <td>['Aire condicionado', 'Llantas de aleación', '...</td>\n",
       "      <td>79782.02</td>\n",
       "    </tr>\n",
       "    <tr>\n",
       "      <th>140</th>\n",
       "      <td>i30</td>\n",
       "      <td>Motor 1.8 16v</td>\n",
       "      <td>2019</td>\n",
       "      <td>NaN</td>\n",
       "      <td>True</td>\n",
       "      <td>['Transmisión automática', 'Control de estabil...</td>\n",
       "      <td>86224.10</td>\n",
       "    </tr>\n",
       "    <tr>\n",
       "      <th>141</th>\n",
       "      <td>X6</td>\n",
       "      <td>Motor Diesel V6</td>\n",
       "      <td>1990</td>\n",
       "      <td>55289.0</td>\n",
       "      <td>False</td>\n",
       "      <td>['Cámara de estacionamiento', 'Cerraduras elec...</td>\n",
       "      <td>103596.18</td>\n",
       "    </tr>\n",
       "    <tr>\n",
       "      <th>142</th>\n",
       "      <td>Voyage</td>\n",
       "      <td>Motor 5.0 V8 Bi-Turbo</td>\n",
       "      <td>2019</td>\n",
       "      <td>NaN</td>\n",
       "      <td>True</td>\n",
       "      <td>['Aire condicionado', 'Sensor de estacionamien...</td>\n",
       "      <td>148996.47</td>\n",
       "    </tr>\n",
       "    <tr>\n",
       "      <th>143</th>\n",
       "      <td>Phantom I Phantom II</td>\n",
       "      <td>Motor 1.8 16v</td>\n",
       "      <td>2019</td>\n",
       "      <td>NaN</td>\n",
       "      <td>True</td>\n",
       "      <td>['Piloto automático', 'Frenos ABS', 'Panel dig...</td>\n",
       "      <td>60948.01</td>\n",
       "    </tr>\n",
       "    <tr>\n",
       "      <th>144</th>\n",
       "      <td>Passat Variant</td>\n",
       "      <td>Motor 1.0 8v</td>\n",
       "      <td>1991</td>\n",
       "      <td>115930.0</td>\n",
       "      <td>False</td>\n",
       "      <td>['Frenos ABS', 'Llantas de aleación', 'Piloto ...</td>\n",
       "      <td>69535.44</td>\n",
       "    </tr>\n",
       "    <tr>\n",
       "      <th>145</th>\n",
       "      <td>Clio</td>\n",
       "      <td>Motor Diesel</td>\n",
       "      <td>1990</td>\n",
       "      <td>66437.0</td>\n",
       "      <td>False</td>\n",
       "      <td>['4 X 4', 'Transmisión automática', 'Frenos AB...</td>\n",
       "      <td>111130.33</td>\n",
       "    </tr>\n",
       "    <tr>\n",
       "      <th>146</th>\n",
       "      <td>Classe G</td>\n",
       "      <td>Motor Diesel V6</td>\n",
       "      <td>2012</td>\n",
       "      <td>96800.0</td>\n",
       "      <td>False</td>\n",
       "      <td>['Control de estabilidad', 'Central multimedia...</td>\n",
       "      <td>65847.69</td>\n",
       "    </tr>\n",
       "    <tr>\n",
       "      <th>147</th>\n",
       "      <td>Silver Ghost</td>\n",
       "      <td>Motor 1.8 16v</td>\n",
       "      <td>2007</td>\n",
       "      <td>14237.0</td>\n",
       "      <td>False</td>\n",
       "      <td>['Cerraduras electricas', 'Panel digital', 'Cá...</td>\n",
       "      <td>78096.06</td>\n",
       "    </tr>\n",
       "    <tr>\n",
       "      <th>148</th>\n",
       "      <td>Série 3 M3 Coupé</td>\n",
       "      <td>Motor Diesel</td>\n",
       "      <td>2013</td>\n",
       "      <td>19896.0</td>\n",
       "      <td>False</td>\n",
       "      <td>['Asientos de cuero', 'Sensor de lluvia', 'Air...</td>\n",
       "      <td>69219.89</td>\n",
       "    </tr>\n",
       "    <tr>\n",
       "      <th>149</th>\n",
       "      <td>Gallardo LP 560 – 4</td>\n",
       "      <td>Motor Diesel</td>\n",
       "      <td>2000</td>\n",
       "      <td>113045.0</td>\n",
       "      <td>False</td>\n",
       "      <td>['Frenos ABS', 'Techo panorámico', 'Central mu...</td>\n",
       "      <td>144118.91</td>\n",
       "    </tr>\n",
       "    <tr>\n",
       "      <th>150</th>\n",
       "      <td>Freelander 2</td>\n",
       "      <td>Motor Diesel V6</td>\n",
       "      <td>2002</td>\n",
       "      <td>114942.0</td>\n",
       "      <td>False</td>\n",
       "      <td>['4 X 4', 'Cámara de estacionamiento', 'Sensor...</td>\n",
       "      <td>77397.05</td>\n",
       "    </tr>\n",
       "    <tr>\n",
       "      <th>151</th>\n",
       "      <td>Grand Cherokee</td>\n",
       "      <td>Motor 5.0 V8 Bi-Turbo</td>\n",
       "      <td>1996</td>\n",
       "      <td>3173.0</td>\n",
       "      <td>False</td>\n",
       "      <td>['Transmisión automática', 'Cerraduras electri...</td>\n",
       "      <td>68974.25</td>\n",
       "    </tr>\n",
       "    <tr>\n",
       "      <th>152</th>\n",
       "      <td>Aston Martin DBR9</td>\n",
       "      <td>Motor 4.0 Turbo</td>\n",
       "      <td>1996</td>\n",
       "      <td>83611.0</td>\n",
       "      <td>False</td>\n",
       "      <td>['Control de estabilidad', 'Sensor de estacion...</td>\n",
       "      <td>125231.30</td>\n",
       "    </tr>\n",
       "    <tr>\n",
       "      <th>153</th>\n",
       "      <td>Soul</td>\n",
       "      <td>Motor 5.0 V8 Bi-Turbo</td>\n",
       "      <td>2015</td>\n",
       "      <td>25356.0</td>\n",
       "      <td>False</td>\n",
       "      <td>['Sensor crepuscular', 'Piloto automático', 'S...</td>\n",
       "      <td>85501.12</td>\n",
       "    </tr>\n",
       "    <tr>\n",
       "      <th>154</th>\n",
       "      <td>Cadillac BLS</td>\n",
       "      <td>Motor V8</td>\n",
       "      <td>1993</td>\n",
       "      <td>88634.0</td>\n",
       "      <td>False</td>\n",
       "      <td>['Techo panorámico', 'Control de estabilidad',...</td>\n",
       "      <td>137116.21</td>\n",
       "    </tr>\n",
       "    <tr>\n",
       "      <th>155</th>\n",
       "      <td>RX 350</td>\n",
       "      <td>Motor V6</td>\n",
       "      <td>2013</td>\n",
       "      <td>2314.0</td>\n",
       "      <td>False</td>\n",
       "      <td>['Piloto automático', 'Sensor crepuscular', 'A...</td>\n",
       "      <td>138823.81</td>\n",
       "    </tr>\n",
       "    <tr>\n",
       "      <th>156</th>\n",
       "      <td>Cayman</td>\n",
       "      <td>Motor 3.0 32v</td>\n",
       "      <td>2013</td>\n",
       "      <td>2627.0</td>\n",
       "      <td>False</td>\n",
       "      <td>['Central multimedia', 'Panel digital', 'Senso...</td>\n",
       "      <td>117961.95</td>\n",
       "    </tr>\n",
       "    <tr>\n",
       "      <th>157</th>\n",
       "      <td>Chana Utility</td>\n",
       "      <td>Motor Diesel</td>\n",
       "      <td>2009</td>\n",
       "      <td>52034.0</td>\n",
       "      <td>False</td>\n",
       "      <td>['Aire condicionado', 'Sensor de estacionamien...</td>\n",
       "      <td>132662.32</td>\n",
       "    </tr>\n",
       "    <tr>\n",
       "      <th>158</th>\n",
       "      <td>308 CC</td>\n",
       "      <td>Motor 4.0 Turbo</td>\n",
       "      <td>2019</td>\n",
       "      <td>NaN</td>\n",
       "      <td>True</td>\n",
       "      <td>['Cámara de estacionamiento', 'Asientos de cue...</td>\n",
       "      <td>146405.79</td>\n",
       "    </tr>\n",
       "    <tr>\n",
       "      <th>159</th>\n",
       "      <td>L200 Triton</td>\n",
       "      <td>Motor Diesel V8</td>\n",
       "      <td>2019</td>\n",
       "      <td>NaN</td>\n",
       "      <td>True</td>\n",
       "      <td>['Ventanas eléctricas', 'Aire condicionado', '...</td>\n",
       "      <td>81999.21</td>\n",
       "    </tr>\n",
       "    <tr>\n",
       "      <th>160</th>\n",
       "      <td>Jetta</td>\n",
       "      <td>Motor 5.0 V8 Bi-Turbo</td>\n",
       "      <td>2002</td>\n",
       "      <td>79577.0</td>\n",
       "      <td>False</td>\n",
       "      <td>['Central multimedia', 'Ventanas eléctricas', ...</td>\n",
       "      <td>140934.60</td>\n",
       "    </tr>\n",
       "    <tr>\n",
       "      <th>161</th>\n",
       "      <td>C4 Lounge</td>\n",
       "      <td>Motor V8</td>\n",
       "      <td>1997</td>\n",
       "      <td>108201.0</td>\n",
       "      <td>False</td>\n",
       "      <td>['Central multimedia', 'Control de tracción', ...</td>\n",
       "      <td>82366.81</td>\n",
       "    </tr>\n",
       "    <tr>\n",
       "      <th>162</th>\n",
       "      <td>C4 Pallas</td>\n",
       "      <td>Motor 1.0 8v</td>\n",
       "      <td>1998</td>\n",
       "      <td>76453.0</td>\n",
       "      <td>False</td>\n",
       "      <td>['4 X 4', 'Frenos ABS', 'Sensor de lluvia', 'L...</td>\n",
       "      <td>70424.11</td>\n",
       "    </tr>\n",
       "    <tr>\n",
       "      <th>163</th>\n",
       "      <td>Equus</td>\n",
       "      <td>Motor 3.0 32v</td>\n",
       "      <td>2004</td>\n",
       "      <td>57683.0</td>\n",
       "      <td>False</td>\n",
       "      <td>['Cerraduras electricas', 'Llantas de aleación...</td>\n",
       "      <td>53620.31</td>\n",
       "    </tr>\n",
       "    <tr>\n",
       "      <th>164</th>\n",
       "      <td>Classe GL</td>\n",
       "      <td>Motor 3.0 32v</td>\n",
       "      <td>1996</td>\n",
       "      <td>96610.0</td>\n",
       "      <td>False</td>\n",
       "      <td>['Frenos ABS', 'Cámara de estacionamiento', 'C...</td>\n",
       "      <td>73389.18</td>\n",
       "    </tr>\n",
       "    <tr>\n",
       "      <th>165</th>\n",
       "      <td>Range Rover Evoque</td>\n",
       "      <td>Motor 2.0 16v</td>\n",
       "      <td>2015</td>\n",
       "      <td>109001.0</td>\n",
       "      <td>False</td>\n",
       "      <td>['Llantas de aleación', 'Techo panorámico', 'S...</td>\n",
       "      <td>111618.12</td>\n",
       "    </tr>\n",
       "    <tr>\n",
       "      <th>166</th>\n",
       "      <td>Cherokee</td>\n",
       "      <td>Motor 4.0 Turbo</td>\n",
       "      <td>2016</td>\n",
       "      <td>26212.0</td>\n",
       "      <td>False</td>\n",
       "      <td>['Panel digital', 'Cerraduras electricas', 'Ll...</td>\n",
       "      <td>112187.37</td>\n",
       "    </tr>\n",
       "    <tr>\n",
       "      <th>167</th>\n",
       "      <td>Punto</td>\n",
       "      <td>Motor 4.0 Turbo</td>\n",
       "      <td>2005</td>\n",
       "      <td>45971.0</td>\n",
       "      <td>False</td>\n",
       "      <td>['Central multimedia', 'Transmisión automática...</td>\n",
       "      <td>120812.57</td>\n",
       "    </tr>\n",
       "    <tr>\n",
       "      <th>168</th>\n",
       "      <td>Grand Tour</td>\n",
       "      <td>Motor 3.0 32v</td>\n",
       "      <td>1999</td>\n",
       "      <td>49182.0</td>\n",
       "      <td>False</td>\n",
       "      <td>['Llantas de aleación', 'Cerraduras electricas...</td>\n",
       "      <td>116031.04</td>\n",
       "    </tr>\n",
       "    <tr>\n",
       "      <th>169</th>\n",
       "      <td>Fluence</td>\n",
       "      <td>Motor Diesel V6</td>\n",
       "      <td>1995</td>\n",
       "      <td>49907.0</td>\n",
       "      <td>False</td>\n",
       "      <td>['Sensor crepuscular', 'Techo panorámico', 'Tr...</td>\n",
       "      <td>125398.11</td>\n",
       "    </tr>\n",
       "    <tr>\n",
       "      <th>170</th>\n",
       "      <td>Effa Hafei Picape Cabine Simples</td>\n",
       "      <td>Motor 1.0 8v</td>\n",
       "      <td>1993</td>\n",
       "      <td>38620.0</td>\n",
       "      <td>False</td>\n",
       "      <td>['Piloto automático', 'Aire condicionado', 'Ce...</td>\n",
       "      <td>76101.47</td>\n",
       "    </tr>\n",
       "    <tr>\n",
       "      <th>171</th>\n",
       "      <td>Durango</td>\n",
       "      <td>Motor 2.0 16v</td>\n",
       "      <td>2004</td>\n",
       "      <td>60996.0</td>\n",
       "      <td>False</td>\n",
       "      <td>['Asientos de cuero', 'Panel digital', 'Transm...</td>\n",
       "      <td>75263.24</td>\n",
       "    </tr>\n",
       "    <tr>\n",
       "      <th>172</th>\n",
       "      <td>Boxster</td>\n",
       "      <td>Motor Diesel V8</td>\n",
       "      <td>2013</td>\n",
       "      <td>73914.0</td>\n",
       "      <td>False</td>\n",
       "      <td>['Techo panorámico', 'Sensor crepuscular', 'As...</td>\n",
       "      <td>147387.76</td>\n",
       "    </tr>\n",
       "    <tr>\n",
       "      <th>173</th>\n",
       "      <td>TT Roadster</td>\n",
       "      <td>Motor Diesel</td>\n",
       "      <td>1998</td>\n",
       "      <td>107392.0</td>\n",
       "      <td>False</td>\n",
       "      <td>['Aire condicionado', 'Sensor de estacionamien...</td>\n",
       "      <td>85311.40</td>\n",
       "    </tr>\n",
       "    <tr>\n",
       "      <th>174</th>\n",
       "      <td>Lamborghini Jalpa</td>\n",
       "      <td>Motor 1.8 16v</td>\n",
       "      <td>2018</td>\n",
       "      <td>9146.0</td>\n",
       "      <td>False</td>\n",
       "      <td>['Piloto automático', 'Frenos ABS', 'Sensor de...</td>\n",
       "      <td>54388.11</td>\n",
       "    </tr>\n",
       "    <tr>\n",
       "      <th>175</th>\n",
       "      <td>Classe SLK</td>\n",
       "      <td>Motor 4.0 Turbo</td>\n",
       "      <td>2019</td>\n",
       "      <td>NaN</td>\n",
       "      <td>True</td>\n",
       "      <td>['4 X 4', 'Sensor de estacionamiento', 'Contro...</td>\n",
       "      <td>124156.65</td>\n",
       "    </tr>\n",
       "    <tr>\n",
       "      <th>176</th>\n",
       "      <td>Golf</td>\n",
       "      <td>Motor 1.0 8v</td>\n",
       "      <td>2018</td>\n",
       "      <td>17924.0</td>\n",
       "      <td>False</td>\n",
       "      <td>['Llantas de aleación', 'Control de tracción',...</td>\n",
       "      <td>146203.34</td>\n",
       "    </tr>\n",
       "    <tr>\n",
       "      <th>177</th>\n",
       "      <td>C3 Picasso</td>\n",
       "      <td>Motor 3.0 32v</td>\n",
       "      <td>2019</td>\n",
       "      <td>NaN</td>\n",
       "      <td>True</td>\n",
       "      <td>['Techo panorámico', 'Sensor crepuscular', 'Se...</td>\n",
       "      <td>56453.94</td>\n",
       "    </tr>\n",
       "    <tr>\n",
       "      <th>178</th>\n",
       "      <td>V50</td>\n",
       "      <td>Motor 2.0 16v</td>\n",
       "      <td>1990</td>\n",
       "      <td>116949.0</td>\n",
       "      <td>False</td>\n",
       "      <td>['Techo panorámico', 'Cámara de estacionamient...</td>\n",
       "      <td>68873.79</td>\n",
       "    </tr>\n",
       "    <tr>\n",
       "      <th>179</th>\n",
       "      <td>Picanto</td>\n",
       "      <td>Motor 4.0 Turbo</td>\n",
       "      <td>2009</td>\n",
       "      <td>20476.0</td>\n",
       "      <td>False</td>\n",
       "      <td>['Panel digital', 'Control de estabilidad', 'F...</td>\n",
       "      <td>91667.61</td>\n",
       "    </tr>\n",
       "    <tr>\n",
       "      <th>180</th>\n",
       "      <td>Cadenza</td>\n",
       "      <td>Motor Diesel V6</td>\n",
       "      <td>1990</td>\n",
       "      <td>52804.0</td>\n",
       "      <td>False</td>\n",
       "      <td>['Sensor crepuscular', 'Control de estabilidad...</td>\n",
       "      <td>93776.52</td>\n",
       "    </tr>\n",
       "    <tr>\n",
       "      <th>181</th>\n",
       "      <td>Etios Sedã</td>\n",
       "      <td>Motor 5.0 V8 Bi-Turbo</td>\n",
       "      <td>2006</td>\n",
       "      <td>8849.0</td>\n",
       "      <td>False</td>\n",
       "      <td>['Aire condicionado', 'Ventanas eléctricas', '...</td>\n",
       "      <td>66433.82</td>\n",
       "    </tr>\n",
       "    <tr>\n",
       "      <th>182</th>\n",
       "      <td>Alsvin</td>\n",
       "      <td>Motor Diesel V8</td>\n",
       "      <td>2002</td>\n",
       "      <td>91724.0</td>\n",
       "      <td>False</td>\n",
       "      <td>['Central multimedia', 'Control de estabilidad...</td>\n",
       "      <td>109059.27</td>\n",
       "    </tr>\n",
       "    <tr>\n",
       "      <th>183</th>\n",
       "      <td>Cadillac ATS</td>\n",
       "      <td>Motor Diesel V6</td>\n",
       "      <td>1991</td>\n",
       "      <td>32056.0</td>\n",
       "      <td>False</td>\n",
       "      <td>['Piloto automático', 'Llantas de aleación', '...</td>\n",
       "      <td>122069.97</td>\n",
       "    </tr>\n",
       "    <tr>\n",
       "      <th>184</th>\n",
       "      <td>Série 3 M3 Sedã</td>\n",
       "      <td>Motor Diesel V6</td>\n",
       "      <td>1992</td>\n",
       "      <td>74886.0</td>\n",
       "      <td>False</td>\n",
       "      <td>['Panel digital', 'Frenos ABS', 'Aire condicio...</td>\n",
       "      <td>113090.32</td>\n",
       "    </tr>\n",
       "    <tr>\n",
       "      <th>185</th>\n",
       "      <td>Classe S</td>\n",
       "      <td>Motor 3.0 32v</td>\n",
       "      <td>2019</td>\n",
       "      <td>NaN</td>\n",
       "      <td>True</td>\n",
       "      <td>['Control de tracción', 'Techo panorámico', 'T...</td>\n",
       "      <td>89401.10</td>\n",
       "    </tr>\n",
       "    <tr>\n",
       "      <th>186</th>\n",
       "      <td>T6</td>\n",
       "      <td>Motor 3.0 32v</td>\n",
       "      <td>2019</td>\n",
       "      <td>NaN</td>\n",
       "      <td>True</td>\n",
       "      <td>['Sensor de lluvia', 'Cámara de estacionamient...</td>\n",
       "      <td>56842.79</td>\n",
       "    </tr>\n",
       "    <tr>\n",
       "      <th>187</th>\n",
       "      <td>Aston Martin DB7</td>\n",
       "      <td>Motor Diesel V8</td>\n",
       "      <td>2005</td>\n",
       "      <td>52189.0</td>\n",
       "      <td>False</td>\n",
       "      <td>['Cerraduras electricas', 'Panel digital', 'Se...</td>\n",
       "      <td>146676.71</td>\n",
       "    </tr>\n",
       "    <tr>\n",
       "      <th>188</th>\n",
       "      <td>207 Sedan</td>\n",
       "      <td>Motor 4.0 Turbo</td>\n",
       "      <td>2010</td>\n",
       "      <td>83559.0</td>\n",
       "      <td>False</td>\n",
       "      <td>['Control de tracción', 'Central multimedia', ...</td>\n",
       "      <td>89511.96</td>\n",
       "    </tr>\n",
       "    <tr>\n",
       "      <th>189</th>\n",
       "      <td>Aston Martin Virage</td>\n",
       "      <td>Motor Diesel</td>\n",
       "      <td>2019</td>\n",
       "      <td>NaN</td>\n",
       "      <td>True</td>\n",
       "      <td>['Cerraduras electricas', 'Control de tracción...</td>\n",
       "      <td>97290.18</td>\n",
       "    </tr>\n",
       "    <tr>\n",
       "      <th>190</th>\n",
       "      <td>Azera</td>\n",
       "      <td>Motor 1.8 16v</td>\n",
       "      <td>2016</td>\n",
       "      <td>20328.0</td>\n",
       "      <td>False</td>\n",
       "      <td>['Asientos de cuero', 'Control de tracción', '...</td>\n",
       "      <td>120673.56</td>\n",
       "    </tr>\n",
       "    <tr>\n",
       "      <th>191</th>\n",
       "      <td>Vantage Volante</td>\n",
       "      <td>Motor Diesel V8</td>\n",
       "      <td>2019</td>\n",
       "      <td>NaN</td>\n",
       "      <td>True</td>\n",
       "      <td>['Frenos ABS', 'Control de tracción', 'Central...</td>\n",
       "      <td>114434.94</td>\n",
       "    </tr>\n",
       "    <tr>\n",
       "      <th>192</th>\n",
       "      <td>Siena EL</td>\n",
       "      <td>Motor V8</td>\n",
       "      <td>2010</td>\n",
       "      <td>75577.0</td>\n",
       "      <td>False</td>\n",
       "      <td>['Frenos ABS', 'Sensor crepuscular', 'Control ...</td>\n",
       "      <td>139546.69</td>\n",
       "    </tr>\n",
       "    <tr>\n",
       "      <th>193</th>\n",
       "      <td>Palio Adventure</td>\n",
       "      <td>Motor Diesel V8</td>\n",
       "      <td>1994</td>\n",
       "      <td>33659.0</td>\n",
       "      <td>False</td>\n",
       "      <td>['Techo panorámico', 'Central multimedia', 'Pi...</td>\n",
       "      <td>95078.16</td>\n",
       "    </tr>\n",
       "    <tr>\n",
       "      <th>194</th>\n",
       "      <td>HB20X</td>\n",
       "      <td>Motor V8</td>\n",
       "      <td>2001</td>\n",
       "      <td>104341.0</td>\n",
       "      <td>False</td>\n",
       "      <td>['Sensor crepuscular', 'Techo panorámico', 'Pa...</td>\n",
       "      <td>68091.77</td>\n",
       "    </tr>\n",
       "    <tr>\n",
       "      <th>195</th>\n",
       "      <td>HR</td>\n",
       "      <td>Motor 5.0 V8 Bi-Turbo</td>\n",
       "      <td>2014</td>\n",
       "      <td>25510.0</td>\n",
       "      <td>False</td>\n",
       "      <td>['Control de tracción', 'Transmisión automátic...</td>\n",
       "      <td>61496.97</td>\n",
       "    </tr>\n",
       "    <tr>\n",
       "      <th>196</th>\n",
       "      <td>Cadillac STS V-Series</td>\n",
       "      <td>Motor 2.0 16v</td>\n",
       "      <td>1996</td>\n",
       "      <td>18965.0</td>\n",
       "      <td>False</td>\n",
       "      <td>['Ventanas eléctricas', 'Piloto automático', '...</td>\n",
       "      <td>139669.30</td>\n",
       "    </tr>\n",
       "    <tr>\n",
       "      <th>197</th>\n",
       "      <td>Série 1 Coupé</td>\n",
       "      <td>Motor 1.0 8v</td>\n",
       "      <td>1993</td>\n",
       "      <td>87161.0</td>\n",
       "      <td>False</td>\n",
       "      <td>['Control de estabilidad', 'Techo panorámico',...</td>\n",
       "      <td>80661.39</td>\n",
       "    </tr>\n",
       "    <tr>\n",
       "      <th>198</th>\n",
       "      <td>SpaceFox</td>\n",
       "      <td>Motor V8</td>\n",
       "      <td>1993</td>\n",
       "      <td>6652.0</td>\n",
       "      <td>False</td>\n",
       "      <td>['Sensor crepuscular', '4 X 4', 'Panel digital...</td>\n",
       "      <td>61783.65</td>\n",
       "    </tr>\n",
       "    <tr>\n",
       "      <th>199</th>\n",
       "      <td>C30</td>\n",
       "      <td>Motor 1.0 8v</td>\n",
       "      <td>2001</td>\n",
       "      <td>55738.0</td>\n",
       "      <td>False</td>\n",
       "      <td>['Techo panorámico', 'Frenos ABS', 'Sensor cre...</td>\n",
       "      <td>52805.91</td>\n",
       "    </tr>\n",
       "    <tr>\n",
       "      <th>200</th>\n",
       "      <td>J3 Turin</td>\n",
       "      <td>Motor V6</td>\n",
       "      <td>2019</td>\n",
       "      <td>NaN</td>\n",
       "      <td>True</td>\n",
       "      <td>['Sensor crepuscular', 'Cámara de estacionamie...</td>\n",
       "      <td>127024.75</td>\n",
       "    </tr>\n",
       "    <tr>\n",
       "      <th>201</th>\n",
       "      <td>Classe B</td>\n",
       "      <td>Motor Diesel V8</td>\n",
       "      <td>2019</td>\n",
       "      <td>NaN</td>\n",
       "      <td>True</td>\n",
       "      <td>['4 X 4', 'Asientos de cuero', 'Sensor crepusc...</td>\n",
       "      <td>135543.00</td>\n",
       "    </tr>\n",
       "    <tr>\n",
       "      <th>202</th>\n",
       "      <td>Parati</td>\n",
       "      <td>Motor Diesel V8</td>\n",
       "      <td>2019</td>\n",
       "      <td>NaN</td>\n",
       "      <td>True</td>\n",
       "      <td>['Sensor de estacionamiento', 'Piloto automáti...</td>\n",
       "      <td>121708.73</td>\n",
       "    </tr>\n",
       "    <tr>\n",
       "      <th>203</th>\n",
       "      <td>Cadillac CTS V-Series</td>\n",
       "      <td>Motor 4.0 Turbo</td>\n",
       "      <td>2007</td>\n",
       "      <td>64320.0</td>\n",
       "      <td>False</td>\n",
       "      <td>['Piloto automático', 'Aire condicionado', 'Ce...</td>\n",
       "      <td>107342.68</td>\n",
       "    </tr>\n",
       "    <tr>\n",
       "      <th>204</th>\n",
       "      <td>Sedan</td>\n",
       "      <td>Motor V8</td>\n",
       "      <td>2019</td>\n",
       "      <td>NaN</td>\n",
       "      <td>True</td>\n",
       "      <td>['Asientos de cuero', 'Central multimedia', 'F...</td>\n",
       "      <td>57888.10</td>\n",
       "    </tr>\n",
       "    <tr>\n",
       "      <th>205</th>\n",
       "      <td>Classe CLS 63 AMG</td>\n",
       "      <td>Motor Diesel V6</td>\n",
       "      <td>2016</td>\n",
       "      <td>68678.0</td>\n",
       "      <td>False</td>\n",
       "      <td>['Frenos ABS', 'Ventanas eléctricas', 'Transmi...</td>\n",
       "      <td>118161.48</td>\n",
       "    </tr>\n",
       "    <tr>\n",
       "      <th>206</th>\n",
       "      <td>Aircross</td>\n",
       "      <td>Motor 1.0 8v</td>\n",
       "      <td>2014</td>\n",
       "      <td>71697.0</td>\n",
       "      <td>False</td>\n",
       "      <td>['Control de tracción', 'Piloto automático', '...</td>\n",
       "      <td>142499.06</td>\n",
       "    </tr>\n",
       "    <tr>\n",
       "      <th>207</th>\n",
       "      <td>Aston Martin V12 Vantage</td>\n",
       "      <td>Motor V8</td>\n",
       "      <td>2019</td>\n",
       "      <td>NaN</td>\n",
       "      <td>True</td>\n",
       "      <td>['Asientos de cuero', 'Central multimedia', 'C...</td>\n",
       "      <td>128396.11</td>\n",
       "    </tr>\n",
       "    <tr>\n",
       "      <th>208</th>\n",
       "      <td>Sandero</td>\n",
       "      <td>Motor Diesel</td>\n",
       "      <td>2015</td>\n",
       "      <td>34783.0</td>\n",
       "      <td>False</td>\n",
       "      <td>['Piloto automático', 'Techo panorámico', 'Tra...</td>\n",
       "      <td>112350.61</td>\n",
       "    </tr>\n",
       "    <tr>\n",
       "      <th>209</th>\n",
       "      <td>New Fiesta</td>\n",
       "      <td>Motor 5.0 V8 Bi-Turbo</td>\n",
       "      <td>2015</td>\n",
       "      <td>33772.0</td>\n",
       "      <td>False</td>\n",
       "      <td>['Control de tracción', 'Cerraduras electricas...</td>\n",
       "      <td>124661.38</td>\n",
       "    </tr>\n",
       "    <tr>\n",
       "      <th>210</th>\n",
       "      <td>XKR</td>\n",
       "      <td>Motor Diesel</td>\n",
       "      <td>1996</td>\n",
       "      <td>85127.0</td>\n",
       "      <td>False</td>\n",
       "      <td>['Control de tracción', 'Aire condicionado', '...</td>\n",
       "      <td>54263.16</td>\n",
       "    </tr>\n",
       "    <tr>\n",
       "      <th>211</th>\n",
       "      <td>X5</td>\n",
       "      <td>Motor Diesel</td>\n",
       "      <td>2002</td>\n",
       "      <td>13606.0</td>\n",
       "      <td>False</td>\n",
       "      <td>['Control de tracción', 'Piloto automático', '...</td>\n",
       "      <td>62041.32</td>\n",
       "    </tr>\n",
       "    <tr>\n",
       "      <th>212</th>\n",
       "      <td>Cadillac DTS</td>\n",
       "      <td>Motor 1.8 16v</td>\n",
       "      <td>2005</td>\n",
       "      <td>35647.0</td>\n",
       "      <td>False</td>\n",
       "      <td>['Central multimedia', 'Llantas de aleación', ...</td>\n",
       "      <td>129296.11</td>\n",
       "    </tr>\n",
       "    <tr>\n",
       "      <th>213</th>\n",
       "      <td>Pajero Dakar</td>\n",
       "      <td>Motor 4.0 Turbo</td>\n",
       "      <td>1995</td>\n",
       "      <td>95128.0</td>\n",
       "      <td>False</td>\n",
       "      <td>['Piloto automático', 'Sensor de lluvia', 'Con...</td>\n",
       "      <td>60998.33</td>\n",
       "    </tr>\n",
       "    <tr>\n",
       "      <th>214</th>\n",
       "      <td>Classe A</td>\n",
       "      <td>Motor 1.0 8v</td>\n",
       "      <td>1999</td>\n",
       "      <td>14046.0</td>\n",
       "      <td>False</td>\n",
       "      <td>['Control de tracción', 'Central multimedia', ...</td>\n",
       "      <td>58008.50</td>\n",
       "    </tr>\n",
       "    <tr>\n",
       "      <th>215</th>\n",
       "      <td>Ford Focus Fastback</td>\n",
       "      <td>Motor 4.0 Turbo</td>\n",
       "      <td>2005</td>\n",
       "      <td>41194.0</td>\n",
       "      <td>False</td>\n",
       "      <td>['Asientos de cuero', 'Cámara de estacionamien...</td>\n",
       "      <td>82304.19</td>\n",
       "    </tr>\n",
       "    <tr>\n",
       "      <th>216</th>\n",
       "      <td>Partner</td>\n",
       "      <td>Motor 2.4 Turbo</td>\n",
       "      <td>2019</td>\n",
       "      <td>NaN</td>\n",
       "      <td>True</td>\n",
       "      <td>['Central multimedia', 'Control de tracción', ...</td>\n",
       "      <td>114531.74</td>\n",
       "    </tr>\n",
       "    <tr>\n",
       "      <th>217</th>\n",
       "      <td>R8</td>\n",
       "      <td>Motor V6</td>\n",
       "      <td>1997</td>\n",
       "      <td>96100.0</td>\n",
       "      <td>False</td>\n",
       "      <td>['4 X 4', 'Control de estabilidad', 'Cámara de...</td>\n",
       "      <td>128565.61</td>\n",
       "    </tr>\n",
       "    <tr>\n",
       "      <th>218</th>\n",
       "      <td>Aston Martin DBS Volante</td>\n",
       "      <td>Motor 4.0 Turbo</td>\n",
       "      <td>1990</td>\n",
       "      <td>103900.0</td>\n",
       "      <td>False</td>\n",
       "      <td>['Central multimedia', 'Control de estabilidad...</td>\n",
       "      <td>126488.26</td>\n",
       "    </tr>\n",
       "    <tr>\n",
       "      <th>219</th>\n",
       "      <td>Mohave</td>\n",
       "      <td>Motor Diesel V6</td>\n",
       "      <td>2001</td>\n",
       "      <td>43814.0</td>\n",
       "      <td>False</td>\n",
       "      <td>['Cerraduras electricas', 'Central multimedia'...</td>\n",
       "      <td>119074.55</td>\n",
       "    </tr>\n",
       "    <tr>\n",
       "      <th>220</th>\n",
       "      <td>Fusca</td>\n",
       "      <td>Motor 3.0 32v</td>\n",
       "      <td>2013</td>\n",
       "      <td>24638.0</td>\n",
       "      <td>False</td>\n",
       "      <td>['Transmisión automática', 'Techo panorámico',...</td>\n",
       "      <td>130238.04</td>\n",
       "    </tr>\n",
       "    <tr>\n",
       "      <th>221</th>\n",
       "      <td>Chana Family</td>\n",
       "      <td>Motor V8</td>\n",
       "      <td>2019</td>\n",
       "      <td>NaN</td>\n",
       "      <td>True</td>\n",
       "      <td>['Piloto automático', 'Techo panorámico', 'Sen...</td>\n",
       "      <td>115760.17</td>\n",
       "    </tr>\n",
       "    <tr>\n",
       "      <th>222</th>\n",
       "      <td>XC40</td>\n",
       "      <td>Motor 2.4 Turbo</td>\n",
       "      <td>2017</td>\n",
       "      <td>110966.0</td>\n",
       "      <td>False</td>\n",
       "      <td>['Sensor de lluvia', 'Central multimedia', 'Ve...</td>\n",
       "      <td>121248.00</td>\n",
       "    </tr>\n",
       "    <tr>\n",
       "      <th>223</th>\n",
       "      <td>Phantom I Jonckheere Aerodynamic Coupe</td>\n",
       "      <td>Motor 1.8 16v</td>\n",
       "      <td>2011</td>\n",
       "      <td>15987.0</td>\n",
       "      <td>False</td>\n",
       "      <td>['Sensor crepuscular', 'Cerraduras electricas'...</td>\n",
       "      <td>98156.35</td>\n",
       "    </tr>\n",
       "    <tr>\n",
       "      <th>224</th>\n",
       "      <td>Boxer</td>\n",
       "      <td>Motor V6</td>\n",
       "      <td>2005</td>\n",
       "      <td>53369.0</td>\n",
       "      <td>False</td>\n",
       "      <td>['Cerraduras electricas', 'Piloto automático',...</td>\n",
       "      <td>112146.80</td>\n",
       "    </tr>\n",
       "    <tr>\n",
       "      <th>225</th>\n",
       "      <td>Chana Cargo</td>\n",
       "      <td>Motor 2.0 16v</td>\n",
       "      <td>2007</td>\n",
       "      <td>10077.0</td>\n",
       "      <td>False</td>\n",
       "      <td>['Techo panorámico', '4 X 4', 'Central multime...</td>\n",
       "      <td>102729.63</td>\n",
       "    </tr>\n",
       "    <tr>\n",
       "      <th>226</th>\n",
       "      <td>Dodge Dakota</td>\n",
       "      <td>Motor Diesel</td>\n",
       "      <td>1993</td>\n",
       "      <td>71544.0</td>\n",
       "      <td>False</td>\n",
       "      <td>['Control de tracción', 'Sensor de estacionami...</td>\n",
       "      <td>141083.35</td>\n",
       "    </tr>\n",
       "    <tr>\n",
       "      <th>227</th>\n",
       "      <td>X1</td>\n",
       "      <td>Motor Diesel V8</td>\n",
       "      <td>1991</td>\n",
       "      <td>107.0</td>\n",
       "      <td>False</td>\n",
       "      <td>['4 X 4', 'Techo panorámico', 'Aire condiciona...</td>\n",
       "      <td>102968.76</td>\n",
       "    </tr>\n",
       "    <tr>\n",
       "      <th>228</th>\n",
       "      <td>GLA</td>\n",
       "      <td>Motor 1.0 8v</td>\n",
       "      <td>1991</td>\n",
       "      <td>8394.0</td>\n",
       "      <td>False</td>\n",
       "      <td>['Sensor de lluvia', 'Cámara de estacionamient...</td>\n",
       "      <td>76310.01</td>\n",
       "    </tr>\n",
       "    <tr>\n",
       "      <th>229</th>\n",
       "      <td>Range Rover Sport</td>\n",
       "      <td>Motor 1.0 8v</td>\n",
       "      <td>1997</td>\n",
       "      <td>41498.0</td>\n",
       "      <td>False</td>\n",
       "      <td>['Sensor de estacionamiento', 'Cámara de estac...</td>\n",
       "      <td>120481.74</td>\n",
       "    </tr>\n",
       "    <tr>\n",
       "      <th>230</th>\n",
       "      <td>DS3</td>\n",
       "      <td>Motor 1.8 16v</td>\n",
       "      <td>2000</td>\n",
       "      <td>116002.0</td>\n",
       "      <td>False</td>\n",
       "      <td>['Control de estabilidad', 'Aire condicionado'...</td>\n",
       "      <td>54559.18</td>\n",
       "    </tr>\n",
       "    <tr>\n",
       "      <th>231</th>\n",
       "      <td>Veracruz</td>\n",
       "      <td>Motor Diesel V8</td>\n",
       "      <td>2007</td>\n",
       "      <td>100858.0</td>\n",
       "      <td>False</td>\n",
       "      <td>['Control de estabilidad', 'Cámara de estacion...</td>\n",
       "      <td>92957.64</td>\n",
       "    </tr>\n",
       "    <tr>\n",
       "      <th>232</th>\n",
       "      <td>Cadillac CTS coupe, sedan, and wagon</td>\n",
       "      <td>Motor V8</td>\n",
       "      <td>2006</td>\n",
       "      <td>67475.0</td>\n",
       "      <td>False</td>\n",
       "      <td>['Sensor de lluvia', 'Sensor de estacionamient...</td>\n",
       "      <td>127810.06</td>\n",
       "    </tr>\n",
       "    <tr>\n",
       "      <th>233</th>\n",
       "      <td>i30 CW</td>\n",
       "      <td>Motor Diesel</td>\n",
       "      <td>2015</td>\n",
       "      <td>8497.0</td>\n",
       "      <td>False</td>\n",
       "      <td>['Sensor de lluvia', 'Ventanas eléctricas', 'C...</td>\n",
       "      <td>73311.75</td>\n",
       "    </tr>\n",
       "    <tr>\n",
       "      <th>234</th>\n",
       "      <td>Phantom III</td>\n",
       "      <td>Motor Diesel V6</td>\n",
       "      <td>2008</td>\n",
       "      <td>4420.0</td>\n",
       "      <td>False</td>\n",
       "      <td>['Ventanas eléctricas', 'Asientos de cuero', '...</td>\n",
       "      <td>65138.03</td>\n",
       "    </tr>\n",
       "    <tr>\n",
       "      <th>235</th>\n",
       "      <td>A3 Sedan</td>\n",
       "      <td>Motor V6</td>\n",
       "      <td>2019</td>\n",
       "      <td>NaN</td>\n",
       "      <td>True</td>\n",
       "      <td>['Aire condicionado', 'Sensor de lluvia', 'Cer...</td>\n",
       "      <td>90141.47</td>\n",
       "    </tr>\n",
       "    <tr>\n",
       "      <th>236</th>\n",
       "      <td>Aston Martin DB9 Volante</td>\n",
       "      <td>Motor 2.0 16v</td>\n",
       "      <td>1996</td>\n",
       "      <td>58537.0</td>\n",
       "      <td>False</td>\n",
       "      <td>['Central multimedia', 'Asientos de cuero', 'C...</td>\n",
       "      <td>71160.36</td>\n",
       "    </tr>\n",
       "    <tr>\n",
       "      <th>237</th>\n",
       "      <td>Série 7 Sedã</td>\n",
       "      <td>Motor Diesel</td>\n",
       "      <td>2019</td>\n",
       "      <td>NaN</td>\n",
       "      <td>True</td>\n",
       "      <td>['Ventanas eléctricas', 'Cerraduras electricas...</td>\n",
       "      <td>67539.79</td>\n",
       "    </tr>\n",
       "    <tr>\n",
       "      <th>238</th>\n",
       "      <td>Lamborghini Reventón</td>\n",
       "      <td>Motor 4.0 Turbo</td>\n",
       "      <td>2019</td>\n",
       "      <td>NaN</td>\n",
       "      <td>True</td>\n",
       "      <td>['Control de tracción', 'Aire condicionado', '...</td>\n",
       "      <td>67664.86</td>\n",
       "    </tr>\n",
       "    <tr>\n",
       "      <th>239</th>\n",
       "      <td>Grand Livina</td>\n",
       "      <td>Motor 2.0 16v</td>\n",
       "      <td>2014</td>\n",
       "      <td>112016.0</td>\n",
       "      <td>False</td>\n",
       "      <td>['Control de tracción', 'Techo panorámico', 'V...</td>\n",
       "      <td>68652.16</td>\n",
       "    </tr>\n",
       "    <tr>\n",
       "      <th>240</th>\n",
       "      <td>V60</td>\n",
       "      <td>Motor Diesel</td>\n",
       "      <td>2004</td>\n",
       "      <td>91840.0</td>\n",
       "      <td>False</td>\n",
       "      <td>['Llantas de aleación', 'Sensor crepuscular', ...</td>\n",
       "      <td>114728.74</td>\n",
       "    </tr>\n",
       "    <tr>\n",
       "      <th>241</th>\n",
       "      <td>Effa Hafei Picape Cabine Dupla</td>\n",
       "      <td>Motor V6</td>\n",
       "      <td>2008</td>\n",
       "      <td>112787.0</td>\n",
       "      <td>False</td>\n",
       "      <td>['Sensor crepuscular', 'Control de tracción', ...</td>\n",
       "      <td>141645.08</td>\n",
       "    </tr>\n",
       "    <tr>\n",
       "      <th>242</th>\n",
       "      <td>Benni Mini</td>\n",
       "      <td>Motor V8</td>\n",
       "      <td>2019</td>\n",
       "      <td>NaN</td>\n",
       "      <td>True</td>\n",
       "      <td>['Sensor crepuscular', 'Transmisión automática...</td>\n",
       "      <td>126247.84</td>\n",
       "    </tr>\n",
       "    <tr>\n",
       "      <th>243</th>\n",
       "      <td>Uno</td>\n",
       "      <td>Motor Diesel V6</td>\n",
       "      <td>2019</td>\n",
       "      <td>NaN</td>\n",
       "      <td>True</td>\n",
       "      <td>['Central multimedia', 'Sensor crepuscular', '...</td>\n",
       "      <td>128852.21</td>\n",
       "    </tr>\n",
       "    <tr>\n",
       "      <th>244</th>\n",
       "      <td>L200 Savana</td>\n",
       "      <td>Motor 2.0 16v</td>\n",
       "      <td>2012</td>\n",
       "      <td>9293.0</td>\n",
       "      <td>False</td>\n",
       "      <td>['Sensor de lluvia', 'Ventanas eléctricas', 'P...</td>\n",
       "      <td>132384.76</td>\n",
       "    </tr>\n",
       "    <tr>\n",
       "      <th>245</th>\n",
       "      <td>Santa Fe</td>\n",
       "      <td>Motor 3.0 32v</td>\n",
       "      <td>2019</td>\n",
       "      <td>NaN</td>\n",
       "      <td>True</td>\n",
       "      <td>['Cerraduras electricas', 'Aire condicionado',...</td>\n",
       "      <td>129415.33</td>\n",
       "    </tr>\n",
       "    <tr>\n",
       "      <th>246</th>\n",
       "      <td>RS5</td>\n",
       "      <td>Motor V6</td>\n",
       "      <td>1996</td>\n",
       "      <td>55083.0</td>\n",
       "      <td>False</td>\n",
       "      <td>['Panel digital', 'Transmisión automática', 'V...</td>\n",
       "      <td>89536.82</td>\n",
       "    </tr>\n",
       "    <tr>\n",
       "      <th>247</th>\n",
       "      <td>Cerato</td>\n",
       "      <td>Motor V6</td>\n",
       "      <td>2011</td>\n",
       "      <td>48796.0</td>\n",
       "      <td>False</td>\n",
       "      <td>['Sensor de estacionamiento', 'Cámara de estac...</td>\n",
       "      <td>87975.30</td>\n",
       "    </tr>\n",
       "    <tr>\n",
       "      <th>248</th>\n",
       "      <td>XC60</td>\n",
       "      <td>Motor 4.0 Turbo</td>\n",
       "      <td>2019</td>\n",
       "      <td>NaN</td>\n",
       "      <td>True</td>\n",
       "      <td>['Panel digital', 'Piloto automático', 'Centra...</td>\n",
       "      <td>77675.79</td>\n",
       "    </tr>\n",
       "    <tr>\n",
       "      <th>249</th>\n",
       "      <td>LS 460L</td>\n",
       "      <td>Motor Diesel V8</td>\n",
       "      <td>2010</td>\n",
       "      <td>89685.0</td>\n",
       "      <td>False</td>\n",
       "      <td>['Llantas de aleación', 'Frenos ABS', 'Control...</td>\n",
       "      <td>58881.67</td>\n",
       "    </tr>\n",
       "    <tr>\n",
       "      <th>250</th>\n",
       "      <td>Lamborghini Sesto Elemento</td>\n",
       "      <td>Motor V8</td>\n",
       "      <td>2007</td>\n",
       "      <td>85384.0</td>\n",
       "      <td>False</td>\n",
       "      <td>['Sensor crepuscular', 'Frenos ABS', 'Aire con...</td>\n",
       "      <td>55081.99</td>\n",
       "    </tr>\n",
       "    <tr>\n",
       "      <th>251</th>\n",
       "      <td>Lamborghini Huracán</td>\n",
       "      <td>Motor V8</td>\n",
       "      <td>1994</td>\n",
       "      <td>98108.0</td>\n",
       "      <td>False</td>\n",
       "      <td>['Sensor de lluvia', 'Sensor de estacionamient...</td>\n",
       "      <td>118826.44</td>\n",
       "    </tr>\n",
       "    <tr>\n",
       "      <th>252</th>\n",
       "      <td>A7</td>\n",
       "      <td>Motor 1.0 8v</td>\n",
       "      <td>2007</td>\n",
       "      <td>71280.0</td>\n",
       "      <td>False</td>\n",
       "      <td>['Sensor de lluvia', 'Ventanas eléctricas', 'S...</td>\n",
       "      <td>137627.62</td>\n",
       "    </tr>\n",
       "    <tr>\n",
       "      <th>253</th>\n",
       "      <td>Phantom 2013</td>\n",
       "      <td>Motor V8</td>\n",
       "      <td>2014</td>\n",
       "      <td>27505.0</td>\n",
       "      <td>False</td>\n",
       "      <td>['Control de estabilidad', 'Piloto automático'...</td>\n",
       "      <td>51759.58</td>\n",
       "    </tr>\n",
       "    <tr>\n",
       "      <th>254</th>\n",
       "      <td>Cadillac Ciel concept</td>\n",
       "      <td>Motor V8</td>\n",
       "      <td>1991</td>\n",
       "      <td>29981.0</td>\n",
       "      <td>False</td>\n",
       "      <td>['Asientos de cuero', 'Panel digital', 'Sensor...</td>\n",
       "      <td>51667.06</td>\n",
       "    </tr>\n",
       "    <tr>\n",
       "      <th>255</th>\n",
       "      <td>Classe GLK</td>\n",
       "      <td>Motor 5.0 V8 Bi-Turbo</td>\n",
       "      <td>2002</td>\n",
       "      <td>52637.0</td>\n",
       "      <td>False</td>\n",
       "      <td>['Llantas de aleación', 'Control de tracción',...</td>\n",
       "      <td>68934.03</td>\n",
       "    </tr>\n",
       "    <tr>\n",
       "      <th>256</th>\n",
       "      <td>Aston Martin DB5</td>\n",
       "      <td>Motor Diesel</td>\n",
       "      <td>1996</td>\n",
       "      <td>7685.0</td>\n",
       "      <td>False</td>\n",
       "      <td>['Aire condicionado', '4 X 4', 'Transmisión au...</td>\n",
       "      <td>122110.90</td>\n",
       "    </tr>\n",
       "    <tr>\n",
       "      <th>257</th>\n",
       "      <td>Macan</td>\n",
       "      <td>Motor Diesel V6</td>\n",
       "      <td>1992</td>\n",
       "      <td>50188.0</td>\n",
       "      <td>False</td>\n",
       "      <td>['Central multimedia', 'Techo panorámico', 'Ve...</td>\n",
       "      <td>90381.47</td>\n",
       "    </tr>\n",
       "  </tbody>\n",
       "</table>\n",
       "</div>"
      ],
      "text/plain": [
       "                                     Nombre                  Motor   Año  \\\n",
       "0                             Jetta Variant        Motor 4.0 Turbo  2003   \n",
       "1                                    Passat           Motor Diesel  1991   \n",
       "2                                  Crossfox        Motor Diesel V8  1990   \n",
       "3                                       DS5        Motor 2.4 Turbo  2019   \n",
       "4                          Aston Martin DB4        Motor 2.4 Turbo  2006   \n",
       "5                             Palio Weekend          Motor 1.8 16v  2012   \n",
       "6                                        A5        Motor 4.0 Turbo  2019   \n",
       "7                            Série 3 Cabrio           Motor 1.0 8v  2009   \n",
       "8                              Dodge Jorney          Motor 3.0 32v  2010   \n",
       "9                                    Carens  Motor 5.0 V8 Bi-Turbo  2011   \n",
       "10                                Ford Edge        Motor Diesel V6  2002   \n",
       "11                                  Courier        Motor Diesel V8  2007   \n",
       "12                                     S-18               Motor V6  2001   \n",
       "13                                       J5               Motor V6  2019   \n",
       "14                             F-Type Coupé  Motor 5.0 V8 Bi-Turbo  2009   \n",
       "15                                      RAM        Motor Diesel V8  2016   \n",
       "16                                  Série 1          Motor 3.0 32v  2012   \n",
       "17                                       A3           Motor 1.0 8v  2019   \n",
       "18                                     XC90           Motor 1.0 8v  2016   \n",
       "19                           RS 3 Sportback          Motor 3.0 32v  2017   \n",
       "20                             Pajero Sport           Motor 1.0 8v  2002   \n",
       "21                                Série 1 M               Motor V8  2019   \n",
       "22                      Lamborghini Obvious        Motor Diesel V6  1994   \n",
       "23                    Effa Hafei Picape Baú           Motor Diesel  1991   \n",
       "24                   Lamborghini Murciélago  Motor 5.0 V8 Bi-Turbo  2019   \n",
       "25                                      Up!        Motor Diesel V6  2019   \n",
       "26                       Fiesta Rocam Sedan        Motor 4.0 Turbo  2016   \n",
       "27                          Sandero Stepway          Motor 3.0 32v  2019   \n",
       "28                                 Cayman S          Motor 3.0 32v  2002   \n",
       "29                                      V40        Motor 4.0 Turbo  1991   \n",
       "30                           Classe SLS AMG           Motor 1.0 8v  1997   \n",
       "31                                   Gol G4          Motor 2.0 16v  1995   \n",
       "32                                    Linea           Motor 1.0 8v  2018   \n",
       "33                                Ford F100          Motor 2.0 16v  1991   \n",
       "34                                       J2               Motor V8  2014   \n",
       "35                         Aston Martin DBS               Motor V8  1995   \n",
       "36                               Pajero TR4        Motor 2.4 Turbo  2019   \n",
       "37                               Polo Sedan               Motor V6  2019   \n",
       "38                               California           Motor 1.0 8v  2009   \n",
       "39                                      S60        Motor 2.4 Turbo  2019   \n",
       "40                                   Tucson          Motor 2.0 16v  2013   \n",
       "41                                     HB20               Motor V6  2003   \n",
       "42                                   Optima          Motor 1.8 16v  2019   \n",
       "43                                    Logan        Motor 4.0 Turbo  2002   \n",
       "44                        Range Rover Vogue           Motor 1.0 8v  2019   \n",
       "45                                   Sonata  Motor 5.0 V8 Bi-Turbo  2002   \n",
       "46                    Ford New Fiesta Sedan          Motor 3.0 32v  2004   \n",
       "47                     Série 5 Gran Turismo        Motor 4.0 Turbo  2001   \n",
       "48                                     CR-V        Motor Diesel V8  2019   \n",
       "49                            Ford EcoSport           Motor 1.0 8v  2003   \n",
       "50                                    Versa          Motor 3.0 32v  2009   \n",
       "51                                 Classe E           Motor 1.0 8v  2006   \n",
       "52                                 Carnival               Motor V8  2000   \n",
       "53         Aston Martin V8 Vantage Roadster        Motor 2.4 Turbo  2006   \n",
       "54                                   Hoggar  Motor 5.0 V8 Bi-Turbo  2010   \n",
       "55                                       A1  Motor 5.0 V8 Bi-Turbo  1994   \n",
       "56                 Aston Martin DB7 Vantage               Motor V6  2007   \n",
       "57                                      CLA           Motor 1.0 8v  2019   \n",
       "58                                   Accord               Motor V8  2019   \n",
       "59                              EXTRA 103EX          Motor 2.0 16v  2019   \n",
       "60                                  Sorento           Motor Diesel  2019   \n",
       "61                                    Tiggo          Motor 3.0 32v  2019   \n",
       "62                         New Fiesta Hatch           Motor Diesel  2017   \n",
       "63                            Jeep Renegade  Motor 5.0 V8 Bi-Turbo  2011   \n",
       "64                     Lamborghini Ankonian          Motor 2.0 16v  2001   \n",
       "65                              Space Cross  Motor 5.0 V8 Bi-Turbo  1996   \n",
       "66                                  Touareg               Motor V8  2019   \n",
       "67                                 Classe M           Motor 1.0 8v  1994   \n",
       "68                       Lancer Evolution X        Motor Diesel V6  2019   \n",
       "69                           Kangoo Express           Motor Diesel  2007   \n",
       "70                                      SW4        Motor Diesel V6  1994   \n",
       "71                             Cadillac ELR           Motor 1.0 8v  2007   \n",
       "72                                    Doblò          Motor 1.8 16v  1997   \n",
       "73                      Lamborghini Egoista          Motor 3.0 32v  2006   \n",
       "74                                      Fit           Motor Diesel  2013   \n",
       "75                                       C5          Motor 2.0 16v  1994   \n",
       "76                              Celer Hatch               Motor V8  2008   \n",
       "77                                    HB20S               Motor V8  2008   \n",
       "78                              Cielo Hatch           Motor Diesel  2019   \n",
       "79                                   Livina          Motor 2.0 16v  2019   \n",
       "80                                   Ducato  Motor 5.0 V8 Bi-Turbo  1999   \n",
       "81                                    March               Motor V6  2007   \n",
       "82                       Cadillac XTS sedan        Motor Diesel V6  1993   \n",
       "83                   Lamborghini Centenario               Motor V6  1995   \n",
       "84                                    Hilux  Motor 5.0 V8 Bi-Turbo  2019   \n",
       "85                              Grand Siena        Motor Diesel V8  2019   \n",
       "86                                   Symbol           Motor Diesel  2016   \n",
       "87               Aston Martin V12 GT Zagato        Motor 4.0 Turbo  2011   \n",
       "88                                   Fusion          Motor 1.8 16v  2019   \n",
       "89                                 A4 Sedan           Motor Diesel  2002   \n",
       "90                            Xsara Picasso          Motor 2.0 16v  2013   \n",
       "91                                   207 SW          Motor 3.0 32v  2017   \n",
       "92                                     Star               Motor V6  2016   \n",
       "93                              Doblò Cargo          Motor 3.0 32v  2008   \n",
       "94                             Cadillac CTS          Motor 1.8 16v  2018   \n",
       "95                                  Cayenne           Motor 1.0 8v  2003   \n",
       "96                                      Fox        Motor 4.0 Turbo  2003   \n",
       "97                              Tiida Hatch        Motor Diesel V6  2004   \n",
       "98                            Dodge Charger        Motor 2.4 Turbo  2010   \n",
       "99                                     Face               Motor V8  2019   \n",
       "100                                   Prius          Motor 3.0 32v  2006   \n",
       "101                                    Idea               Motor V6  2001   \n",
       "102                                      A8          Motor 2.0 16v  2019   \n",
       "103                          Série 1 Cabrio          Motor 3.0 32v  2015   \n",
       "104                                    Edge               Motor V6  2018   \n",
       "105                      Cadillac ATS sedan          Motor 1.8 16v  2017   \n",
       "106          Lamborghini Asterion LPI 910-4  Motor 5.0 V8 Bi-Turbo  1992   \n",
       "107                                Frontier               Motor V8  2001   \n",
       "108                            Série 3 Sedã          Motor 3.0 32v  1993   \n",
       "109                       Lamborghini LM002          Motor 1.8 16v  1995   \n",
       "110                            Cadillac XLR        Motor Diesel V8  2003   \n",
       "111                                A4 Avant           Motor Diesel  2014   \n",
       "112                                EcoSport        Motor 4.0 Turbo  2008   \n",
       "113                                      J3          Motor 1.8 16v  2013   \n",
       "114                                      Q3          Motor 3.0 32v  2019   \n",
       "115                 Aston Martin V8 Vantage               Motor V8  2017   \n",
       "116                             Z4 Roadster          Motor 3.0 32v  2019   \n",
       "117                   Lamborghini Ferruccio          Motor 3.0 32v  2019   \n",
       "118                                Ford Ka+          Motor 1.8 16v  2006   \n",
       "119                           Silver Shadow           Motor Diesel  2015   \n",
       "120                 Classe C 63 AMG Touring        Motor Diesel V8  2007   \n",
       "121                             Discovery 4        Motor 4.0 Turbo  2005   \n",
       "122                                Veloster        Motor Diesel V8  2017   \n",
       "123                                Classe C        Motor Diesel V6  1998   \n",
       "124                                   Camry           Motor Diesel  2019   \n",
       "125                               C5 Tourer        Motor Diesel V6  1999   \n",
       "126                                   R8 GT        Motor 4.0 Turbo  2019   \n",
       "127                                   Bongo        Motor Diesel V8  2009   \n",
       "128                                     ASX        Motor Diesel V8  2003   \n",
       "129                            Cadillac SRX  Motor 5.0 V8 Bi-Turbo  1994   \n",
       "130                               Classe CL               Motor V8  2019   \n",
       "131                              500 Abarth               Motor V6  1994   \n",
       "132                     Aston Martin Cygnet  Motor 5.0 V8 Bi-Turbo  2019   \n",
       "133                            Cadillac STS        Motor 4.0 Turbo  2015   \n",
       "134                        Aston Martin DB9          Motor 1.8 16v  1996   \n",
       "135                                 NX 200t        Motor 2.4 Turbo  1997   \n",
       "136                     Aston Martin One-77               Motor V6  1993   \n",
       "137                      Lamborghini Veneno          Motor 3.0 32v  2019   \n",
       "138                                  Sentra          Motor 2.0 16v  1992   \n",
       "139                                  Jumper        Motor 2.4 Turbo  1995   \n",
       "140                                     i30          Motor 1.8 16v  2019   \n",
       "141                                      X6        Motor Diesel V6  1990   \n",
       "142                                  Voyage  Motor 5.0 V8 Bi-Turbo  2019   \n",
       "143                    Phantom I Phantom II          Motor 1.8 16v  2019   \n",
       "144                          Passat Variant           Motor 1.0 8v  1991   \n",
       "145                                    Clio           Motor Diesel  1990   \n",
       "146                                Classe G        Motor Diesel V6  2012   \n",
       "147                            Silver Ghost          Motor 1.8 16v  2007   \n",
       "148                        Série 3 M3 Coupé           Motor Diesel  2013   \n",
       "149                     Gallardo LP 560 – 4           Motor Diesel  2000   \n",
       "150                            Freelander 2        Motor Diesel V6  2002   \n",
       "151                          Grand Cherokee  Motor 5.0 V8 Bi-Turbo  1996   \n",
       "152                       Aston Martin DBR9        Motor 4.0 Turbo  1996   \n",
       "153                                    Soul  Motor 5.0 V8 Bi-Turbo  2015   \n",
       "154                            Cadillac BLS               Motor V8  1993   \n",
       "155                                  RX 350               Motor V6  2013   \n",
       "156                                  Cayman          Motor 3.0 32v  2013   \n",
       "157                           Chana Utility           Motor Diesel  2009   \n",
       "158                                  308 CC        Motor 4.0 Turbo  2019   \n",
       "159                             L200 Triton        Motor Diesel V8  2019   \n",
       "160                                   Jetta  Motor 5.0 V8 Bi-Turbo  2002   \n",
       "161                               C4 Lounge               Motor V8  1997   \n",
       "162                               C4 Pallas           Motor 1.0 8v  1998   \n",
       "163                                   Equus          Motor 3.0 32v  2004   \n",
       "164                               Classe GL          Motor 3.0 32v  1996   \n",
       "165                      Range Rover Evoque          Motor 2.0 16v  2015   \n",
       "166                                Cherokee        Motor 4.0 Turbo  2016   \n",
       "167                                   Punto        Motor 4.0 Turbo  2005   \n",
       "168                              Grand Tour          Motor 3.0 32v  1999   \n",
       "169                                 Fluence        Motor Diesel V6  1995   \n",
       "170        Effa Hafei Picape Cabine Simples           Motor 1.0 8v  1993   \n",
       "171                                 Durango          Motor 2.0 16v  2004   \n",
       "172                                 Boxster        Motor Diesel V8  2013   \n",
       "173                             TT Roadster           Motor Diesel  1998   \n",
       "174                       Lamborghini Jalpa          Motor 1.8 16v  2018   \n",
       "175                              Classe SLK        Motor 4.0 Turbo  2019   \n",
       "176                                    Golf           Motor 1.0 8v  2018   \n",
       "177                              C3 Picasso          Motor 3.0 32v  2019   \n",
       "178                                     V50          Motor 2.0 16v  1990   \n",
       "179                                 Picanto        Motor 4.0 Turbo  2009   \n",
       "180                                 Cadenza        Motor Diesel V6  1990   \n",
       "181                              Etios Sedã  Motor 5.0 V8 Bi-Turbo  2006   \n",
       "182                                  Alsvin        Motor Diesel V8  2002   \n",
       "183                            Cadillac ATS        Motor Diesel V6  1991   \n",
       "184                         Série 3 M3 Sedã        Motor Diesel V6  1992   \n",
       "185                                Classe S          Motor 3.0 32v  2019   \n",
       "186                                      T6          Motor 3.0 32v  2019   \n",
       "187                        Aston Martin DB7        Motor Diesel V8  2005   \n",
       "188                               207 Sedan        Motor 4.0 Turbo  2010   \n",
       "189                     Aston Martin Virage           Motor Diesel  2019   \n",
       "190                                   Azera          Motor 1.8 16v  2016   \n",
       "191                         Vantage Volante        Motor Diesel V8  2019   \n",
       "192                                Siena EL               Motor V8  2010   \n",
       "193                         Palio Adventure        Motor Diesel V8  1994   \n",
       "194                                   HB20X               Motor V8  2001   \n",
       "195                                      HR  Motor 5.0 V8 Bi-Turbo  2014   \n",
       "196                   Cadillac STS V-Series          Motor 2.0 16v  1996   \n",
       "197                           Série 1 Coupé           Motor 1.0 8v  1993   \n",
       "198                                SpaceFox               Motor V8  1993   \n",
       "199                                     C30           Motor 1.0 8v  2001   \n",
       "200                                J3 Turin               Motor V6  2019   \n",
       "201                                Classe B        Motor Diesel V8  2019   \n",
       "202                                  Parati        Motor Diesel V8  2019   \n",
       "203                   Cadillac CTS V-Series        Motor 4.0 Turbo  2007   \n",
       "204                                   Sedan               Motor V8  2019   \n",
       "205                       Classe CLS 63 AMG        Motor Diesel V6  2016   \n",
       "206                                Aircross           Motor 1.0 8v  2014   \n",
       "207                Aston Martin V12 Vantage               Motor V8  2019   \n",
       "208                                 Sandero           Motor Diesel  2015   \n",
       "209                              New Fiesta  Motor 5.0 V8 Bi-Turbo  2015   \n",
       "210                                     XKR           Motor Diesel  1996   \n",
       "211                                      X5           Motor Diesel  2002   \n",
       "212                            Cadillac DTS          Motor 1.8 16v  2005   \n",
       "213                            Pajero Dakar        Motor 4.0 Turbo  1995   \n",
       "214                                Classe A           Motor 1.0 8v  1999   \n",
       "215                     Ford Focus Fastback        Motor 4.0 Turbo  2005   \n",
       "216                                 Partner        Motor 2.4 Turbo  2019   \n",
       "217                                      R8               Motor V6  1997   \n",
       "218                Aston Martin DBS Volante        Motor 4.0 Turbo  1990   \n",
       "219                                  Mohave        Motor Diesel V6  2001   \n",
       "220                                   Fusca          Motor 3.0 32v  2013   \n",
       "221                            Chana Family               Motor V8  2019   \n",
       "222                                    XC40        Motor 2.4 Turbo  2017   \n",
       "223  Phantom I Jonckheere Aerodynamic Coupe          Motor 1.8 16v  2011   \n",
       "224                                   Boxer               Motor V6  2005   \n",
       "225                             Chana Cargo          Motor 2.0 16v  2007   \n",
       "226                            Dodge Dakota           Motor Diesel  1993   \n",
       "227                                      X1        Motor Diesel V8  1991   \n",
       "228                                     GLA           Motor 1.0 8v  1991   \n",
       "229                       Range Rover Sport           Motor 1.0 8v  1997   \n",
       "230                                     DS3          Motor 1.8 16v  2000   \n",
       "231                                Veracruz        Motor Diesel V8  2007   \n",
       "232    Cadillac CTS coupe, sedan, and wagon               Motor V8  2006   \n",
       "233                                  i30 CW           Motor Diesel  2015   \n",
       "234                             Phantom III        Motor Diesel V6  2008   \n",
       "235                                A3 Sedan               Motor V6  2019   \n",
       "236                Aston Martin DB9 Volante          Motor 2.0 16v  1996   \n",
       "237                            Série 7 Sedã           Motor Diesel  2019   \n",
       "238                    Lamborghini Reventón        Motor 4.0 Turbo  2019   \n",
       "239                            Grand Livina          Motor 2.0 16v  2014   \n",
       "240                                     V60           Motor Diesel  2004   \n",
       "241          Effa Hafei Picape Cabine Dupla               Motor V6  2008   \n",
       "242                              Benni Mini               Motor V8  2019   \n",
       "243                                     Uno        Motor Diesel V6  2019   \n",
       "244                             L200 Savana          Motor 2.0 16v  2012   \n",
       "245                                Santa Fe          Motor 3.0 32v  2019   \n",
       "246                                     RS5               Motor V6  1996   \n",
       "247                                  Cerato               Motor V6  2011   \n",
       "248                                    XC60        Motor 4.0 Turbo  2019   \n",
       "249                                 LS 460L        Motor Diesel V8  2010   \n",
       "250              Lamborghini Sesto Elemento               Motor V8  2007   \n",
       "251                     Lamborghini Huracán               Motor V8  1994   \n",
       "252                                      A7           Motor 1.0 8v  2007   \n",
       "253                            Phantom 2013               Motor V8  2014   \n",
       "254                   Cadillac Ciel concept               Motor V8  1991   \n",
       "255                              Classe GLK  Motor 5.0 V8 Bi-Turbo  2002   \n",
       "256                        Aston Martin DB5           Motor Diesel  1996   \n",
       "257                                   Macan        Motor Diesel V6  1992   \n",
       "\n",
       "     Kilometraje  Cero_km                                         Accesorios  \\\n",
       "0        44410.0    False  ['Llantas de aleación', 'Cerraduras electricas...   \n",
       "1         5712.0    False  ['Central multimedia', 'Techo panorámico', 'Fr...   \n",
       "2        37123.0    False  ['Piloto automático', 'Control de estabilidad'...   \n",
       "3            NaN     True  ['Cerraduras electricas', '4 X 4', 'Ventanas e...   \n",
       "4        25757.0    False  ['Llantas de aleación', '4 X 4', 'Central mult...   \n",
       "5        10728.0    False  ['Sensor de estacionamiento', 'Techo panorámic...   \n",
       "6            NaN     True  ['Transmisión automática', 'Cámara de estacion...   \n",
       "7        77599.0    False  ['Control de estabilidad', 'Sensor crepuscular...   \n",
       "8        99197.0    False  ['Ventanas eléctricas', 'Piloto automático', '...   \n",
       "9        37978.0    False  ['Aire condicionado', 'Panel digital', 'Centra...   \n",
       "10       12859.0    False  ['Sensor crepuscular', 'Llantas de aleación', ...   \n",
       "11        8052.0    False  ['Central multimedia', '4 X 4', 'Piloto automá...   \n",
       "12       89773.0    False  ['Asientos de cuero', 'Sensor de lluvia', 'Lla...   \n",
       "13           NaN     True  ['Sensor crepuscular', 'Panel digital', 'Llant...   \n",
       "14       41457.0    False  ['Piloto automático', 'Sensor crepuscular', 'S...   \n",
       "15      115607.0    False  ['Sensor crepuscular', 'Transmisión automática...   \n",
       "16       46449.0    False  ['Techo panorámico', 'Cámara de estacionamient...   \n",
       "17           NaN     True  ['4 X 4', 'Piloto automático', 'Central multim...   \n",
       "18       37086.0    False  ['Cerraduras electricas', 'Ventanas eléctricas...   \n",
       "19       15173.0    False  ['4 X 4', 'Piloto automático', 'Central multim...   \n",
       "20      101193.0    False  ['Sensor de estacionamiento', 'Piloto automáti...   \n",
       "21           NaN     True  ['Control de estabilidad', 'Central multimedia...   \n",
       "22       98079.0    False  ['Llantas de aleación', 'Transmisión automátic...   \n",
       "23      102959.0    False  ['Control de estabilidad', 'Panel digital', 'V...   \n",
       "24           NaN     True  ['Frenos ABS', 'Transmisión automática', 'Aire...   \n",
       "25           NaN     True  ['Sensor de estacionamiento', 'Ventanas eléctr...   \n",
       "26        5795.0    False  ['Aire condicionado', 'Asientos de cuero', 'Tr...   \n",
       "27           NaN     True  ['Frenos ABS', 'Aire condicionado', 'Techo pan...   \n",
       "28       58848.0    False  ['Transmisión automática', 'Sensor de estacion...   \n",
       "29       94381.0    False  ['Cámara de estacionamiento', 'Sensor de estac...   \n",
       "30       30163.0    False  ['Sensor de estacionamiento', 'Control de esta...   \n",
       "31       53332.0    False  ['Sensor crepuscular', '4 X 4', 'Ventanas eléc...   \n",
       "32       17720.0    False  ['Piloto automático', 'Panel digital', 'Ventan...   \n",
       "33       33808.0    False  ['Control de tracción', 'Sensor crepuscular', ...   \n",
       "34       90684.0    False  ['Techo panorámico', 'Sensor de estacionamient...   \n",
       "35       43975.0    False  ['Techo panorámico', 'Piloto automático', 'Air...   \n",
       "36           NaN     True  ['Control de tracción', 'Asientos de cuero', '...   \n",
       "37           NaN     True  ['Sensor de lluvia', 'Sensor crepuscular', 'Ai...   \n",
       "38        5526.0    False  ['Llantas de aleación', 'Aire condicionado', '...   \n",
       "39           NaN     True  ['Techo panorámico', 'Frenos ABS', '4 X 4', 'A...   \n",
       "40       93415.0    False  ['Ventanas eléctricas', 'Sensor crepuscular', ...   \n",
       "41       40762.0    False  ['Sensor de lluvia', 'Cerraduras electricas', ...   \n",
       "42           NaN     True  ['Central multimedia', 'Aire condicionado', 'T...   \n",
       "43       86302.0    False  ['Cámara de estacionamiento', 'Ventanas eléctr...   \n",
       "44           NaN     True  ['4 X 4', 'Ventanas eléctricas', 'Llantas de a...   \n",
       "45        9755.0    False  ['Piloto automático', 'Aire condicionado', 'Ve...   \n",
       "46       69945.0    False  ['Techo panorámico', 'Panel digital', 'Aire co...   \n",
       "47        2395.0    False  ['Control de tracción', 'Piloto automático', '...   \n",
       "48           NaN     True  ['Transmisión automática', 'Central multimedia...   \n",
       "49       80349.0    False  ['Ventanas eléctricas', 'Piloto automático', '...   \n",
       "50       85554.0    False  ['Asientos de cuero', 'Aire condicionado', 'Ll...   \n",
       "51       50496.0    False  ['Frenos ABS', 'Sensor de estacionamiento', 'C...   \n",
       "52       67716.0    False  ['Cerraduras electricas', 'Transmisión automát...   \n",
       "53       93947.0    False  ['Transmisión automática', 'Cámara de estacion...   \n",
       "54       35345.0    False  ['Control de estabilidad', 'Asientos de cuero'...   \n",
       "55       81007.0    False  ['Panel digital', 'Transmisión automática', 'C...   \n",
       "56      119513.0    False  ['Sensor crepuscular', 'Piloto automático', 'T...   \n",
       "57           NaN     True  ['Central multimedia', 'Sensor de lluvia', 'Co...   \n",
       "58           NaN     True  ['Sensor de estacionamiento', 'Aire condiciona...   \n",
       "59           NaN     True  ['Sensor de estacionamiento', 'Central multime...   \n",
       "60           NaN     True  ['Sensor de lluvia', 'Cámara de estacionamient...   \n",
       "61           NaN     True  ['Cámara de estacionamiento', 'Frenos ABS', 'P...   \n",
       "62      118895.0    False  ['Sensor de estacionamiento', 'Cerraduras elec...   \n",
       "63       48509.0    False  ['Ventanas eléctricas', 'Techo panorámico', 'A...   \n",
       "64      100912.0    False  ['Asientos de cuero', 'Cámara de estacionamien...   \n",
       "65       95649.0    False  ['Techo panorámico', 'Ventanas eléctricas', 'S...   \n",
       "66           NaN     True  ['Control de estabilidad', 'Piloto automático'...   \n",
       "67       90495.0    False  ['Central multimedia', 'Asientos de cuero', 'L...   \n",
       "68           NaN     True  ['Ventanas eléctricas', 'Transmisión automátic...   \n",
       "69       29132.0    False  ['Asientos de cuero', 'Transmisión automática'...   \n",
       "70       23802.0    False  ['Sensor de lluvia', 'Asientos de cuero', 'Con...   \n",
       "71       84992.0    False  ['Sensor crepuscular', 'Cerraduras electricas'...   \n",
       "72       54395.0    False  ['Cámara de estacionamiento', 'Techo panorámic...   \n",
       "73       26731.0    False  ['Llantas de aleación', 'Control de tracción',...   \n",
       "74       44329.0    False  ['Frenos ABS', 'Cámara de estacionamiento', 'T...   \n",
       "75      118236.0    False  ['Panel digital', 'Techo panorámico', 'Piloto ...   \n",
       "76      113808.0    False  ['Control de estabilidad', 'Transmisión automá...   \n",
       "77         610.0    False  ['Techo panorámico', 'Llantas de aleación', 'C...   \n",
       "78           NaN     True  ['Panel digital', 'Central multimedia', 'Cámar...   \n",
       "79           NaN     True  ['Sensor crepuscular', 'Cámara de estacionamie...   \n",
       "80       12887.0    False  ['Sensor de lluvia', 'Panel digital', 'Sensor ...   \n",
       "81       79607.0    False  ['Asientos de cuero', 'Piloto automático', 'Se...   \n",
       "82       90924.0    False  ['Aire condicionado', 'Transmisión automática'...   \n",
       "83       42733.0    False  ['Central multimedia', 'Ventanas eléctricas', ...   \n",
       "84           NaN     True  ['4 X 4', 'Piloto automático', 'Techo panorámi...   \n",
       "85           NaN     True  ['Asientos de cuero', 'Panel digital', 'Sensor...   \n",
       "86      117714.0    False  ['4 X 4', 'Piloto automático', 'Sensor crepusc...   \n",
       "87      113885.0    False  ['Central multimedia', 'Piloto automático', 'S...   \n",
       "88           NaN     True  ['Control de tracción', 'Transmisión automátic...   \n",
       "89       30511.0    False  ['Cámara de estacionamiento', '4 X 4', 'Cerrad...   \n",
       "90       74867.0    False  ['Sensor de lluvia', 'Techo panorámico', 'Cent...   \n",
       "91      119760.0    False  ['Control de estabilidad', 'Cerraduras electri...   \n",
       "92        8356.0    False  ['Cámara de estacionamiento', '4 X 4', 'Centra...   \n",
       "93       64247.0    False  ['Frenos ABS', 'Techo panorámico', 'Ventanas e...   \n",
       "94       88661.0    False  ['Cerraduras electricas', 'Sensor de lluvia', ...   \n",
       "95        4539.0    False  ['Control de tracción', 'Piloto automático', '...   \n",
       "96      110116.0    False  ['Piloto automático', 'Transmisión automática'...   \n",
       "97       33215.0    False  ['Techo panorámico', 'Cerraduras electricas', ...   \n",
       "98       92001.0    False  ['Ventanas eléctricas', 'Sensor crepuscular', ...   \n",
       "99           NaN     True  ['Control de estabilidad', 'Ventanas eléctrica...   \n",
       "100      81708.0    False  ['Llantas de aleación', 'Asientos de cuero', '...   \n",
       "101      70641.0    False  ['Central multimedia', 'Piloto automático', 'C...   \n",
       "102          NaN     True  ['Panel digital', 'Techo panorámico', 'Piloto ...   \n",
       "103      91277.0    False  ['Ventanas eléctricas', 'Cerraduras electricas...   \n",
       "104      26544.0    False  ['Frenos ABS', 'Control de tracción', 'Sensor ...   \n",
       "105      52596.0    False  ['Panel digital', 'Ventanas eléctricas', 'Tech...   \n",
       "106      47503.0    False  ['Aire condicionado', 'Panel digital', 'Contro...   \n",
       "107      89056.0    False  ['Transmisión automática', 'Llantas de aleació...   \n",
       "108      28834.0    False  ['Control de tracción', 'Control de estabilida...   \n",
       "109     110564.0    False  ['Asientos de cuero', 'Frenos ABS', 'Central m...   \n",
       "110      56638.0    False  ['Sensor crepuscular', 'Techo panorámico', 'Se...   \n",
       "111      17357.0    False  ['Techo panorámico', '4 X 4', 'Asientos de cue...   \n",
       "112      74015.0    False  ['Piloto automático', 'Sensor de estacionamien...   \n",
       "113      15196.0    False  ['Control de estabilidad', '4 X 4', 'Cámara de...   \n",
       "114          NaN     True  ['Control de estabilidad', 'Asientos de cuero'...   \n",
       "115      10821.0    False  ['Techo panorámico', 'Control de tracción', 'P...   \n",
       "116          NaN     True  ['Central multimedia', 'Transmisión automática...   \n",
       "117          NaN     True  ['Ventanas eléctricas', 'Piloto automático', '...   \n",
       "118       9595.0    False  ['Sensor crepuscular', 'Piloto automático', 'C...   \n",
       "119      99052.0    False  ['4 X 4', 'Central multimedia', 'Aire condicio...   \n",
       "120      52389.0    False  ['Central multimedia', 'Piloto automático', 'F...   \n",
       "121     119945.0    False  ['Frenos ABS', 'Llantas de aleación', 'Sensor ...   \n",
       "122      96005.0    False  ['Aire condicionado', 'Central multimedia', 'A...   \n",
       "123      31639.0    False  ['Frenos ABS', 'Sensor de lluvia', 'Central mu...   \n",
       "124          NaN     True  ['Cerraduras electricas', 'Llantas de aleación...   \n",
       "125      80187.0    False  ['Llantas de aleación', 'Sensor de lluvia', 'P...   \n",
       "126          NaN     True  ['Llantas de aleación', 'Transmisión automátic...   \n",
       "127      58212.0    False  ['Ventanas eléctricas', 'Techo panorámico', 'P...   \n",
       "128      61672.0    False  ['Aire condicionado', 'Sensor crepuscular', 'L...   \n",
       "129      32017.0    False  ['Panel digital', 'Piloto automático', 'Contro...   \n",
       "130          NaN     True  ['Central multimedia', 'Transmisión automática...   \n",
       "131      56944.0    False  ['4 X 4', 'Techo panorámico', 'Control de trac...   \n",
       "132          NaN     True  ['Panel digital', 'Aire condicionado', 'Sensor...   \n",
       "133      86519.0    False  ['Panel digital', 'Asientos de cuero', 'Sensor...   \n",
       "134       4821.0    False  ['Aire condicionado', 'Ventanas eléctricas', '...   \n",
       "135     101025.0    False  ['Control de estabilidad', 'Panel digital', 'A...   \n",
       "136      30705.0    False  ['Sensor de estacionamiento', 'Llantas de alea...   \n",
       "137          NaN     True  ['4 X 4', 'Sensor de estacionamiento', 'Transm...   \n",
       "138      32555.0    False  ['Piloto automático', 'Sensor crepuscular', 'C...   \n",
       "139     103389.0    False  ['Aire condicionado', 'Llantas de aleación', '...   \n",
       "140          NaN     True  ['Transmisión automática', 'Control de estabil...   \n",
       "141      55289.0    False  ['Cámara de estacionamiento', 'Cerraduras elec...   \n",
       "142          NaN     True  ['Aire condicionado', 'Sensor de estacionamien...   \n",
       "143          NaN     True  ['Piloto automático', 'Frenos ABS', 'Panel dig...   \n",
       "144     115930.0    False  ['Frenos ABS', 'Llantas de aleación', 'Piloto ...   \n",
       "145      66437.0    False  ['4 X 4', 'Transmisión automática', 'Frenos AB...   \n",
       "146      96800.0    False  ['Control de estabilidad', 'Central multimedia...   \n",
       "147      14237.0    False  ['Cerraduras electricas', 'Panel digital', 'Cá...   \n",
       "148      19896.0    False  ['Asientos de cuero', 'Sensor de lluvia', 'Air...   \n",
       "149     113045.0    False  ['Frenos ABS', 'Techo panorámico', 'Central mu...   \n",
       "150     114942.0    False  ['4 X 4', 'Cámara de estacionamiento', 'Sensor...   \n",
       "151       3173.0    False  ['Transmisión automática', 'Cerraduras electri...   \n",
       "152      83611.0    False  ['Control de estabilidad', 'Sensor de estacion...   \n",
       "153      25356.0    False  ['Sensor crepuscular', 'Piloto automático', 'S...   \n",
       "154      88634.0    False  ['Techo panorámico', 'Control de estabilidad',...   \n",
       "155       2314.0    False  ['Piloto automático', 'Sensor crepuscular', 'A...   \n",
       "156       2627.0    False  ['Central multimedia', 'Panel digital', 'Senso...   \n",
       "157      52034.0    False  ['Aire condicionado', 'Sensor de estacionamien...   \n",
       "158          NaN     True  ['Cámara de estacionamiento', 'Asientos de cue...   \n",
       "159          NaN     True  ['Ventanas eléctricas', 'Aire condicionado', '...   \n",
       "160      79577.0    False  ['Central multimedia', 'Ventanas eléctricas', ...   \n",
       "161     108201.0    False  ['Central multimedia', 'Control de tracción', ...   \n",
       "162      76453.0    False  ['4 X 4', 'Frenos ABS', 'Sensor de lluvia', 'L...   \n",
       "163      57683.0    False  ['Cerraduras electricas', 'Llantas de aleación...   \n",
       "164      96610.0    False  ['Frenos ABS', 'Cámara de estacionamiento', 'C...   \n",
       "165     109001.0    False  ['Llantas de aleación', 'Techo panorámico', 'S...   \n",
       "166      26212.0    False  ['Panel digital', 'Cerraduras electricas', 'Ll...   \n",
       "167      45971.0    False  ['Central multimedia', 'Transmisión automática...   \n",
       "168      49182.0    False  ['Llantas de aleación', 'Cerraduras electricas...   \n",
       "169      49907.0    False  ['Sensor crepuscular', 'Techo panorámico', 'Tr...   \n",
       "170      38620.0    False  ['Piloto automático', 'Aire condicionado', 'Ce...   \n",
       "171      60996.0    False  ['Asientos de cuero', 'Panel digital', 'Transm...   \n",
       "172      73914.0    False  ['Techo panorámico', 'Sensor crepuscular', 'As...   \n",
       "173     107392.0    False  ['Aire condicionado', 'Sensor de estacionamien...   \n",
       "174       9146.0    False  ['Piloto automático', 'Frenos ABS', 'Sensor de...   \n",
       "175          NaN     True  ['4 X 4', 'Sensor de estacionamiento', 'Contro...   \n",
       "176      17924.0    False  ['Llantas de aleación', 'Control de tracción',...   \n",
       "177          NaN     True  ['Techo panorámico', 'Sensor crepuscular', 'Se...   \n",
       "178     116949.0    False  ['Techo panorámico', 'Cámara de estacionamient...   \n",
       "179      20476.0    False  ['Panel digital', 'Control de estabilidad', 'F...   \n",
       "180      52804.0    False  ['Sensor crepuscular', 'Control de estabilidad...   \n",
       "181       8849.0    False  ['Aire condicionado', 'Ventanas eléctricas', '...   \n",
       "182      91724.0    False  ['Central multimedia', 'Control de estabilidad...   \n",
       "183      32056.0    False  ['Piloto automático', 'Llantas de aleación', '...   \n",
       "184      74886.0    False  ['Panel digital', 'Frenos ABS', 'Aire condicio...   \n",
       "185          NaN     True  ['Control de tracción', 'Techo panorámico', 'T...   \n",
       "186          NaN     True  ['Sensor de lluvia', 'Cámara de estacionamient...   \n",
       "187      52189.0    False  ['Cerraduras electricas', 'Panel digital', 'Se...   \n",
       "188      83559.0    False  ['Control de tracción', 'Central multimedia', ...   \n",
       "189          NaN     True  ['Cerraduras electricas', 'Control de tracción...   \n",
       "190      20328.0    False  ['Asientos de cuero', 'Control de tracción', '...   \n",
       "191          NaN     True  ['Frenos ABS', 'Control de tracción', 'Central...   \n",
       "192      75577.0    False  ['Frenos ABS', 'Sensor crepuscular', 'Control ...   \n",
       "193      33659.0    False  ['Techo panorámico', 'Central multimedia', 'Pi...   \n",
       "194     104341.0    False  ['Sensor crepuscular', 'Techo panorámico', 'Pa...   \n",
       "195      25510.0    False  ['Control de tracción', 'Transmisión automátic...   \n",
       "196      18965.0    False  ['Ventanas eléctricas', 'Piloto automático', '...   \n",
       "197      87161.0    False  ['Control de estabilidad', 'Techo panorámico',...   \n",
       "198       6652.0    False  ['Sensor crepuscular', '4 X 4', 'Panel digital...   \n",
       "199      55738.0    False  ['Techo panorámico', 'Frenos ABS', 'Sensor cre...   \n",
       "200          NaN     True  ['Sensor crepuscular', 'Cámara de estacionamie...   \n",
       "201          NaN     True  ['4 X 4', 'Asientos de cuero', 'Sensor crepusc...   \n",
       "202          NaN     True  ['Sensor de estacionamiento', 'Piloto automáti...   \n",
       "203      64320.0    False  ['Piloto automático', 'Aire condicionado', 'Ce...   \n",
       "204          NaN     True  ['Asientos de cuero', 'Central multimedia', 'F...   \n",
       "205      68678.0    False  ['Frenos ABS', 'Ventanas eléctricas', 'Transmi...   \n",
       "206      71697.0    False  ['Control de tracción', 'Piloto automático', '...   \n",
       "207          NaN     True  ['Asientos de cuero', 'Central multimedia', 'C...   \n",
       "208      34783.0    False  ['Piloto automático', 'Techo panorámico', 'Tra...   \n",
       "209      33772.0    False  ['Control de tracción', 'Cerraduras electricas...   \n",
       "210      85127.0    False  ['Control de tracción', 'Aire condicionado', '...   \n",
       "211      13606.0    False  ['Control de tracción', 'Piloto automático', '...   \n",
       "212      35647.0    False  ['Central multimedia', 'Llantas de aleación', ...   \n",
       "213      95128.0    False  ['Piloto automático', 'Sensor de lluvia', 'Con...   \n",
       "214      14046.0    False  ['Control de tracción', 'Central multimedia', ...   \n",
       "215      41194.0    False  ['Asientos de cuero', 'Cámara de estacionamien...   \n",
       "216          NaN     True  ['Central multimedia', 'Control de tracción', ...   \n",
       "217      96100.0    False  ['4 X 4', 'Control de estabilidad', 'Cámara de...   \n",
       "218     103900.0    False  ['Central multimedia', 'Control de estabilidad...   \n",
       "219      43814.0    False  ['Cerraduras electricas', 'Central multimedia'...   \n",
       "220      24638.0    False  ['Transmisión automática', 'Techo panorámico',...   \n",
       "221          NaN     True  ['Piloto automático', 'Techo panorámico', 'Sen...   \n",
       "222     110966.0    False  ['Sensor de lluvia', 'Central multimedia', 'Ve...   \n",
       "223      15987.0    False  ['Sensor crepuscular', 'Cerraduras electricas'...   \n",
       "224      53369.0    False  ['Cerraduras electricas', 'Piloto automático',...   \n",
       "225      10077.0    False  ['Techo panorámico', '4 X 4', 'Central multime...   \n",
       "226      71544.0    False  ['Control de tracción', 'Sensor de estacionami...   \n",
       "227        107.0    False  ['4 X 4', 'Techo panorámico', 'Aire condiciona...   \n",
       "228       8394.0    False  ['Sensor de lluvia', 'Cámara de estacionamient...   \n",
       "229      41498.0    False  ['Sensor de estacionamiento', 'Cámara de estac...   \n",
       "230     116002.0    False  ['Control de estabilidad', 'Aire condicionado'...   \n",
       "231     100858.0    False  ['Control de estabilidad', 'Cámara de estacion...   \n",
       "232      67475.0    False  ['Sensor de lluvia', 'Sensor de estacionamient...   \n",
       "233       8497.0    False  ['Sensor de lluvia', 'Ventanas eléctricas', 'C...   \n",
       "234       4420.0    False  ['Ventanas eléctricas', 'Asientos de cuero', '...   \n",
       "235          NaN     True  ['Aire condicionado', 'Sensor de lluvia', 'Cer...   \n",
       "236      58537.0    False  ['Central multimedia', 'Asientos de cuero', 'C...   \n",
       "237          NaN     True  ['Ventanas eléctricas', 'Cerraduras electricas...   \n",
       "238          NaN     True  ['Control de tracción', 'Aire condicionado', '...   \n",
       "239     112016.0    False  ['Control de tracción', 'Techo panorámico', 'V...   \n",
       "240      91840.0    False  ['Llantas de aleación', 'Sensor crepuscular', ...   \n",
       "241     112787.0    False  ['Sensor crepuscular', 'Control de tracción', ...   \n",
       "242          NaN     True  ['Sensor crepuscular', 'Transmisión automática...   \n",
       "243          NaN     True  ['Central multimedia', 'Sensor crepuscular', '...   \n",
       "244       9293.0    False  ['Sensor de lluvia', 'Ventanas eléctricas', 'P...   \n",
       "245          NaN     True  ['Cerraduras electricas', 'Aire condicionado',...   \n",
       "246      55083.0    False  ['Panel digital', 'Transmisión automática', 'V...   \n",
       "247      48796.0    False  ['Sensor de estacionamiento', 'Cámara de estac...   \n",
       "248          NaN     True  ['Panel digital', 'Piloto automático', 'Centra...   \n",
       "249      89685.0    False  ['Llantas de aleación', 'Frenos ABS', 'Control...   \n",
       "250      85384.0    False  ['Sensor crepuscular', 'Frenos ABS', 'Aire con...   \n",
       "251      98108.0    False  ['Sensor de lluvia', 'Sensor de estacionamient...   \n",
       "252      71280.0    False  ['Sensor de lluvia', 'Ventanas eléctricas', 'S...   \n",
       "253      27505.0    False  ['Control de estabilidad', 'Piloto automático'...   \n",
       "254      29981.0    False  ['Asientos de cuero', 'Panel digital', 'Sensor...   \n",
       "255      52637.0    False  ['Llantas de aleación', 'Control de tracción',...   \n",
       "256       7685.0    False  ['Aire condicionado', '4 X 4', 'Transmisión au...   \n",
       "257      50188.0    False  ['Central multimedia', 'Techo panorámico', 'Ve...   \n",
       "\n",
       "         Valor  \n",
       "0     88078.64  \n",
       "1    106161.94  \n",
       "2     72832.16  \n",
       "3    124549.07  \n",
       "4     92612.10  \n",
       "5     97497.73  \n",
       "6     56445.20  \n",
       "7    112310.44  \n",
       "8    120716.27  \n",
       "9     76566.49  \n",
       "10    71647.59  \n",
       "11    73919.53  \n",
       "12   112732.99  \n",
       "13    53183.38  \n",
       "14   127488.42  \n",
       "15    59910.40  \n",
       "16    61118.59  \n",
       "17    88552.39  \n",
       "18    62696.69  \n",
       "19   101726.30  \n",
       "20   106147.38  \n",
       "21    94564.40  \n",
       "22   133529.84  \n",
       "23   125684.65  \n",
       "24   121596.21  \n",
       "25    71367.10  \n",
       "26    95347.75  \n",
       "27   105432.84  \n",
       "28    57045.27  \n",
       "29   120432.70  \n",
       "30    70707.20  \n",
       "31    69105.18  \n",
       "32    59358.69  \n",
       "33    65955.40  \n",
       "34    60017.03  \n",
       "35   118909.52  \n",
       "36    51606.59  \n",
       "37   123281.87  \n",
       "38    69770.18  \n",
       "39   102609.54  \n",
       "40    67997.19  \n",
       "41   135235.29  \n",
       "42    86641.34  \n",
       "43   136818.39  \n",
       "44   117626.73  \n",
       "45    56208.70  \n",
       "46    84222.65  \n",
       "47    90781.65  \n",
       "48    64701.10  \n",
       "49   126350.49  \n",
       "50   148152.89  \n",
       "51   132298.83  \n",
       "52   137627.63  \n",
       "53    80422.71  \n",
       "54    56373.99  \n",
       "55    70846.03  \n",
       "56   128694.23  \n",
       "57   133329.19  \n",
       "58   131961.43  \n",
       "59   112033.27  \n",
       "60    81399.35  \n",
       "61    97163.10  \n",
       "62    66007.16  \n",
       "63   128776.22  \n",
       "64   142623.02  \n",
       "65   136930.13  \n",
       "66    66526.61  \n",
       "67   114154.87  \n",
       "68   142392.75  \n",
       "69   146716.91  \n",
       "70   122485.68  \n",
       "71    97951.03  \n",
       "72    78283.49  \n",
       "73    83434.04  \n",
       "74    77836.23  \n",
       "75    60813.92  \n",
       "76    91353.86  \n",
       "77   116281.21  \n",
       "78   145197.70  \n",
       "79    50742.10  \n",
       "80    73033.53  \n",
       "81    54332.87  \n",
       "82    52207.45  \n",
       "83    63578.50  \n",
       "84    64507.72  \n",
       "85   115075.59  \n",
       "86   133030.60  \n",
       "87   141591.86  \n",
       "88   100380.28  \n",
       "89    96369.04  \n",
       "90   142603.84  \n",
       "91   117709.67  \n",
       "92   102241.54  \n",
       "93    96065.38  \n",
       "94    53894.61  \n",
       "95   123911.78  \n",
       "96   101996.35  \n",
       "97    83431.66  \n",
       "98   122975.63  \n",
       "99    93227.73  \n",
       "100   58762.65  \n",
       "101  139549.67  \n",
       "102  122016.42  \n",
       "103   72731.98  \n",
       "104   88416.54  \n",
       "105   73873.42  \n",
       "106   70709.34  \n",
       "107  115306.50  \n",
       "108   55924.63  \n",
       "109   85052.26  \n",
       "110   56646.34  \n",
       "111  138946.88  \n",
       "112  108256.72  \n",
       "113   58979.30  \n",
       "114  114727.68  \n",
       "115  139661.48  \n",
       "116   80382.24  \n",
       "117  149157.17  \n",
       "118   87830.41  \n",
       "119  143568.22  \n",
       "120  138171.85  \n",
       "121  115784.95  \n",
       "122  146508.99  \n",
       "123  137670.23  \n",
       "124  138597.27  \n",
       "125  147627.81  \n",
       "126   62999.02  \n",
       "127   91242.44  \n",
       "128  149489.92  \n",
       "129   63529.95  \n",
       "130   58525.41  \n",
       "131   90345.05  \n",
       "132  147770.87  \n",
       "133  106617.71  \n",
       "134  104929.88  \n",
       "135  100712.45  \n",
       "136  141982.93  \n",
       "137  104038.79  \n",
       "138   88501.54  \n",
       "139   79782.02  \n",
       "140   86224.10  \n",
       "141  103596.18  \n",
       "142  148996.47  \n",
       "143   60948.01  \n",
       "144   69535.44  \n",
       "145  111130.33  \n",
       "146   65847.69  \n",
       "147   78096.06  \n",
       "148   69219.89  \n",
       "149  144118.91  \n",
       "150   77397.05  \n",
       "151   68974.25  \n",
       "152  125231.30  \n",
       "153   85501.12  \n",
       "154  137116.21  \n",
       "155  138823.81  \n",
       "156  117961.95  \n",
       "157  132662.32  \n",
       "158  146405.79  \n",
       "159   81999.21  \n",
       "160  140934.60  \n",
       "161   82366.81  \n",
       "162   70424.11  \n",
       "163   53620.31  \n",
       "164   73389.18  \n",
       "165  111618.12  \n",
       "166  112187.37  \n",
       "167  120812.57  \n",
       "168  116031.04  \n",
       "169  125398.11  \n",
       "170   76101.47  \n",
       "171   75263.24  \n",
       "172  147387.76  \n",
       "173   85311.40  \n",
       "174   54388.11  \n",
       "175  124156.65  \n",
       "176  146203.34  \n",
       "177   56453.94  \n",
       "178   68873.79  \n",
       "179   91667.61  \n",
       "180   93776.52  \n",
       "181   66433.82  \n",
       "182  109059.27  \n",
       "183  122069.97  \n",
       "184  113090.32  \n",
       "185   89401.10  \n",
       "186   56842.79  \n",
       "187  146676.71  \n",
       "188   89511.96  \n",
       "189   97290.18  \n",
       "190  120673.56  \n",
       "191  114434.94  \n",
       "192  139546.69  \n",
       "193   95078.16  \n",
       "194   68091.77  \n",
       "195   61496.97  \n",
       "196  139669.30  \n",
       "197   80661.39  \n",
       "198   61783.65  \n",
       "199   52805.91  \n",
       "200  127024.75  \n",
       "201  135543.00  \n",
       "202  121708.73  \n",
       "203  107342.68  \n",
       "204   57888.10  \n",
       "205  118161.48  \n",
       "206  142499.06  \n",
       "207  128396.11  \n",
       "208  112350.61  \n",
       "209  124661.38  \n",
       "210   54263.16  \n",
       "211   62041.32  \n",
       "212  129296.11  \n",
       "213   60998.33  \n",
       "214   58008.50  \n",
       "215   82304.19  \n",
       "216  114531.74  \n",
       "217  128565.61  \n",
       "218  126488.26  \n",
       "219  119074.55  \n",
       "220  130238.04  \n",
       "221  115760.17  \n",
       "222  121248.00  \n",
       "223   98156.35  \n",
       "224  112146.80  \n",
       "225  102729.63  \n",
       "226  141083.35  \n",
       "227  102968.76  \n",
       "228   76310.01  \n",
       "229  120481.74  \n",
       "230   54559.18  \n",
       "231   92957.64  \n",
       "232  127810.06  \n",
       "233   73311.75  \n",
       "234   65138.03  \n",
       "235   90141.47  \n",
       "236   71160.36  \n",
       "237   67539.79  \n",
       "238   67664.86  \n",
       "239   68652.16  \n",
       "240  114728.74  \n",
       "241  141645.08  \n",
       "242  126247.84  \n",
       "243  128852.21  \n",
       "244  132384.76  \n",
       "245  129415.33  \n",
       "246   89536.82  \n",
       "247   87975.30  \n",
       "248   77675.79  \n",
       "249   58881.67  \n",
       "250   55081.99  \n",
       "251  118826.44  \n",
       "252  137627.62  \n",
       "253   51759.58  \n",
       "254   51667.06  \n",
       "255   68934.03  \n",
       "256  122110.90  \n",
       "257   90381.47  "
      ]
     },
     "execution_count": 6,
     "metadata": {},
     "output_type": "execute_result"
    }
   ],
   "source": [
    "dataset"
   ]
  },
  {
   "cell_type": "code",
   "execution_count": 7,
   "metadata": {
    "colab": {},
    "colab_type": "code",
    "id": "5D739PzJD0_B"
   },
   "outputs": [
    {
     "data": {
      "text/plain": [
       "Nombre          object\n",
       "Motor           object\n",
       "Año              int64\n",
       "Kilometraje    float64\n",
       "Cero_km           bool\n",
       "Accesorios      object\n",
       "Valor          float64\n",
       "dtype: object"
      ]
     },
     "execution_count": 7,
     "metadata": {},
     "output_type": "execute_result"
    }
   ],
   "source": [
    "dataset.dtypes"
   ]
  },
  {
   "cell_type": "code",
   "execution_count": 9,
   "metadata": {
    "colab": {},
    "colab_type": "code",
    "id": "r_qUf16LD0_D"
   },
   "outputs": [
    {
     "data": {
      "text/html": [
       "<div>\n",
       "<style scoped>\n",
       "    .dataframe tbody tr th:only-of-type {\n",
       "        vertical-align: middle;\n",
       "    }\n",
       "\n",
       "    .dataframe tbody tr th {\n",
       "        vertical-align: top;\n",
       "    }\n",
       "\n",
       "    .dataframe thead th {\n",
       "        text-align: right;\n",
       "    }\n",
       "</style>\n",
       "<table border=\"1\" class=\"dataframe\">\n",
       "  <thead>\n",
       "    <tr style=\"text-align: right;\">\n",
       "      <th></th>\n",
       "      <th>Kilometraje</th>\n",
       "      <th>Valor</th>\n",
       "    </tr>\n",
       "  </thead>\n",
       "  <tbody>\n",
       "    <tr>\n",
       "      <th>count</th>\n",
       "      <td>197.000000</td>\n",
       "      <td>258.000000</td>\n",
       "    </tr>\n",
       "    <tr>\n",
       "      <th>mean</th>\n",
       "      <td>58278.421320</td>\n",
       "      <td>98960.513101</td>\n",
       "    </tr>\n",
       "    <tr>\n",
       "      <th>std</th>\n",
       "      <td>35836.733259</td>\n",
       "      <td>29811.932305</td>\n",
       "    </tr>\n",
       "    <tr>\n",
       "      <th>min</th>\n",
       "      <td>107.000000</td>\n",
       "      <td>50742.100000</td>\n",
       "    </tr>\n",
       "    <tr>\n",
       "      <th>25%</th>\n",
       "      <td>27505.000000</td>\n",
       "      <td>70743.512500</td>\n",
       "    </tr>\n",
       "    <tr>\n",
       "      <th>50%</th>\n",
       "      <td>55083.000000</td>\n",
       "      <td>97724.380000</td>\n",
       "    </tr>\n",
       "    <tr>\n",
       "      <th>75%</th>\n",
       "      <td>90495.000000</td>\n",
       "      <td>124633.302500</td>\n",
       "    </tr>\n",
       "    <tr>\n",
       "      <th>max</th>\n",
       "      <td>119945.000000</td>\n",
       "      <td>149489.920000</td>\n",
       "    </tr>\n",
       "  </tbody>\n",
       "</table>\n",
       "</div>"
      ],
      "text/plain": [
       "         Kilometraje          Valor\n",
       "count     197.000000     258.000000\n",
       "mean    58278.421320   98960.513101\n",
       "std     35836.733259   29811.932305\n",
       "min       107.000000   50742.100000\n",
       "25%     27505.000000   70743.512500\n",
       "50%     55083.000000   97724.380000\n",
       "75%     90495.000000  124633.302500\n",
       "max    119945.000000  149489.920000"
      ]
     },
     "execution_count": 9,
     "metadata": {},
     "output_type": "execute_result"
    }
   ],
   "source": [
    "dataset[['Kilometraje','Valor']].describe()"
   ]
  },
  {
   "cell_type": "code",
   "execution_count": 10,
   "metadata": {
    "colab": {},
    "colab_type": "code",
    "id": "0R-_7PH5D0_E"
   },
   "outputs": [
    {
     "name": "stdout",
     "output_type": "stream",
     "text": [
      "<class 'pandas.core.frame.DataFrame'>\n",
      "RangeIndex: 258 entries, 0 to 257\n",
      "Data columns (total 7 columns):\n",
      " #   Column       Non-Null Count  Dtype  \n",
      "---  ------       --------------  -----  \n",
      " 0   Nombre       258 non-null    object \n",
      " 1   Motor        258 non-null    object \n",
      " 2   Año          258 non-null    int64  \n",
      " 3   Kilometraje  197 non-null    float64\n",
      " 4   Cero_km      258 non-null    bool   \n",
      " 5   Accesorios   258 non-null    object \n",
      " 6   Valor        258 non-null    float64\n",
      "dtypes: bool(1), float64(2), int64(1), object(3)\n",
      "memory usage: 12.5+ KB\n"
     ]
    }
   ],
   "source": [
    "dataset.info()"
   ]
  },
  {
   "cell_type": "markdown",
   "metadata": {
    "colab_type": "text",
    "id": "htjoBLwiD0_F"
   },
   "source": [
    "# <font color=green> 2. TRABAJANDO CON TUPLAS\n",
    "---"
   ]
  },
  {
   "cell_type": "markdown",
   "metadata": {
    "colab_type": "text",
    "id": "MZH5_QnYD0_G"
   },
   "source": [
    "# 2.1 Creando tuplas\n",
    "\n",
    "Tuplas son secuencias **inmutables** que son utilizadas para guardar colecciones de objetos, geralmente heterogéneos. Pueden ser construídas de varias formas:\n",
    "```\n",
    "- Utilizando un par de paréntesis: ( )\n",
    "- Utilizando una coma a la derecha: x,\n",
    "- Utilizando un par de paréntesis con objetos separados por comas: ( x, y, z )\n",
    "- Utilizando: tuple() o tuple(iterador)\n",
    "```"
   ]
  },
  {
   "cell_type": "code",
   "execution_count": 1,
   "metadata": {
    "colab": {},
    "colab_type": "code",
    "id": "xzcs9fzeD0_G"
   },
   "outputs": [
    {
     "data": {
      "text/plain": [
       "()"
      ]
     },
     "execution_count": 1,
     "metadata": {},
     "output_type": "execute_result"
    }
   ],
   "source": [
    "()"
   ]
  },
  {
   "cell_type": "code",
   "execution_count": 2,
   "metadata": {
    "colab": {},
    "colab_type": "code",
    "id": "qJq7a2qTD0_I"
   },
   "outputs": [
    {
     "data": {
      "text/plain": [
       "(1, 2, 3)"
      ]
     },
     "execution_count": 2,
     "metadata": {},
     "output_type": "execute_result"
    }
   ],
   "source": [
    "1, 2, 3"
   ]
  },
  {
   "cell_type": "code",
   "execution_count": 3,
   "metadata": {
    "colab": {},
    "colab_type": "code",
    "id": "sg7LdvptD0_J"
   },
   "outputs": [
    {
     "data": {
      "text/plain": [
       "('Passat', 153000)"
      ]
     },
     "execution_count": 3,
     "metadata": {},
     "output_type": "execute_result"
    }
   ],
   "source": [
    "nombre = 'Passat'\n",
    "valor = 153000\n",
    "(nombre, valor)"
   ]
  },
  {
   "cell_type": "code",
   "execution_count": 4,
   "metadata": {
    "colab": {},
    "colab_type": "code",
    "id": "XSSMebXjD0_K"
   },
   "outputs": [
    {
     "data": {
      "text/plain": [
       "('Jetta Variant', 'Passat', 'Crossfox', 'DS5')"
      ]
     },
     "execution_count": 4,
     "metadata": {},
     "output_type": "execute_result"
    }
   ],
   "source": [
    "nombres_carros = tuple(['Jetta Variant', 'Passat', 'Crossfox', 'DS5'])\n",
    "nombres_carros"
   ]
  },
  {
   "cell_type": "code",
   "execution_count": 5,
   "metadata": {
    "colab": {},
    "colab_type": "code",
    "id": "dpkdzrzRD0_M"
   },
   "outputs": [
    {
     "data": {
      "text/plain": [
       "tuple"
      ]
     },
     "execution_count": 5,
     "metadata": {},
     "output_type": "execute_result"
    }
   ],
   "source": [
    "type(nombres_carros)"
   ]
  },
  {
   "cell_type": "markdown",
   "metadata": {
    "colab_type": "text",
    "id": "iKUY2DOUD0_N"
   },
   "source": [
    "# 2.2 Selecciones en tuplas"
   ]
  },
  {
   "cell_type": "code",
   "execution_count": 7,
   "metadata": {
    "colab": {},
    "colab_type": "code",
    "id": "hBEeAM7_D0_N"
   },
   "outputs": [
    {
     "data": {
      "text/plain": [
       "('Jetta Variant', 'Passat', 'Crossfox', 'DS5')"
      ]
     },
     "execution_count": 7,
     "metadata": {},
     "output_type": "execute_result"
    }
   ],
   "source": [
    "nombres_carros = ('Jetta Variant', 'Passat', 'Crossfox', 'DS5')\n",
    "nombres_carros"
   ]
  },
  {
   "cell_type": "code",
   "execution_count": 8,
   "metadata": {
    "colab": {},
    "colab_type": "code",
    "id": "-mx_1E_tD0_P"
   },
   "outputs": [
    {
     "data": {
      "text/plain": [
       "'Jetta Variant'"
      ]
     },
     "execution_count": 8,
     "metadata": {},
     "output_type": "execute_result"
    }
   ],
   "source": [
    "nombres_carros[0]"
   ]
  },
  {
   "cell_type": "code",
   "execution_count": 9,
   "metadata": {
    "colab": {},
    "colab_type": "code",
    "id": "LMhyqnFID0_Q"
   },
   "outputs": [
    {
     "data": {
      "text/plain": [
       "'Passat'"
      ]
     },
     "execution_count": 9,
     "metadata": {},
     "output_type": "execute_result"
    }
   ],
   "source": [
    "nombres_carros[1]"
   ]
  },
  {
   "cell_type": "code",
   "execution_count": 10,
   "metadata": {
    "colab": {},
    "colab_type": "code",
    "id": "6btHff4BD0_T"
   },
   "outputs": [
    {
     "data": {
      "text/plain": [
       "'DS5'"
      ]
     },
     "execution_count": 10,
     "metadata": {},
     "output_type": "execute_result"
    }
   ],
   "source": [
    "nombres_carros[-1]"
   ]
  },
  {
   "cell_type": "code",
   "execution_count": 11,
   "metadata": {
    "colab": {},
    "colab_type": "code",
    "id": "K_Dc12xBD0_U"
   },
   "outputs": [
    {
     "data": {
      "text/plain": [
       "('Passat', 'Crossfox')"
      ]
     },
     "execution_count": 11,
     "metadata": {},
     "output_type": "execute_result"
    }
   ],
   "source": [
    "nombres_carros[1:3]"
   ]
  },
  {
   "cell_type": "code",
   "execution_count": 12,
   "metadata": {
    "colab": {},
    "colab_type": "code",
    "id": "zvrWYkkeD0_W"
   },
   "outputs": [
    {
     "data": {
      "text/plain": [
       "('Jetta Variant', 'Passat', 'Crossfox', 'DS5', ('Fusca', 'Gol', 'C4'))"
      ]
     },
     "execution_count": 12,
     "metadata": {},
     "output_type": "execute_result"
    }
   ],
   "source": [
    "nombres_carros = ('Jetta Variant', 'Passat', 'Crossfox', 'DS5', ('Fusca', 'Gol', 'C4'))\n",
    "nombres_carros"
   ]
  },
  {
   "cell_type": "code",
   "execution_count": 13,
   "metadata": {
    "colab": {},
    "colab_type": "code",
    "id": "Dw7tbM2ED0_Z"
   },
   "outputs": [
    {
     "data": {
      "text/plain": [
       "('Fusca', 'Gol', 'C4')"
      ]
     },
     "execution_count": 13,
     "metadata": {},
     "output_type": "execute_result"
    }
   ],
   "source": [
    "nombres_carros[-1]"
   ]
  },
  {
   "cell_type": "code",
   "execution_count": 14,
   "metadata": {
    "colab": {},
    "colab_type": "code",
    "id": "SAMD3BtXD0_b"
   },
   "outputs": [
    {
     "data": {
      "text/plain": [
       "'Gol'"
      ]
     },
     "execution_count": 14,
     "metadata": {},
     "output_type": "execute_result"
    }
   ],
   "source": [
    "nombres_carros[-1][1]"
   ]
  },
  {
   "cell_type": "markdown",
   "metadata": {
    "colab_type": "text",
    "id": "KLMxh4-0D0_c"
   },
   "source": [
    "# 2.3 Iterando en tuplas"
   ]
  },
  {
   "cell_type": "code",
   "execution_count": 15,
   "metadata": {
    "colab": {},
    "colab_type": "code",
    "id": "K53elKsYD0_c"
   },
   "outputs": [
    {
     "data": {
      "text/plain": [
       "('Jetta Variant', 'Passat', 'Crossfox', 'DS5')"
      ]
     },
     "execution_count": 15,
     "metadata": {},
     "output_type": "execute_result"
    }
   ],
   "source": [
    "nombres_carros = ('Jetta Variant', 'Passat', 'Crossfox', 'DS5')\n",
    "nombres_carros"
   ]
  },
  {
   "cell_type": "code",
   "execution_count": 16,
   "metadata": {
    "colab": {},
    "colab_type": "code",
    "id": "igZhZ5zdD0_d"
   },
   "outputs": [
    {
     "name": "stdout",
     "output_type": "stream",
     "text": [
      "Jetta Variant\n",
      "Passat\n",
      "Crossfox\n",
      "DS5\n"
     ]
    }
   ],
   "source": [
    "for item in nombres_carros:\n",
    "    print(item)"
   ]
  },
  {
   "cell_type": "markdown",
   "metadata": {
    "colab_type": "text",
    "id": "AOBjxBk8D0_f"
   },
   "source": [
    "### Desempacando tuplas"
   ]
  },
  {
   "cell_type": "code",
   "execution_count": 17,
   "metadata": {
    "colab": {},
    "colab_type": "code",
    "id": "UoEFnumhD0_f"
   },
   "outputs": [
    {
     "data": {
      "text/plain": [
       "('Jetta Variant', 'Passat', 'Crossfox', 'DS5')"
      ]
     },
     "execution_count": 17,
     "metadata": {},
     "output_type": "execute_result"
    }
   ],
   "source": [
    "nombres_carros = ('Jetta Variant', 'Passat', 'Crossfox', 'DS5')\n",
    "nombres_carros"
   ]
  },
  {
   "cell_type": "code",
   "execution_count": 18,
   "metadata": {
    "colab": {},
    "colab_type": "code",
    "id": "AaCLcNYTD0_g"
   },
   "outputs": [],
   "source": [
    "carro_1, carro_2, carro_3, carro_4 = nombres_carros"
   ]
  },
  {
   "cell_type": "code",
   "execution_count": 19,
   "metadata": {
    "colab": {},
    "colab_type": "code",
    "id": "TA71S9egD0_h"
   },
   "outputs": [
    {
     "data": {
      "text/plain": [
       "'Jetta Variant'"
      ]
     },
     "execution_count": 19,
     "metadata": {},
     "output_type": "execute_result"
    }
   ],
   "source": [
    "carro_1"
   ]
  },
  {
   "cell_type": "code",
   "execution_count": 20,
   "metadata": {
    "colab": {},
    "colab_type": "code",
    "id": "CHoJ034MD0_i"
   },
   "outputs": [
    {
     "data": {
      "text/plain": [
       "'Passat'"
      ]
     },
     "execution_count": 20,
     "metadata": {},
     "output_type": "execute_result"
    }
   ],
   "source": [
    "carro_2"
   ]
  },
  {
   "cell_type": "code",
   "execution_count": 21,
   "metadata": {
    "colab": {},
    "colab_type": "code",
    "id": "oxJrOuCSD0_j"
   },
   "outputs": [
    {
     "data": {
      "text/plain": [
       "'Crossfox'"
      ]
     },
     "execution_count": 21,
     "metadata": {},
     "output_type": "execute_result"
    }
   ],
   "source": [
    "carro_3"
   ]
  },
  {
   "cell_type": "code",
   "execution_count": 22,
   "metadata": {
    "colab": {},
    "colab_type": "code",
    "id": "BbR9sB4BD0_k"
   },
   "outputs": [
    {
     "data": {
      "text/plain": [
       "'DS5'"
      ]
     },
     "execution_count": 22,
     "metadata": {},
     "output_type": "execute_result"
    }
   ],
   "source": [
    "carro_4"
   ]
  },
  {
   "cell_type": "code",
   "execution_count": 23,
   "metadata": {
    "colab": {},
    "colab_type": "code",
    "id": "aZvokrjPD0_m"
   },
   "outputs": [],
   "source": [
    "_, A, _, B = nombres_carros"
   ]
  },
  {
   "cell_type": "code",
   "execution_count": 24,
   "metadata": {
    "colab": {},
    "colab_type": "code",
    "id": "wZXDbVg0D0_o"
   },
   "outputs": [
    {
     "data": {
      "text/plain": [
       "'Passat'"
      ]
     },
     "execution_count": 24,
     "metadata": {},
     "output_type": "execute_result"
    }
   ],
   "source": [
    "A"
   ]
  },
  {
   "cell_type": "code",
   "execution_count": 25,
   "metadata": {
    "colab": {},
    "colab_type": "code",
    "id": "aWgDMBXiD0_p"
   },
   "outputs": [
    {
     "data": {
      "text/plain": [
       "'DS5'"
      ]
     },
     "execution_count": 25,
     "metadata": {},
     "output_type": "execute_result"
    }
   ],
   "source": [
    "B"
   ]
  },
  {
   "cell_type": "code",
   "execution_count": 27,
   "metadata": {
    "colab": {},
    "colab_type": "code",
    "id": "OdpgNh-ND0_q"
   },
   "outputs": [],
   "source": [
    "_, C, *_ = nombres_carros"
   ]
  },
  {
   "cell_type": "code",
   "execution_count": 28,
   "metadata": {
    "colab": {},
    "colab_type": "code",
    "id": "upVYFnMdD0_r"
   },
   "outputs": [
    {
     "data": {
      "text/plain": [
       "'Passat'"
      ]
     },
     "execution_count": 28,
     "metadata": {},
     "output_type": "execute_result"
    }
   ],
   "source": [
    "C"
   ]
  },
  {
   "cell_type": "markdown",
   "metadata": {
    "colab_type": "text",
    "id": "u85Aou8WD0_s"
   },
   "source": [
    "## *zip()*\n",
    "\n",
    "https://docs.python.org/3.6/library/functions.html#zip"
   ]
  },
  {
   "cell_type": "code",
   "execution_count": 29,
   "metadata": {
    "colab": {},
    "colab_type": "code",
    "id": "PaC2oXGED0_t"
   },
   "outputs": [
    {
     "data": {
      "text/plain": [
       "['Jetta Variant', 'Passat', 'Crossfox', 'DS5']"
      ]
     },
     "execution_count": 29,
     "metadata": {},
     "output_type": "execute_result"
    }
   ],
   "source": [
    "carros = ['Jetta Variant', 'Passat', 'Crossfox', 'DS5']\n",
    "carros"
   ]
  },
  {
   "cell_type": "code",
   "execution_count": 30,
   "metadata": {
    "colab": {},
    "colab_type": "code",
    "id": "_02O1VnHD0_u"
   },
   "outputs": [
    {
     "data": {
      "text/plain": [
       "[88078.64, 106161.94, 72832.16, 124549.07]"
      ]
     },
     "execution_count": 30,
     "metadata": {},
     "output_type": "execute_result"
    }
   ],
   "source": [
    "valores = [88078.64, 106161.94, 72832.16, 124549.07]\n",
    "valores"
   ]
  },
  {
   "cell_type": "code",
   "execution_count": 32,
   "metadata": {
    "colab": {},
    "colab_type": "code",
    "id": "roQK5nYRD0_v"
   },
   "outputs": [
    {
     "data": {
      "text/plain": [
       "[('Jetta Variant', 88078.64),\n",
       " ('Passat', 106161.94),\n",
       " ('Crossfox', 72832.16),\n",
       " ('DS5', 124549.07)]"
      ]
     },
     "execution_count": 32,
     "metadata": {},
     "output_type": "execute_result"
    }
   ],
   "source": [
    "list(zip(carros, valores))"
   ]
  },
  {
   "cell_type": "code",
   "execution_count": 33,
   "metadata": {
    "colab": {},
    "colab_type": "code",
    "id": "_WRxIRHrD0_w"
   },
   "outputs": [
    {
     "name": "stdout",
     "output_type": "stream",
     "text": [
      "('Jetta Variant', 88078.64)\n",
      "('Passat', 106161.94)\n",
      "('Crossfox', 72832.16)\n",
      "('DS5', 124549.07)\n"
     ]
    }
   ],
   "source": [
    "for item in zip(carros, valores):\n",
    "    print(item)"
   ]
  },
  {
   "cell_type": "code",
   "execution_count": 34,
   "metadata": {
    "colab": {},
    "colab_type": "code",
    "id": "2zIuhIILD0_x"
   },
   "outputs": [
    {
     "name": "stdout",
     "output_type": "stream",
     "text": [
      "Jetta Variant 88078.64\n",
      "Passat 106161.94\n",
      "Crossfox 72832.16\n",
      "DS5 124549.07\n"
     ]
    }
   ],
   "source": [
    "for carro, valor in zip(carros, valores):\n",
    "    print(carro, valor)"
   ]
  },
  {
   "cell_type": "code",
   "execution_count": 35,
   "metadata": {
    "colab": {},
    "colab_type": "code",
    "id": "ZJaL62IpD0_y"
   },
   "outputs": [
    {
     "name": "stdout",
     "output_type": "stream",
     "text": [
      "Passat\n",
      "DS5\n"
     ]
    }
   ],
   "source": [
    "for carro, valor in zip(carros, valores):\n",
    "    if(valor > 100000):\n",
    "        print(carro)"
   ]
  },
  {
   "cell_type": "markdown",
   "metadata": {
    "colab_type": "text",
    "id": "xo76nR8rD0_0"
   },
   "source": [
    "# <font color=green> 3. TRABAJANDO CON DICCIONARIOS\n",
    "---"
   ]
  },
  {
   "cell_type": "markdown",
   "metadata": {
    "colab_type": "text",
    "id": "wfWzOuztD0_0"
   },
   "source": [
    "# 3.1 Creando diccionarios\n",
    "\n",
    "Listas son colecciones secuenciales, es decir, los elementos de estas secuencias están ordenados y utilizan índices (números enteros) para acceder a los valores.\n",
    "\n",
    "Los diccionarios son colecciones ligeramente diferentes. Son estructuras de datos que representan un tipo de mapeo. Los mapeos son colecciones de asociaciones entre pares de valores donde el primer elemento del par se conoce como llave (*key*) y el segundo como valor (*value*).\n",
    "\n",
    "```\n",
    "diccionario = {key_1: value_1, key_2: value_2, ..., key_n: value_n}\n",
    "```\n",
    "\n",
    "https://docs.python.org/3.6/library/stdtypes.html#typesmapping"
   ]
  },
  {
   "cell_type": "code",
   "execution_count": 1,
   "metadata": {
    "colab": {},
    "colab_type": "code",
    "id": "YIFVkWT6D0_1"
   },
   "outputs": [
    {
     "data": {
      "text/plain": [
       "['Jetta Variant', 'Passat', 'Crossfox']"
      ]
     },
     "execution_count": 1,
     "metadata": {},
     "output_type": "execute_result"
    }
   ],
   "source": [
    "carros = ['Jetta Variant', 'Passat', 'Crossfox']\n",
    "carros"
   ]
  },
  {
   "cell_type": "code",
   "execution_count": 2,
   "metadata": {
    "colab": {},
    "colab_type": "code",
    "id": "2LHiBn3-D0_2"
   },
   "outputs": [
    {
     "data": {
      "text/plain": [
       "[88078.64, 106161.94, 72832.16]"
      ]
     },
     "execution_count": 2,
     "metadata": {},
     "output_type": "execute_result"
    }
   ],
   "source": [
    "valores = [88078.64, 106161.94, 72832.16]\n",
    "valores"
   ]
  },
  {
   "cell_type": "code",
   "execution_count": 3,
   "metadata": {
    "colab": {},
    "colab_type": "code",
    "id": "YxLAx_sqD0_4"
   },
   "outputs": [
    {
     "data": {
      "text/plain": [
       "1"
      ]
     },
     "execution_count": 3,
     "metadata": {},
     "output_type": "execute_result"
    }
   ],
   "source": [
    "carros.index('Passat')"
   ]
  },
  {
   "cell_type": "code",
   "execution_count": 4,
   "metadata": {
    "colab": {},
    "colab_type": "code",
    "id": "WITNWExID0_7"
   },
   "outputs": [
    {
     "data": {
      "text/plain": [
       "106161.94"
      ]
     },
     "execution_count": 4,
     "metadata": {},
     "output_type": "execute_result"
    }
   ],
   "source": [
    "valores[carros.index('Passat')]"
   ]
  },
  {
   "cell_type": "code",
   "execution_count": 5,
   "metadata": {
    "colab": {},
    "colab_type": "code",
    "id": "bHNqoDbTD0_8"
   },
   "outputs": [
    {
     "data": {
      "text/plain": [
       "{'Jetta Variant': 88078.64, 'Passat': 106161.94, 'Crossfox': 72832.16}"
      ]
     },
     "execution_count": 5,
     "metadata": {},
     "output_type": "execute_result"
    }
   ],
   "source": [
    "datos = {'Jetta Variant':88078.64, 'Passat':106161.94, 'Crossfox':72832.16}\n",
    "datos"
   ]
  },
  {
   "cell_type": "code",
   "execution_count": 6,
   "metadata": {
    "colab": {},
    "colab_type": "code",
    "id": "4FyQgmcAD0_9"
   },
   "outputs": [
    {
     "data": {
      "text/plain": [
       "dict"
      ]
     },
     "execution_count": 6,
     "metadata": {},
     "output_type": "execute_result"
    }
   ],
   "source": [
    "type(datos)"
   ]
  },
  {
   "cell_type": "markdown",
   "metadata": {
    "colab_type": "text",
    "id": "PQg-MLkGD0_-"
   },
   "source": [
    "### Creando diccionarios con *zip()*"
   ]
  },
  {
   "cell_type": "code",
   "execution_count": 7,
   "metadata": {
    "colab": {},
    "colab_type": "code",
    "id": "iB4Q_gbND0__"
   },
   "outputs": [
    {
     "data": {
      "text/plain": [
       "[('Jetta Variant', 88078.64), ('Passat', 106161.94), ('Crossfox', 72832.16)]"
      ]
     },
     "execution_count": 7,
     "metadata": {},
     "output_type": "execute_result"
    }
   ],
   "source": [
    "list(zip(carros,valores))"
   ]
  },
  {
   "cell_type": "code",
   "execution_count": 8,
   "metadata": {
    "colab": {},
    "colab_type": "code",
    "id": "mIgZqdKKD1AA"
   },
   "outputs": [
    {
     "data": {
      "text/plain": [
       "{'Jetta Variant': 88078.64, 'Passat': 106161.94, 'Crossfox': 72832.16}"
      ]
     },
     "execution_count": 8,
     "metadata": {},
     "output_type": "execute_result"
    }
   ],
   "source": [
    "datos = dict(zip(carros,valores))\n",
    "datos"
   ]
  },
  {
   "cell_type": "markdown",
   "metadata": {
    "colab_type": "text",
    "id": "KYeRqavFD1AD"
   },
   "source": [
    "# 3.2 Operaciones con diccionarios"
   ]
  },
  {
   "cell_type": "markdown",
   "metadata": {
    "colab_type": "text",
    "id": "KzmWbEltD1AD"
   },
   "source": [
    "## *dict[ key ]*\n",
    "\n",
    "Devuelve el valor correspondiente a la llave (*key*) en el diccionario."
   ]
  },
  {
   "cell_type": "code",
   "execution_count": 9,
   "metadata": {
    "colab": {},
    "colab_type": "code",
    "id": "hFFDz6wKD1AD"
   },
   "outputs": [
    {
     "data": {
      "text/plain": [
       "106161.94"
      ]
     },
     "execution_count": 9,
     "metadata": {},
     "output_type": "execute_result"
    }
   ],
   "source": [
    "datos['Passat']"
   ]
  },
  {
   "cell_type": "markdown",
   "metadata": {
    "colab_type": "text",
    "id": "SWlE6VTBD1AE"
   },
   "source": [
    "## *key in dict*\n",
    "\n",
    "Devuelve **True** si la llave (*key*) es encontrada en el diccionario."
   ]
  },
  {
   "cell_type": "code",
   "execution_count": 10,
   "metadata": {
    "colab": {},
    "colab_type": "code",
    "id": "Iy88SxBtD1AE"
   },
   "outputs": [
    {
     "data": {
      "text/plain": [
       "True"
      ]
     },
     "execution_count": 10,
     "metadata": {},
     "output_type": "execute_result"
    }
   ],
   "source": [
    "'Passat' in datos"
   ]
  },
  {
   "cell_type": "code",
   "execution_count": 11,
   "metadata": {
    "colab": {},
    "colab_type": "code",
    "id": "Oma56NkAD1AF"
   },
   "outputs": [
    {
     "data": {
      "text/plain": [
       "False"
      ]
     },
     "execution_count": 11,
     "metadata": {},
     "output_type": "execute_result"
    }
   ],
   "source": [
    "'Fusca' in datos"
   ]
  },
  {
   "cell_type": "code",
   "execution_count": 12,
   "metadata": {
    "colab": {},
    "colab_type": "code",
    "id": "yS2U-_8gD1AG"
   },
   "outputs": [
    {
     "data": {
      "text/plain": [
       "True"
      ]
     },
     "execution_count": 12,
     "metadata": {},
     "output_type": "execute_result"
    }
   ],
   "source": [
    "'Fusca' not in datos"
   ]
  },
  {
   "cell_type": "markdown",
   "metadata": {
    "colab_type": "text",
    "id": "oWbWyDd0D1AI"
   },
   "source": [
    "## *len(dict)*\n",
    "\n",
    "Devuelve el número de itens del diccionario."
   ]
  },
  {
   "cell_type": "code",
   "execution_count": 13,
   "metadata": {
    "colab": {},
    "colab_type": "code",
    "id": "k08YkCc1D1AJ"
   },
   "outputs": [
    {
     "data": {
      "text/plain": [
       "3"
      ]
     },
     "execution_count": 13,
     "metadata": {},
     "output_type": "execute_result"
    }
   ],
   "source": [
    "len(datos)"
   ]
  },
  {
   "cell_type": "markdown",
   "metadata": {
    "colab_type": "text",
    "id": "yYNqIHJBD1AK"
   },
   "source": [
    "## *dict[ key ] = value*\n",
    "\n",
    "Incluye un item al diccionario."
   ]
  },
  {
   "cell_type": "code",
   "execution_count": 14,
   "metadata": {
    "colab": {},
    "colab_type": "code",
    "id": "5jj3i52bD1AK"
   },
   "outputs": [],
   "source": [
    "datos['DS5'] = 124549.07"
   ]
  },
  {
   "cell_type": "code",
   "execution_count": 15,
   "metadata": {
    "colab": {},
    "colab_type": "code",
    "id": "y6rso5hLD1AL"
   },
   "outputs": [
    {
     "data": {
      "text/plain": [
       "{'Jetta Variant': 88078.64,\n",
       " 'Passat': 106161.94,\n",
       " 'Crossfox': 72832.16,\n",
       " 'DS5': 124549.07}"
      ]
     },
     "execution_count": 15,
     "metadata": {},
     "output_type": "execute_result"
    }
   ],
   "source": [
    "datos"
   ]
  },
  {
   "cell_type": "markdown",
   "metadata": {
    "colab_type": "text",
    "id": "_z0JySuqD1AL"
   },
   "source": [
    "## *del dict[ key ]*\n",
    "\n",
    "Borra el item de llave (*key*) del diccionario."
   ]
  },
  {
   "cell_type": "code",
   "execution_count": 16,
   "metadata": {
    "colab": {},
    "colab_type": "code",
    "id": "PPfh6sfID1AM"
   },
   "outputs": [
    {
     "data": {
      "text/plain": [
       "{'Jetta Variant': 88078.64,\n",
       " 'Passat': 106161.94,\n",
       " 'Crossfox': 72832.16,\n",
       " 'DS5': 124549.07}"
      ]
     },
     "execution_count": 16,
     "metadata": {},
     "output_type": "execute_result"
    }
   ],
   "source": [
    "datos"
   ]
  },
  {
   "cell_type": "code",
   "execution_count": 17,
   "metadata": {
    "colab": {},
    "colab_type": "code",
    "id": "BtjGpXtGD1AN"
   },
   "outputs": [
    {
     "data": {
      "text/plain": [
       "{'Jetta Variant': 88078.64, 'Crossfox': 72832.16, 'DS5': 124549.07}"
      ]
     },
     "execution_count": 17,
     "metadata": {},
     "output_type": "execute_result"
    }
   ],
   "source": [
    "del datos['Passat']\n",
    "datos"
   ]
  },
  {
   "cell_type": "markdown",
   "metadata": {
    "colab_type": "text",
    "id": "FodJVx5sD1AP"
   },
   "source": [
    "# 3.3 Métodos de diccionarios"
   ]
  },
  {
   "cell_type": "markdown",
   "metadata": {
    "colab_type": "text",
    "id": "7pqdPOkYD1AP"
   },
   "source": [
    "## *dict.update()*\n",
    "\n",
    "Actualiza el diccionario."
   ]
  },
  {
   "cell_type": "code",
   "execution_count": 18,
   "metadata": {
    "colab": {},
    "colab_type": "code",
    "id": "DUySYxKQD1AQ"
   },
   "outputs": [
    {
     "data": {
      "text/plain": [
       "{'Jetta Variant': 88078.64, 'Crossfox': 72832.16, 'DS5': 124549.07}"
      ]
     },
     "execution_count": 18,
     "metadata": {},
     "output_type": "execute_result"
    }
   ],
   "source": [
    "datos"
   ]
  },
  {
   "cell_type": "code",
   "execution_count": 20,
   "metadata": {
    "colab": {},
    "colab_type": "code",
    "id": "DLsqp71cD1AR"
   },
   "outputs": [
    {
     "data": {
      "text/plain": [
       "{'Jetta Variant': 88078.64,\n",
       " 'Crossfox': 72832.16,\n",
       " 'DS5': 124549.07,\n",
       " 'Passat': 106161.94}"
      ]
     },
     "execution_count": 20,
     "metadata": {},
     "output_type": "execute_result"
    }
   ],
   "source": [
    "datos.update({'Passat': 106161.94})\n",
    "datos"
   ]
  },
  {
   "cell_type": "code",
   "execution_count": 21,
   "metadata": {},
   "outputs": [
    {
     "data": {
      "text/plain": [
       "{'Jetta Variant': 88078.64,\n",
       " 'Crossfox': 72832.16,\n",
       " 'DS5': 124549.07,\n",
       " 'Passat': 106161.95,\n",
       " 'Fusca': 150000}"
      ]
     },
     "execution_count": 21,
     "metadata": {},
     "output_type": "execute_result"
    }
   ],
   "source": [
    "datos.update({'Passat': 106161.95, 'Fusca': 150000})\n",
    "datos"
   ]
  },
  {
   "cell_type": "markdown",
   "metadata": {
    "colab_type": "text",
    "id": "JLs5c0DeD1AR"
   },
   "source": [
    "## *dict.copy()*\n",
    "\n",
    "Crea una copia del diccionario."
   ]
  },
  {
   "cell_type": "code",
   "execution_count": 22,
   "metadata": {
    "colab": {},
    "colab_type": "code",
    "id": "X9F7OB3eD1AS"
   },
   "outputs": [],
   "source": [
    "datosCopy = datos.copy()"
   ]
  },
  {
   "cell_type": "code",
   "execution_count": 23,
   "metadata": {
    "colab": {},
    "colab_type": "code",
    "id": "v0rL0bveD1AS"
   },
   "outputs": [
    {
     "data": {
      "text/plain": [
       "{'Jetta Variant': 88078.64,\n",
       " 'Crossfox': 72832.16,\n",
       " 'DS5': 124549.07,\n",
       " 'Passat': 106161.95,\n",
       " 'Fusca': 150000}"
      ]
     },
     "execution_count": 23,
     "metadata": {},
     "output_type": "execute_result"
    }
   ],
   "source": [
    "datosCopy"
   ]
  },
  {
   "cell_type": "code",
   "execution_count": 24,
   "metadata": {
    "colab": {},
    "colab_type": "code",
    "id": "M-abRGGrD1AT"
   },
   "outputs": [
    {
     "data": {
      "text/plain": [
       "{'Jetta Variant': 88078.64,\n",
       " 'Crossfox': 72832.16,\n",
       " 'DS5': 124549.07,\n",
       " 'Passat': 106161.95}"
      ]
     },
     "execution_count": 24,
     "metadata": {},
     "output_type": "execute_result"
    }
   ],
   "source": [
    "del datosCopy['Fusca']\n",
    "datosCopy"
   ]
  },
  {
   "cell_type": "code",
   "execution_count": 25,
   "metadata": {
    "colab": {},
    "colab_type": "code",
    "id": "ETBD0TkND1AU"
   },
   "outputs": [
    {
     "data": {
      "text/plain": [
       "{'Jetta Variant': 88078.64,\n",
       " 'Crossfox': 72832.16,\n",
       " 'DS5': 124549.07,\n",
       " 'Passat': 106161.95,\n",
       " 'Fusca': 150000}"
      ]
     },
     "execution_count": 25,
     "metadata": {},
     "output_type": "execute_result"
    }
   ],
   "source": [
    "datos"
   ]
  },
  {
   "cell_type": "markdown",
   "metadata": {
    "colab_type": "text",
    "id": "mNODkmHCD1AV"
   },
   "source": [
    "## *dict.pop(key[, default ])*\n",
    "\n",
    "Si la llave se encuentra en el diccionario, el elemento se elimina y se devuelve su valor. De lo contrario, se devuelve el valor especificado como *default*. Si no se proporciona el valor *default* y la llave no se encuentra en el diccionario, se generará un error."
   ]
  },
  {
   "cell_type": "code",
   "execution_count": 26,
   "metadata": {
    "colab": {},
    "colab_type": "code",
    "id": "_4QEPwScD1AW"
   },
   "outputs": [
    {
     "data": {
      "text/plain": [
       "{'Jetta Variant': 88078.64,\n",
       " 'Crossfox': 72832.16,\n",
       " 'DS5': 124549.07,\n",
       " 'Passat': 106161.95}"
      ]
     },
     "execution_count": 26,
     "metadata": {},
     "output_type": "execute_result"
    }
   ],
   "source": [
    "datosCopy"
   ]
  },
  {
   "cell_type": "code",
   "execution_count": 27,
   "metadata": {
    "colab": {},
    "colab_type": "code",
    "id": "Hjh0MuymD1AX"
   },
   "outputs": [
    {
     "data": {
      "text/plain": [
       "106161.95"
      ]
     },
     "execution_count": 27,
     "metadata": {},
     "output_type": "execute_result"
    }
   ],
   "source": [
    "datosCopy.pop('Passat')"
   ]
  },
  {
   "cell_type": "code",
   "execution_count": 28,
   "metadata": {
    "colab": {},
    "colab_type": "code",
    "id": "f51rKjkuD1AX"
   },
   "outputs": [
    {
     "data": {
      "text/plain": [
       "{'Jetta Variant': 88078.64, 'Crossfox': 72832.16, 'DS5': 124549.07}"
      ]
     },
     "execution_count": 28,
     "metadata": {},
     "output_type": "execute_result"
    }
   ],
   "source": [
    "datosCopy"
   ]
  },
  {
   "cell_type": "code",
   "execution_count": 0,
   "metadata": {
    "colab": {},
    "colab_type": "code",
    "id": "Ah4sZ7axD1AZ"
   },
   "outputs": [],
   "source": [
    "# datosCopy.pop('Passat')"
   ]
  },
  {
   "cell_type": "code",
   "execution_count": 29,
   "metadata": {
    "colab": {},
    "colab_type": "code",
    "id": "SJATRY8RD1Aa"
   },
   "outputs": [
    {
     "data": {
      "text/plain": [
       "'Llave no encontrada'"
      ]
     },
     "execution_count": 29,
     "metadata": {},
     "output_type": "execute_result"
    }
   ],
   "source": [
    "datosCopy.pop('Passat', 'Llave no encontrada')"
   ]
  },
  {
   "cell_type": "code",
   "execution_count": 30,
   "metadata": {
    "colab": {},
    "colab_type": "code",
    "id": "V36wHdzmD1Ab"
   },
   "outputs": [
    {
     "data": {
      "text/plain": [
       "124549.07"
      ]
     },
     "execution_count": 30,
     "metadata": {},
     "output_type": "execute_result"
    }
   ],
   "source": [
    "datosCopy.pop('DS5', 'Llave no encontrada')"
   ]
  },
  {
   "cell_type": "code",
   "execution_count": 31,
   "metadata": {
    "colab": {},
    "colab_type": "code",
    "id": "LJ0lQIrdD1Ac"
   },
   "outputs": [
    {
     "data": {
      "text/plain": [
       "{'Jetta Variant': 88078.64, 'Crossfox': 72832.16}"
      ]
     },
     "execution_count": 31,
     "metadata": {},
     "output_type": "execute_result"
    }
   ],
   "source": [
    "datosCopy"
   ]
  },
  {
   "cell_type": "markdown",
   "metadata": {
    "colab_type": "text",
    "id": "Q5J0R7d3D1Ag"
   },
   "source": [
    "## *dict.clear()*\n",
    "\n",
    "Borra todos los itens del diccionario."
   ]
  },
  {
   "cell_type": "code",
   "execution_count": 32,
   "metadata": {
    "colab": {},
    "colab_type": "code",
    "id": "AvkP_8mND1Ag"
   },
   "outputs": [],
   "source": [
    "datosCopy.clear()"
   ]
  },
  {
   "cell_type": "code",
   "execution_count": 33,
   "metadata": {
    "colab": {},
    "colab_type": "code",
    "id": "S69pMYboD1Ah"
   },
   "outputs": [
    {
     "data": {
      "text/plain": [
       "{}"
      ]
     },
     "execution_count": 33,
     "metadata": {},
     "output_type": "execute_result"
    }
   ],
   "source": [
    "datosCopy"
   ]
  },
  {
   "cell_type": "markdown",
   "metadata": {
    "colab_type": "text",
    "id": "QhoSRfPsD1Ai"
   },
   "source": [
    "# 3.4 Iterando en diccionarios"
   ]
  },
  {
   "cell_type": "markdown",
   "metadata": {
    "colab_type": "text",
    "id": "E-agaqakD1Ai"
   },
   "source": [
    "## *dict.keys()*\n",
    "\n",
    "Devuelve una lista con las llaves (*keys*) del diccionario."
   ]
  },
  {
   "cell_type": "code",
   "execution_count": 34,
   "metadata": {
    "colab": {},
    "colab_type": "code",
    "id": "qFADEYmBD1Aj"
   },
   "outputs": [
    {
     "data": {
      "text/plain": [
       "dict_keys(['Jetta Variant', 'Crossfox', 'DS5', 'Passat', 'Fusca'])"
      ]
     },
     "execution_count": 34,
     "metadata": {},
     "output_type": "execute_result"
    }
   ],
   "source": [
    "datos.keys()"
   ]
  },
  {
   "cell_type": "code",
   "execution_count": 35,
   "metadata": {
    "colab": {},
    "colab_type": "code",
    "id": "niwh9AgDD1Aj"
   },
   "outputs": [
    {
     "name": "stdout",
     "output_type": "stream",
     "text": [
      "88078.64\n",
      "72832.16\n",
      "124549.07\n",
      "106161.95\n",
      "150000\n"
     ]
    }
   ],
   "source": [
    "for key in datos.keys():\n",
    "    print(datos[key])"
   ]
  },
  {
   "cell_type": "markdown",
   "metadata": {
    "colab_type": "text",
    "id": "qFj6Cc7dD1Ak"
   },
   "source": [
    "## *dict.values()*\n",
    "\n",
    "Devuelve una lista con todos los valores (*values*) del diccionario."
   ]
  },
  {
   "cell_type": "code",
   "execution_count": 36,
   "metadata": {
    "colab": {},
    "colab_type": "code",
    "id": "nfpLxrQVD1Al"
   },
   "outputs": [
    {
     "data": {
      "text/plain": [
       "dict_values([88078.64, 72832.16, 124549.07, 106161.95, 150000])"
      ]
     },
     "execution_count": 36,
     "metadata": {},
     "output_type": "execute_result"
    }
   ],
   "source": [
    "datos.values()"
   ]
  },
  {
   "cell_type": "markdown",
   "metadata": {
    "colab_type": "text",
    "id": "-NGRwX0AD1Al"
   },
   "source": [
    "## *dict.items()*\n",
    "\n",
    "Devuelve una lista con una tupla para cada par llave-valor (*key-value*) del diccionario."
   ]
  },
  {
   "cell_type": "code",
   "execution_count": 37,
   "metadata": {
    "colab": {},
    "colab_type": "code",
    "id": "Q2I9_6YvD1Am"
   },
   "outputs": [
    {
     "data": {
      "text/plain": [
       "dict_items([('Jetta Variant', 88078.64), ('Crossfox', 72832.16), ('DS5', 124549.07), ('Passat', 106161.95), ('Fusca', 150000)])"
      ]
     },
     "execution_count": 37,
     "metadata": {},
     "output_type": "execute_result"
    }
   ],
   "source": [
    "datos.items()"
   ]
  },
  {
   "cell_type": "code",
   "execution_count": 38,
   "metadata": {
    "colab": {},
    "colab_type": "code",
    "id": "0j41ZqgQD1Am"
   },
   "outputs": [
    {
     "name": "stdout",
     "output_type": "stream",
     "text": [
      "('Jetta Variant', 88078.64)\n",
      "('Crossfox', 72832.16)\n",
      "('DS5', 124549.07)\n",
      "('Passat', 106161.95)\n",
      "('Fusca', 150000)\n"
     ]
    }
   ],
   "source": [
    "for item in datos.items():\n",
    "    print(item)"
   ]
  },
  {
   "cell_type": "code",
   "execution_count": 39,
   "metadata": {
    "colab": {},
    "colab_type": "code",
    "id": "OVY9rIwFD1An"
   },
   "outputs": [
    {
     "name": "stdout",
     "output_type": "stream",
     "text": [
      "Jetta Variant 88078.64\n",
      "Crossfox 72832.16\n",
      "DS5 124549.07\n",
      "Passat 106161.95\n",
      "Fusca 150000\n"
     ]
    }
   ],
   "source": [
    "for key, value in datos.items():\n",
    "    print(key, value)"
   ]
  },
  {
   "cell_type": "code",
   "execution_count": 40,
   "metadata": {
    "colab": {},
    "colab_type": "code",
    "id": "ma2Ol8vcD1Ap"
   },
   "outputs": [
    {
     "name": "stdout",
     "output_type": "stream",
     "text": [
      "DS5\n",
      "Passat\n",
      "Fusca\n"
     ]
    }
   ],
   "source": [
    "for key, value in datos.items():\n",
    "    if(value > 100000):\n",
    "        print(key)"
   ]
  },
  {
   "cell_type": "markdown",
   "metadata": {
    "colab_type": "text",
    "id": "-q3AlSg3D1Aq"
   },
   "source": [
    "# <font color=green> 4. FUNCIONES Y PAQUETES\n",
    "---\n",
    "\n",
    "Funciones son unidades de código reutilizables que realizan una tarea específica, pueden recibir alguna entrada y también pueden devolver algún resultado."
   ]
  },
  {
   "cell_type": "markdown",
   "metadata": {
    "colab_type": "text",
    "id": "5CfEcU58D1Aq"
   },
   "source": [
    "# 4.1 Built-in function\n",
    "\n",
    "El lenguaje Python tiene varias funciones integradas que siempre están accesibles. Algunas ya las usamos en nuestro entrenamiento:\n",
    "type(), print(), zip(), len(), set() etc.\n",
    "\n",
    "https://docs.python.org/3.6/library/functions.html"
   ]
  },
  {
   "cell_type": "code",
   "execution_count": 2,
   "metadata": {
    "colab": {},
    "colab_type": "code",
    "id": "DP7cmY7xD1Aq"
   },
   "outputs": [
    {
     "data": {
      "text/plain": [
       "{'Jetta Variant': 88078.64, 'Passat': 106161.94, 'Crossfox': 72832.16}"
      ]
     },
     "execution_count": 2,
     "metadata": {},
     "output_type": "execute_result"
    }
   ],
   "source": [
    "datos = {'Jetta Variant': 88078.64, 'Passat': 106161.94, 'Crossfox': 72832.16}\n",
    "datos"
   ]
  },
  {
   "cell_type": "code",
   "execution_count": 3,
   "metadata": {
    "colab": {},
    "colab_type": "code",
    "id": "5zAcGSCbD1Ar"
   },
   "outputs": [
    {
     "data": {
      "text/plain": [
       "[88078.64, 106161.94, 72832.16]"
      ]
     },
     "execution_count": 3,
     "metadata": {},
     "output_type": "execute_result"
    }
   ],
   "source": [
    "valores = []\n",
    "for valor in datos.values():\n",
    "    valores.append(valor)\n",
    "valores"
   ]
  },
  {
   "cell_type": "code",
   "execution_count": 4,
   "metadata": {
    "colab": {},
    "colab_type": "code",
    "id": "zG9_jU_1D1At"
   },
   "outputs": [
    {
     "data": {
      "text/plain": [
       "267072.74"
      ]
     },
     "execution_count": 4,
     "metadata": {},
     "output_type": "execute_result"
    }
   ],
   "source": [
    "suma = 0\n",
    "for valor in datos.values():\n",
    "    suma += valor\n",
    "suma"
   ]
  },
  {
   "cell_type": "code",
   "execution_count": 5,
   "metadata": {
    "colab": {},
    "colab_type": "code",
    "id": "jn0O3uXZD1Au"
   },
   "outputs": [
    {
     "data": {
      "text/plain": [
       "[88078.64, 106161.94, 72832.16]"
      ]
     },
     "execution_count": 5,
     "metadata": {},
     "output_type": "execute_result"
    }
   ],
   "source": [
    "list(datos.values())"
   ]
  },
  {
   "cell_type": "code",
   "execution_count": 6,
   "metadata": {
    "colab": {},
    "colab_type": "code",
    "id": "lnUjKVnoD1Aw"
   },
   "outputs": [
    {
     "data": {
      "text/plain": [
       "267072.74"
      ]
     },
     "execution_count": 6,
     "metadata": {},
     "output_type": "execute_result"
    }
   ],
   "source": [
    "sum(datos.values())"
   ]
  },
  {
   "cell_type": "code",
   "execution_count": 7,
   "metadata": {
    "colab": {},
    "colab_type": "code",
    "id": "WdEuYXe2D1Ay",
    "scrolled": false
   },
   "outputs": [
    {
     "name": "stdout",
     "output_type": "stream",
     "text": [
      "Help on built-in function print in module builtins:\n",
      "\n",
      "print(...)\n",
      "    print(value, ..., sep=' ', end='\\n', file=sys.stdout, flush=False)\n",
      "    \n",
      "    Prints the values to a stream, or to sys.stdout by default.\n",
      "    Optional keyword arguments:\n",
      "    file:  a file-like object (stream); defaults to the current sys.stdout.\n",
      "    sep:   string inserted between values, default a space.\n",
      "    end:   string appended after the last value, default a newline.\n",
      "    flush: whether to forcibly flush the stream.\n",
      "\n"
     ]
    }
   ],
   "source": [
    "help(print)"
   ]
  },
  {
   "cell_type": "code",
   "execution_count": 8,
   "metadata": {
    "colab": {},
    "colab_type": "code",
    "id": "hIA29O3tD1Az"
   },
   "outputs": [],
   "source": [
    "print?"
   ]
  },
  {
   "cell_type": "markdown",
   "metadata": {
    "colab_type": "text",
    "id": "6w62Sl5ZD1A0"
   },
   "source": [
    "# 4.2 Definiendo funciones sin y con parámetros"
   ]
  },
  {
   "cell_type": "markdown",
   "metadata": {
    "colab_type": "text",
    "id": "OADZiBP2D1A0"
   },
   "source": [
    "### Funciones sin parámetros\n",
    "\n",
    "#### Formato estándar\n",
    "\n",
    "```\n",
    "def <nombre>():\n",
    "    <instrucciones>\n",
    "```"
   ]
  },
  {
   "cell_type": "code",
   "execution_count": 9,
   "metadata": {
    "colab": {},
    "colab_type": "code",
    "id": "uCkplEpQD1A0"
   },
   "outputs": [],
   "source": [
    "def media():\n",
    "    valor = (1 + 2 + 3) / 3\n",
    "    print(valor)"
   ]
  },
  {
   "cell_type": "code",
   "execution_count": 10,
   "metadata": {
    "colab": {},
    "colab_type": "code",
    "id": "fOCEGq5VD1A1"
   },
   "outputs": [
    {
     "name": "stdout",
     "output_type": "stream",
     "text": [
      "2.0\n"
     ]
    }
   ],
   "source": [
    "media()"
   ]
  },
  {
   "cell_type": "markdown",
   "metadata": {
    "colab_type": "text",
    "id": "PwSlYSVAD1A2"
   },
   "source": [
    "### Funciones con parámetros\n",
    "\n",
    "#### Formato estándar\n",
    "\n",
    "```\n",
    "def <nombre>(<param_1>, <param_2>, ..., <param_n>):\n",
    "    <instrucciones>\n",
    "```"
   ]
  },
  {
   "cell_type": "code",
   "execution_count": 11,
   "metadata": {
    "colab": {},
    "colab_type": "code",
    "id": "A3YnBUduD1A3"
   },
   "outputs": [],
   "source": [
    "def media(number_1, number_2, number_3):\n",
    "    valor = (number_1 + number_2 + number_3) / 3\n",
    "    print(valor)"
   ]
  },
  {
   "cell_type": "code",
   "execution_count": 12,
   "metadata": {
    "colab": {},
    "colab_type": "code",
    "id": "rGUZbRERD1A3"
   },
   "outputs": [
    {
     "name": "stdout",
     "output_type": "stream",
     "text": [
      "2.0\n"
     ]
    }
   ],
   "source": [
    "media(1, 2, 3)"
   ]
  },
  {
   "cell_type": "code",
   "execution_count": 13,
   "metadata": {
    "colab": {},
    "colab_type": "code",
    "id": "B9WDlRE7D1A5"
   },
   "outputs": [
    {
     "name": "stdout",
     "output_type": "stream",
     "text": [
      "45.0\n"
     ]
    }
   ],
   "source": [
    "media(23, 45, 67)"
   ]
  },
  {
   "cell_type": "code",
   "execution_count": 14,
   "metadata": {
    "colab": {},
    "colab_type": "code",
    "id": "1HAy8OK_D1A6"
   },
   "outputs": [],
   "source": [
    "def media(lista):\n",
    "    valor = sum(lista) / len(lista)\n",
    "    print(valor)"
   ]
  },
  {
   "cell_type": "code",
   "execution_count": 15,
   "metadata": {
    "colab": {},
    "colab_type": "code",
    "id": "_CDa4oOfD1A6"
   },
   "outputs": [
    {
     "name": "stdout",
     "output_type": "stream",
     "text": [
      "5.0\n"
     ]
    }
   ],
   "source": [
    "resultado = media([1, 2, 3, 4, 5, 6, 7, 8, 9])"
   ]
  },
  {
   "cell_type": "code",
   "execution_count": 16,
   "metadata": {
    "colab": {},
    "colab_type": "code",
    "id": "xH-mxqYAD1A8"
   },
   "outputs": [],
   "source": [
    "resultado"
   ]
  },
  {
   "cell_type": "code",
   "execution_count": 17,
   "metadata": {
    "colab": {},
    "colab_type": "code",
    "id": "WXXC_UidD1A8"
   },
   "outputs": [
    {
     "data": {
      "text/plain": [
       "NoneType"
      ]
     },
     "execution_count": 17,
     "metadata": {},
     "output_type": "execute_result"
    }
   ],
   "source": [
    "type(resultado)"
   ]
  },
  {
   "cell_type": "markdown",
   "metadata": {
    "colab_type": "text",
    "id": "8zNYrmFbD1A9"
   },
   "source": [
    "# 4.3 Definiendo funciones que devuelven valores"
   ]
  },
  {
   "cell_type": "markdown",
   "metadata": {
    "colab_type": "text",
    "id": "J44K-dMOD1A9"
   },
   "source": [
    "### Funciones que devuelven un valor\n",
    "\n",
    "#### Formato estándar\n",
    "\n",
    "```\n",
    "def <nombre>(<param_1>, <param_2>, ..., <param_n>):\n",
    "    <instrucciones>\n",
    "    return <resultado>\n",
    "```"
   ]
  },
  {
   "cell_type": "code",
   "execution_count": 18,
   "metadata": {
    "colab": {},
    "colab_type": "code",
    "id": "-UG42RQJD1A9"
   },
   "outputs": [],
   "source": [
    "def media(lista):\n",
    "    valor = sum(lista) / len(lista)\n",
    "    print(valor)"
   ]
  },
  {
   "cell_type": "code",
   "execution_count": 19,
   "metadata": {
    "colab": {},
    "colab_type": "code",
    "id": "VJwdvoT5D1A-"
   },
   "outputs": [
    {
     "name": "stdout",
     "output_type": "stream",
     "text": [
      "4.5\n"
     ]
    }
   ],
   "source": [
    "media([1, 2, 3, 4, 5, 6, 7, 8])"
   ]
  },
  {
   "cell_type": "code",
   "execution_count": 20,
   "metadata": {
    "colab": {},
    "colab_type": "code",
    "id": "AgAeJkpND1A-"
   },
   "outputs": [
    {
     "name": "stdout",
     "output_type": "stream",
     "text": [
      "4.5\n"
     ]
    }
   ],
   "source": [
    "resultado = media([1, 2, 3, 4, 5, 6, 7, 8])"
   ]
  },
  {
   "cell_type": "code",
   "execution_count": 24,
   "metadata": {
    "colab": {},
    "colab_type": "code",
    "id": "_r616TevD1A_"
   },
   "outputs": [],
   "source": [
    "resultado"
   ]
  },
  {
   "cell_type": "markdown",
   "metadata": {
    "colab_type": "text",
    "id": "MQaK8GV5D1BA"
   },
   "source": [
    "### Funciones que devuelven más de un valor\n",
    "\n",
    "#### Formato estándar\n",
    "\n",
    "```\n",
    "def <nombre>(<param_1>, <param_2>, ..., <param_n>):\n",
    "    <instrucciones>\n",
    "    return (<resultado_1>, <resultado_2>, ..., <resultado_n>)\n",
    "```"
   ]
  },
  {
   "cell_type": "code",
   "execution_count": 26,
   "metadata": {
    "colab": {},
    "colab_type": "code",
    "id": "v0PUMegVD1BA"
   },
   "outputs": [],
   "source": [
    "def media(lista):\n",
    "    valor = sum(lista) / len(lista)\n",
    "    return (valor, len(lista))"
   ]
  },
  {
   "cell_type": "code",
   "execution_count": 27,
   "metadata": {
    "colab": {},
    "colab_type": "code",
    "id": "Ys-etom8D1BA"
   },
   "outputs": [
    {
     "data": {
      "text/plain": [
       "(5.0, 9)"
      ]
     },
     "execution_count": 27,
     "metadata": {},
     "output_type": "execute_result"
    }
   ],
   "source": [
    "media([1, 2, 3, 4, 5, 6, 7, 8, 9])"
   ]
  },
  {
   "cell_type": "code",
   "execution_count": 28,
   "metadata": {
    "colab": {},
    "colab_type": "code",
    "id": "LERrvkMHD1BC"
   },
   "outputs": [],
   "source": [
    "resultado, n = media([1, 2, 3, 4, 5, 6, 7, 8, 9])"
   ]
  },
  {
   "cell_type": "code",
   "execution_count": 29,
   "metadata": {
    "colab": {},
    "colab_type": "code",
    "id": "sqoFOWSsD1BC"
   },
   "outputs": [
    {
     "data": {
      "text/plain": [
       "5.0"
      ]
     },
     "execution_count": 29,
     "metadata": {},
     "output_type": "execute_result"
    }
   ],
   "source": [
    "resultado"
   ]
  },
  {
   "cell_type": "code",
   "execution_count": 30,
   "metadata": {
    "colab": {},
    "colab_type": "code",
    "id": "NdB_Jyw_D1BD"
   },
   "outputs": [
    {
     "data": {
      "text/plain": [
       "9"
      ]
     },
     "execution_count": 30,
     "metadata": {},
     "output_type": "execute_result"
    }
   ],
   "source": [
    "n"
   ]
  },
  {
   "cell_type": "markdown",
   "metadata": {
    "colab_type": "text",
    "id": "uQ5lNnKrD1BD"
   },
   "source": [
    "# <font color=green> 5. PANDAS BÁSICO\n",
    "---\n",
    "\n",
    "**versión: 1.1.0**\n",
    "\n",
    "Pandas es una herramienta de manipulación de datos de alto nivel, construida sobre la base del paquete Numpy. El paquete pandas tiene estructuras de datos muy interesantes para la manipulación de datos y, por esto, es ampliamente utilizado por los científicos de datos.\n",
    "\n",
    "\n",
    "## Estructuras de Datos\n",
    "\n",
    "### Series\n",
    "\n",
    "Series son arrays unidimensionales etiquetados capaces de almacenar cualquier tipo de dato. Las etiquetas de las líneas se denominan **index**. La forma básica de crear una Series es la siguiente:\n",
    "\n",
    "\n",
    "```\n",
    "    s = pd.Series(datos, index = index)\n",
    "```\n",
    "\n",
    "El argumento *datos* puede ser un diccionario, una lista, un array Numpy o una constante.\n",
    "\n",
    "### DataFrames\n",
    "\n",
    "DataFrame es una estructura de datos tabular bidimensional con etiquetas de fila y columna. Como la Series, los DataFrames son capaces de almacenar cualquier tipo de datos.\n",
    "\n",
    "\n",
    "```\n",
    "    df = pd.DataFrame(datos, index = index, columns = columns)\n",
    "```\n",
    "\n",
    "El argumento *datos* puede ser un diccionario, una lista, un array Numpy, una Series y otro DataFrame.\n",
    "\n",
    "**Documentación:** https://pandas.pydata.org/pandas-docs/version/1.1.0/"
   ]
  },
  {
   "cell_type": "markdown",
   "metadata": {
    "colab_type": "text",
    "id": "2qa7RC03D1BD"
   },
   "source": [
    "# 5.1 Estructuras de datos"
   ]
  },
  {
   "cell_type": "code",
   "execution_count": 1,
   "metadata": {
    "colab": {},
    "colab_type": "code",
    "id": "4QyFDeS4D1BD"
   },
   "outputs": [],
   "source": [
    "import pandas as pd"
   ]
  },
  {
   "cell_type": "markdown",
   "metadata": {
    "colab_type": "text",
    "id": "kIey8_OcD1BF"
   },
   "source": [
    "### Creando una Series a partir de una lista"
   ]
  },
  {
   "cell_type": "code",
   "execution_count": 3,
   "metadata": {
    "colab": {},
    "colab_type": "code",
    "id": "yEZR6DWiD1BF"
   },
   "outputs": [
    {
     "data": {
      "text/plain": [
       "['Jetta Variant', 'Passat', 'Crossfox']"
      ]
     },
     "execution_count": 3,
     "metadata": {},
     "output_type": "execute_result"
    }
   ],
   "source": [
    "carros = ['Jetta Variant', 'Passat', 'Crossfox']\n",
    "carros"
   ]
  },
  {
   "cell_type": "code",
   "execution_count": 4,
   "metadata": {
    "colab": {},
    "colab_type": "code",
    "id": "rLudWKZ_D1BF"
   },
   "outputs": [
    {
     "data": {
      "text/plain": [
       "0    Jetta Variant\n",
       "1           Passat\n",
       "2         Crossfox\n",
       "dtype: object"
      ]
     },
     "execution_count": 4,
     "metadata": {},
     "output_type": "execute_result"
    }
   ],
   "source": [
    "pd.Series(carros)"
   ]
  },
  {
   "cell_type": "markdown",
   "metadata": {
    "colab_type": "text",
    "id": "VYVIKd1-D1BG"
   },
   "source": [
    "### Creando un DataFrame a partir de una lista de diccionarios"
   ]
  },
  {
   "cell_type": "code",
   "execution_count": 5,
   "metadata": {
    "colab": {},
    "colab_type": "code",
    "id": "QFNS9PckD1BG"
   },
   "outputs": [],
   "source": [
    "datos = [\n",
    "    {'Nombre': 'Jetta Variant', 'Motor': 'Motor 4.0 Turbo', 'Año': 2003, 'Kilometraje': 44410.0, 'Cero_km': False, 'Valor': 88078.64},\n",
    "    {'Nombre': 'Passat', 'Motor': 'Motor Diesel', 'Año': 1991, 'Kilometraje': 5712.0, 'Cero_km': False, 'Valor': 106161.94},\n",
    "    {'Nombre': 'Crossfox', 'Motor': 'Motor Diesel V8', 'Año': 1990, 'Kilometraje': 37123.0, 'Cero_km': False, 'Valor': 72832.16}\n",
    "]"
   ]
  },
  {
   "cell_type": "code",
   "execution_count": 6,
   "metadata": {
    "colab": {},
    "colab_type": "code",
    "id": "WDQb9AnKD1BH"
   },
   "outputs": [],
   "source": [
    "dataset = pd.DataFrame(datos)"
   ]
  },
  {
   "cell_type": "code",
   "execution_count": 7,
   "metadata": {
    "colab": {},
    "colab_type": "code",
    "id": "-2-jGvmGD1BI"
   },
   "outputs": [
    {
     "data": {
      "text/html": [
       "<div>\n",
       "<style scoped>\n",
       "    .dataframe tbody tr th:only-of-type {\n",
       "        vertical-align: middle;\n",
       "    }\n",
       "\n",
       "    .dataframe tbody tr th {\n",
       "        vertical-align: top;\n",
       "    }\n",
       "\n",
       "    .dataframe thead th {\n",
       "        text-align: right;\n",
       "    }\n",
       "</style>\n",
       "<table border=\"1\" class=\"dataframe\">\n",
       "  <thead>\n",
       "    <tr style=\"text-align: right;\">\n",
       "      <th></th>\n",
       "      <th>Nombre</th>\n",
       "      <th>Motor</th>\n",
       "      <th>Año</th>\n",
       "      <th>Kilometraje</th>\n",
       "      <th>Cero_km</th>\n",
       "      <th>Valor</th>\n",
       "    </tr>\n",
       "  </thead>\n",
       "  <tbody>\n",
       "    <tr>\n",
       "      <th>0</th>\n",
       "      <td>Jetta Variant</td>\n",
       "      <td>Motor 4.0 Turbo</td>\n",
       "      <td>2003</td>\n",
       "      <td>44410.0</td>\n",
       "      <td>False</td>\n",
       "      <td>88078.64</td>\n",
       "    </tr>\n",
       "    <tr>\n",
       "      <th>1</th>\n",
       "      <td>Passat</td>\n",
       "      <td>Motor Diesel</td>\n",
       "      <td>1991</td>\n",
       "      <td>5712.0</td>\n",
       "      <td>False</td>\n",
       "      <td>106161.94</td>\n",
       "    </tr>\n",
       "    <tr>\n",
       "      <th>2</th>\n",
       "      <td>Crossfox</td>\n",
       "      <td>Motor Diesel V8</td>\n",
       "      <td>1990</td>\n",
       "      <td>37123.0</td>\n",
       "      <td>False</td>\n",
       "      <td>72832.16</td>\n",
       "    </tr>\n",
       "  </tbody>\n",
       "</table>\n",
       "</div>"
      ],
      "text/plain": [
       "          Nombre            Motor   Año  Kilometraje  Cero_km      Valor\n",
       "0  Jetta Variant  Motor 4.0 Turbo  2003      44410.0    False   88078.64\n",
       "1         Passat     Motor Diesel  1991       5712.0    False  106161.94\n",
       "2       Crossfox  Motor Diesel V8  1990      37123.0    False   72832.16"
      ]
     },
     "execution_count": 7,
     "metadata": {},
     "output_type": "execute_result"
    }
   ],
   "source": [
    "dataset"
   ]
  },
  {
   "cell_type": "code",
   "execution_count": 8,
   "metadata": {
    "colab": {},
    "colab_type": "code",
    "id": "2kbyOThiD1BJ"
   },
   "outputs": [
    {
     "data": {
      "text/html": [
       "<div>\n",
       "<style scoped>\n",
       "    .dataframe tbody tr th:only-of-type {\n",
       "        vertical-align: middle;\n",
       "    }\n",
       "\n",
       "    .dataframe tbody tr th {\n",
       "        vertical-align: top;\n",
       "    }\n",
       "\n",
       "    .dataframe thead th {\n",
       "        text-align: right;\n",
       "    }\n",
       "</style>\n",
       "<table border=\"1\" class=\"dataframe\">\n",
       "  <thead>\n",
       "    <tr style=\"text-align: right;\">\n",
       "      <th></th>\n",
       "      <th>Nombre</th>\n",
       "      <th>Motor</th>\n",
       "      <th>Año</th>\n",
       "      <th>Kilometraje</th>\n",
       "      <th>Cero_km</th>\n",
       "      <th>Valor</th>\n",
       "    </tr>\n",
       "  </thead>\n",
       "  <tbody>\n",
       "    <tr>\n",
       "      <th>0</th>\n",
       "      <td>Jetta Variant</td>\n",
       "      <td>Motor 4.0 Turbo</td>\n",
       "      <td>2003</td>\n",
       "      <td>44410.0</td>\n",
       "      <td>False</td>\n",
       "      <td>88078.64</td>\n",
       "    </tr>\n",
       "    <tr>\n",
       "      <th>1</th>\n",
       "      <td>Passat</td>\n",
       "      <td>Motor Diesel</td>\n",
       "      <td>1991</td>\n",
       "      <td>5712.0</td>\n",
       "      <td>False</td>\n",
       "      <td>106161.94</td>\n",
       "    </tr>\n",
       "    <tr>\n",
       "      <th>2</th>\n",
       "      <td>Crossfox</td>\n",
       "      <td>Motor Diesel V8</td>\n",
       "      <td>1990</td>\n",
       "      <td>37123.0</td>\n",
       "      <td>False</td>\n",
       "      <td>72832.16</td>\n",
       "    </tr>\n",
       "  </tbody>\n",
       "</table>\n",
       "</div>"
      ],
      "text/plain": [
       "          Nombre            Motor   Año  Kilometraje  Cero_km      Valor\n",
       "0  Jetta Variant  Motor 4.0 Turbo  2003      44410.0    False   88078.64\n",
       "1         Passat     Motor Diesel  1991       5712.0    False  106161.94\n",
       "2       Crossfox  Motor Diesel V8  1990      37123.0    False   72832.16"
      ]
     },
     "execution_count": 8,
     "metadata": {},
     "output_type": "execute_result"
    }
   ],
   "source": [
    "dataset[['Nombre','Motor','Año','Kilometraje','Cero_km','Valor']]"
   ]
  },
  {
   "cell_type": "markdown",
   "metadata": {
    "colab_type": "text",
    "id": "pJK2tQgYD1BK"
   },
   "source": [
    "### Creando un DataFrame a partir de un diccionario"
   ]
  },
  {
   "cell_type": "code",
   "execution_count": 9,
   "metadata": {
    "colab": {},
    "colab_type": "code",
    "id": "WKNQwKucD1BK"
   },
   "outputs": [],
   "source": [
    "datos = {\n",
    "    'Nombre': ['Jetta Variant', 'Passat', 'Crossfox'], \n",
    "    'Motor': ['Motor 4.0 Turbo', 'Motor Diesel', 'Motor Diesel V8'],\n",
    "    'Año': [2003, 1991, 1990],\n",
    "    'Kilometraje': [44410.0, 5712.0, 37123.0],\n",
    "    'Cero_km': [False, False, False],\n",
    "    'Valor': [88078.64, 106161.94, 72832.16]\n",
    "}"
   ]
  },
  {
   "cell_type": "code",
   "execution_count": 10,
   "metadata": {
    "colab": {},
    "colab_type": "code",
    "id": "lKnuZfzcD1BK"
   },
   "outputs": [],
   "source": [
    "dataset = pd.DataFrame(datos)"
   ]
  },
  {
   "cell_type": "code",
   "execution_count": 11,
   "metadata": {
    "colab": {},
    "colab_type": "code",
    "id": "PNqTytC-D1BL"
   },
   "outputs": [
    {
     "data": {
      "text/html": [
       "<div>\n",
       "<style scoped>\n",
       "    .dataframe tbody tr th:only-of-type {\n",
       "        vertical-align: middle;\n",
       "    }\n",
       "\n",
       "    .dataframe tbody tr th {\n",
       "        vertical-align: top;\n",
       "    }\n",
       "\n",
       "    .dataframe thead th {\n",
       "        text-align: right;\n",
       "    }\n",
       "</style>\n",
       "<table border=\"1\" class=\"dataframe\">\n",
       "  <thead>\n",
       "    <tr style=\"text-align: right;\">\n",
       "      <th></th>\n",
       "      <th>Nombre</th>\n",
       "      <th>Motor</th>\n",
       "      <th>Año</th>\n",
       "      <th>Kilometraje</th>\n",
       "      <th>Cero_km</th>\n",
       "      <th>Valor</th>\n",
       "    </tr>\n",
       "  </thead>\n",
       "  <tbody>\n",
       "    <tr>\n",
       "      <th>0</th>\n",
       "      <td>Jetta Variant</td>\n",
       "      <td>Motor 4.0 Turbo</td>\n",
       "      <td>2003</td>\n",
       "      <td>44410.0</td>\n",
       "      <td>False</td>\n",
       "      <td>88078.64</td>\n",
       "    </tr>\n",
       "    <tr>\n",
       "      <th>1</th>\n",
       "      <td>Passat</td>\n",
       "      <td>Motor Diesel</td>\n",
       "      <td>1991</td>\n",
       "      <td>5712.0</td>\n",
       "      <td>False</td>\n",
       "      <td>106161.94</td>\n",
       "    </tr>\n",
       "    <tr>\n",
       "      <th>2</th>\n",
       "      <td>Crossfox</td>\n",
       "      <td>Motor Diesel V8</td>\n",
       "      <td>1990</td>\n",
       "      <td>37123.0</td>\n",
       "      <td>False</td>\n",
       "      <td>72832.16</td>\n",
       "    </tr>\n",
       "  </tbody>\n",
       "</table>\n",
       "</div>"
      ],
      "text/plain": [
       "          Nombre            Motor   Año  Kilometraje  Cero_km      Valor\n",
       "0  Jetta Variant  Motor 4.0 Turbo  2003      44410.0    False   88078.64\n",
       "1         Passat     Motor Diesel  1991       5712.0    False  106161.94\n",
       "2       Crossfox  Motor Diesel V8  1990      37123.0    False   72832.16"
      ]
     },
     "execution_count": 11,
     "metadata": {},
     "output_type": "execute_result"
    }
   ],
   "source": [
    "dataset"
   ]
  },
  {
   "cell_type": "markdown",
   "metadata": {
    "colab_type": "text",
    "id": "fCCXs0reD1BL"
   },
   "source": [
    "### Creando un DataFrame a partir de un archivo externo"
   ]
  },
  {
   "cell_type": "code",
   "execution_count": 32,
   "metadata": {
    "colab": {},
    "colab_type": "code",
    "id": "78PRHGeZD1BL",
    "scrolled": true
   },
   "outputs": [],
   "source": [
    "dataset = pd.read_csv('db.csv', sep = ';', index_col = 0)"
   ]
  },
  {
   "cell_type": "code",
   "execution_count": 33,
   "metadata": {
    "colab": {},
    "colab_type": "code",
    "collapsed": true,
    "id": "1o1YlnVPD1BM"
   },
   "outputs": [
    {
     "data": {
      "text/html": [
       "<div>\n",
       "<style scoped>\n",
       "    .dataframe tbody tr th:only-of-type {\n",
       "        vertical-align: middle;\n",
       "    }\n",
       "\n",
       "    .dataframe tbody tr th {\n",
       "        vertical-align: top;\n",
       "    }\n",
       "\n",
       "    .dataframe thead th {\n",
       "        text-align: right;\n",
       "    }\n",
       "</style>\n",
       "<table border=\"1\" class=\"dataframe\">\n",
       "  <thead>\n",
       "    <tr style=\"text-align: right;\">\n",
       "      <th></th>\n",
       "      <th>Motor</th>\n",
       "      <th>Año</th>\n",
       "      <th>Kilometraje</th>\n",
       "      <th>Cero_km</th>\n",
       "      <th>Accesorios</th>\n",
       "      <th>Valor</th>\n",
       "    </tr>\n",
       "    <tr>\n",
       "      <th>Nombre</th>\n",
       "      <th></th>\n",
       "      <th></th>\n",
       "      <th></th>\n",
       "      <th></th>\n",
       "      <th></th>\n",
       "      <th></th>\n",
       "    </tr>\n",
       "  </thead>\n",
       "  <tbody>\n",
       "    <tr>\n",
       "      <th>Jetta Variant</th>\n",
       "      <td>Motor 4.0 Turbo</td>\n",
       "      <td>2003</td>\n",
       "      <td>44410.0</td>\n",
       "      <td>False</td>\n",
       "      <td>['Llantas de aleación', 'Cerraduras electricas...</td>\n",
       "      <td>88078.64</td>\n",
       "    </tr>\n",
       "    <tr>\n",
       "      <th>Passat</th>\n",
       "      <td>Motor Diesel</td>\n",
       "      <td>1991</td>\n",
       "      <td>5712.0</td>\n",
       "      <td>False</td>\n",
       "      <td>['Central multimedia', 'Techo panorámico', 'Fr...</td>\n",
       "      <td>106161.94</td>\n",
       "    </tr>\n",
       "    <tr>\n",
       "      <th>Crossfox</th>\n",
       "      <td>Motor Diesel V8</td>\n",
       "      <td>1990</td>\n",
       "      <td>37123.0</td>\n",
       "      <td>False</td>\n",
       "      <td>['Piloto automático', 'Control de estabilidad'...</td>\n",
       "      <td>72832.16</td>\n",
       "    </tr>\n",
       "    <tr>\n",
       "      <th>DS5</th>\n",
       "      <td>Motor 2.4 Turbo</td>\n",
       "      <td>2019</td>\n",
       "      <td>NaN</td>\n",
       "      <td>True</td>\n",
       "      <td>['Cerraduras electricas', '4 X 4', 'Ventanas e...</td>\n",
       "      <td>124549.07</td>\n",
       "    </tr>\n",
       "    <tr>\n",
       "      <th>Aston Martin DB4</th>\n",
       "      <td>Motor 2.4 Turbo</td>\n",
       "      <td>2006</td>\n",
       "      <td>25757.0</td>\n",
       "      <td>False</td>\n",
       "      <td>['Llantas de aleación', '4 X 4', 'Central mult...</td>\n",
       "      <td>92612.10</td>\n",
       "    </tr>\n",
       "    <tr>\n",
       "      <th>...</th>\n",
       "      <td>...</td>\n",
       "      <td>...</td>\n",
       "      <td>...</td>\n",
       "      <td>...</td>\n",
       "      <td>...</td>\n",
       "      <td>...</td>\n",
       "    </tr>\n",
       "    <tr>\n",
       "      <th>Phantom 2013</th>\n",
       "      <td>Motor V8</td>\n",
       "      <td>2014</td>\n",
       "      <td>27505.0</td>\n",
       "      <td>False</td>\n",
       "      <td>['Control de estabilidad', 'Piloto automático'...</td>\n",
       "      <td>51759.58</td>\n",
       "    </tr>\n",
       "    <tr>\n",
       "      <th>Cadillac Ciel concept</th>\n",
       "      <td>Motor V8</td>\n",
       "      <td>1991</td>\n",
       "      <td>29981.0</td>\n",
       "      <td>False</td>\n",
       "      <td>['Asientos de cuero', 'Panel digital', 'Sensor...</td>\n",
       "      <td>51667.06</td>\n",
       "    </tr>\n",
       "    <tr>\n",
       "      <th>Classe GLK</th>\n",
       "      <td>Motor 5.0 V8 Bi-Turbo</td>\n",
       "      <td>2002</td>\n",
       "      <td>52637.0</td>\n",
       "      <td>False</td>\n",
       "      <td>['Llantas de aleación', 'Control de tracción',...</td>\n",
       "      <td>68934.03</td>\n",
       "    </tr>\n",
       "    <tr>\n",
       "      <th>Aston Martin DB5</th>\n",
       "      <td>Motor Diesel</td>\n",
       "      <td>1996</td>\n",
       "      <td>7685.0</td>\n",
       "      <td>False</td>\n",
       "      <td>['Aire condicionado', '4 X 4', 'Transmisión au...</td>\n",
       "      <td>122110.90</td>\n",
       "    </tr>\n",
       "    <tr>\n",
       "      <th>Macan</th>\n",
       "      <td>Motor Diesel V6</td>\n",
       "      <td>1992</td>\n",
       "      <td>50188.0</td>\n",
       "      <td>False</td>\n",
       "      <td>['Central multimedia', 'Techo panorámico', 'Ve...</td>\n",
       "      <td>90381.47</td>\n",
       "    </tr>\n",
       "  </tbody>\n",
       "</table>\n",
       "<p>258 rows × 6 columns</p>\n",
       "</div>"
      ],
      "text/plain": [
       "                                       Motor   Año  Kilometraje  Cero_km  \\\n",
       "Nombre                                                                     \n",
       "Jetta Variant                Motor 4.0 Turbo  2003      44410.0    False   \n",
       "Passat                          Motor Diesel  1991       5712.0    False   \n",
       "Crossfox                     Motor Diesel V8  1990      37123.0    False   \n",
       "DS5                          Motor 2.4 Turbo  2019          NaN     True   \n",
       "Aston Martin DB4             Motor 2.4 Turbo  2006      25757.0    False   \n",
       "...                                      ...   ...          ...      ...   \n",
       "Phantom 2013                        Motor V8  2014      27505.0    False   \n",
       "Cadillac Ciel concept               Motor V8  1991      29981.0    False   \n",
       "Classe GLK             Motor 5.0 V8 Bi-Turbo  2002      52637.0    False   \n",
       "Aston Martin DB5                Motor Diesel  1996       7685.0    False   \n",
       "Macan                        Motor Diesel V6  1992      50188.0    False   \n",
       "\n",
       "                                                              Accesorios  \\\n",
       "Nombre                                                                     \n",
       "Jetta Variant          ['Llantas de aleación', 'Cerraduras electricas...   \n",
       "Passat                 ['Central multimedia', 'Techo panorámico', 'Fr...   \n",
       "Crossfox               ['Piloto automático', 'Control de estabilidad'...   \n",
       "DS5                    ['Cerraduras electricas', '4 X 4', 'Ventanas e...   \n",
       "Aston Martin DB4       ['Llantas de aleación', '4 X 4', 'Central mult...   \n",
       "...                                                                  ...   \n",
       "Phantom 2013           ['Control de estabilidad', 'Piloto automático'...   \n",
       "Cadillac Ciel concept  ['Asientos de cuero', 'Panel digital', 'Sensor...   \n",
       "Classe GLK             ['Llantas de aleación', 'Control de tracción',...   \n",
       "Aston Martin DB5       ['Aire condicionado', '4 X 4', 'Transmisión au...   \n",
       "Macan                  ['Central multimedia', 'Techo panorámico', 'Ve...   \n",
       "\n",
       "                           Valor  \n",
       "Nombre                            \n",
       "Jetta Variant           88078.64  \n",
       "Passat                 106161.94  \n",
       "Crossfox                72832.16  \n",
       "DS5                    124549.07  \n",
       "Aston Martin DB4        92612.10  \n",
       "...                          ...  \n",
       "Phantom 2013            51759.58  \n",
       "Cadillac Ciel concept   51667.06  \n",
       "Classe GLK              68934.03  \n",
       "Aston Martin DB5       122110.90  \n",
       "Macan                   90381.47  \n",
       "\n",
       "[258 rows x 6 columns]"
      ]
     },
     "execution_count": 33,
     "metadata": {},
     "output_type": "execute_result"
    }
   ],
   "source": [
    "dataset"
   ]
  },
  {
   "cell_type": "markdown",
   "metadata": {
    "colab_type": "text",
    "id": "y5V-1AK-D1BN"
   },
   "source": [
    "# 5.2 Selecciones con DataFrames"
   ]
  },
  {
   "cell_type": "code",
   "execution_count": 34,
   "metadata": {
    "collapsed": true
   },
   "outputs": [
    {
     "data": {
      "text/html": [
       "<div>\n",
       "<style scoped>\n",
       "    .dataframe tbody tr th:only-of-type {\n",
       "        vertical-align: middle;\n",
       "    }\n",
       "\n",
       "    .dataframe tbody tr th {\n",
       "        vertical-align: top;\n",
       "    }\n",
       "\n",
       "    .dataframe thead th {\n",
       "        text-align: right;\n",
       "    }\n",
       "</style>\n",
       "<table border=\"1\" class=\"dataframe\">\n",
       "  <thead>\n",
       "    <tr style=\"text-align: right;\">\n",
       "      <th></th>\n",
       "      <th>Motor</th>\n",
       "      <th>Año</th>\n",
       "      <th>Kilometraje</th>\n",
       "      <th>Cero_km</th>\n",
       "      <th>Accesorios</th>\n",
       "      <th>Valor</th>\n",
       "    </tr>\n",
       "    <tr>\n",
       "      <th>Nombre</th>\n",
       "      <th></th>\n",
       "      <th></th>\n",
       "      <th></th>\n",
       "      <th></th>\n",
       "      <th></th>\n",
       "      <th></th>\n",
       "    </tr>\n",
       "  </thead>\n",
       "  <tbody>\n",
       "    <tr>\n",
       "      <th>Jetta Variant</th>\n",
       "      <td>Motor 4.0 Turbo</td>\n",
       "      <td>2003</td>\n",
       "      <td>44410.0</td>\n",
       "      <td>False</td>\n",
       "      <td>['Llantas de aleación', 'Cerraduras electricas...</td>\n",
       "      <td>88078.64</td>\n",
       "    </tr>\n",
       "    <tr>\n",
       "      <th>Passat</th>\n",
       "      <td>Motor Diesel</td>\n",
       "      <td>1991</td>\n",
       "      <td>5712.0</td>\n",
       "      <td>False</td>\n",
       "      <td>['Central multimedia', 'Techo panorámico', 'Fr...</td>\n",
       "      <td>106161.94</td>\n",
       "    </tr>\n",
       "    <tr>\n",
       "      <th>Crossfox</th>\n",
       "      <td>Motor Diesel V8</td>\n",
       "      <td>1990</td>\n",
       "      <td>37123.0</td>\n",
       "      <td>False</td>\n",
       "      <td>['Piloto automático', 'Control de estabilidad'...</td>\n",
       "      <td>72832.16</td>\n",
       "    </tr>\n",
       "    <tr>\n",
       "      <th>DS5</th>\n",
       "      <td>Motor 2.4 Turbo</td>\n",
       "      <td>2019</td>\n",
       "      <td>NaN</td>\n",
       "      <td>True</td>\n",
       "      <td>['Cerraduras electricas', '4 X 4', 'Ventanas e...</td>\n",
       "      <td>124549.07</td>\n",
       "    </tr>\n",
       "    <tr>\n",
       "      <th>Aston Martin DB4</th>\n",
       "      <td>Motor 2.4 Turbo</td>\n",
       "      <td>2006</td>\n",
       "      <td>25757.0</td>\n",
       "      <td>False</td>\n",
       "      <td>['Llantas de aleación', '4 X 4', 'Central mult...</td>\n",
       "      <td>92612.10</td>\n",
       "    </tr>\n",
       "  </tbody>\n",
       "</table>\n",
       "</div>"
      ],
      "text/plain": [
       "                            Motor   Año  Kilometraje  Cero_km  \\\n",
       "Nombre                                                          \n",
       "Jetta Variant     Motor 4.0 Turbo  2003      44410.0    False   \n",
       "Passat               Motor Diesel  1991       5712.0    False   \n",
       "Crossfox          Motor Diesel V8  1990      37123.0    False   \n",
       "DS5               Motor 2.4 Turbo  2019          NaN     True   \n",
       "Aston Martin DB4  Motor 2.4 Turbo  2006      25757.0    False   \n",
       "\n",
       "                                                         Accesorios      Valor  \n",
       "Nombre                                                                          \n",
       "Jetta Variant     ['Llantas de aleación', 'Cerraduras electricas...   88078.64  \n",
       "Passat            ['Central multimedia', 'Techo panorámico', 'Fr...  106161.94  \n",
       "Crossfox          ['Piloto automático', 'Control de estabilidad'...   72832.16  \n",
       "DS5               ['Cerraduras electricas', '4 X 4', 'Ventanas e...  124549.07  \n",
       "Aston Martin DB4  ['Llantas de aleación', '4 X 4', 'Central mult...   92612.10  "
      ]
     },
     "execution_count": 34,
     "metadata": {},
     "output_type": "execute_result"
    }
   ],
   "source": [
    "dataset.head()"
   ]
  },
  {
   "cell_type": "markdown",
   "metadata": {
    "colab_type": "text",
    "id": "wZjqlHe9D1BN"
   },
   "source": [
    "### Seleccionando columnas"
   ]
  },
  {
   "cell_type": "code",
   "execution_count": 35,
   "metadata": {
    "colab": {},
    "colab_type": "code",
    "collapsed": true,
    "id": "gM3LbtzlD1BN"
   },
   "outputs": [
    {
     "data": {
      "text/plain": [
       "Nombre\n",
       "Jetta Variant             88078.64\n",
       "Passat                   106161.94\n",
       "Crossfox                  72832.16\n",
       "DS5                      124549.07\n",
       "Aston Martin DB4          92612.10\n",
       "                           ...    \n",
       "Phantom 2013              51759.58\n",
       "Cadillac Ciel concept     51667.06\n",
       "Classe GLK                68934.03\n",
       "Aston Martin DB5         122110.90\n",
       "Macan                     90381.47\n",
       "Name: Valor, Length: 258, dtype: float64"
      ]
     },
     "execution_count": 35,
     "metadata": {},
     "output_type": "execute_result"
    }
   ],
   "source": [
    "dataset['Valor']"
   ]
  },
  {
   "cell_type": "code",
   "execution_count": 17,
   "metadata": {
    "colab": {},
    "colab_type": "code",
    "id": "R2FWgCM_D1BO"
   },
   "outputs": [
    {
     "data": {
      "text/plain": [
       "pandas.core.series.Series"
      ]
     },
     "execution_count": 17,
     "metadata": {},
     "output_type": "execute_result"
    }
   ],
   "source": [
    "type(dataset['Valor'])"
   ]
  },
  {
   "cell_type": "code",
   "execution_count": 36,
   "metadata": {
    "colab": {},
    "colab_type": "code",
    "collapsed": true,
    "id": "lCCumsxsD1BP"
   },
   "outputs": [
    {
     "data": {
      "text/html": [
       "<div>\n",
       "<style scoped>\n",
       "    .dataframe tbody tr th:only-of-type {\n",
       "        vertical-align: middle;\n",
       "    }\n",
       "\n",
       "    .dataframe tbody tr th {\n",
       "        vertical-align: top;\n",
       "    }\n",
       "\n",
       "    .dataframe thead th {\n",
       "        text-align: right;\n",
       "    }\n",
       "</style>\n",
       "<table border=\"1\" class=\"dataframe\">\n",
       "  <thead>\n",
       "    <tr style=\"text-align: right;\">\n",
       "      <th></th>\n",
       "      <th>Valor</th>\n",
       "    </tr>\n",
       "    <tr>\n",
       "      <th>Nombre</th>\n",
       "      <th></th>\n",
       "    </tr>\n",
       "  </thead>\n",
       "  <tbody>\n",
       "    <tr>\n",
       "      <th>Jetta Variant</th>\n",
       "      <td>88078.64</td>\n",
       "    </tr>\n",
       "    <tr>\n",
       "      <th>Passat</th>\n",
       "      <td>106161.94</td>\n",
       "    </tr>\n",
       "    <tr>\n",
       "      <th>Crossfox</th>\n",
       "      <td>72832.16</td>\n",
       "    </tr>\n",
       "    <tr>\n",
       "      <th>DS5</th>\n",
       "      <td>124549.07</td>\n",
       "    </tr>\n",
       "    <tr>\n",
       "      <th>Aston Martin DB4</th>\n",
       "      <td>92612.10</td>\n",
       "    </tr>\n",
       "    <tr>\n",
       "      <th>...</th>\n",
       "      <td>...</td>\n",
       "    </tr>\n",
       "    <tr>\n",
       "      <th>Phantom 2013</th>\n",
       "      <td>51759.58</td>\n",
       "    </tr>\n",
       "    <tr>\n",
       "      <th>Cadillac Ciel concept</th>\n",
       "      <td>51667.06</td>\n",
       "    </tr>\n",
       "    <tr>\n",
       "      <th>Classe GLK</th>\n",
       "      <td>68934.03</td>\n",
       "    </tr>\n",
       "    <tr>\n",
       "      <th>Aston Martin DB5</th>\n",
       "      <td>122110.90</td>\n",
       "    </tr>\n",
       "    <tr>\n",
       "      <th>Macan</th>\n",
       "      <td>90381.47</td>\n",
       "    </tr>\n",
       "  </tbody>\n",
       "</table>\n",
       "<p>258 rows × 1 columns</p>\n",
       "</div>"
      ],
      "text/plain": [
       "                           Valor\n",
       "Nombre                          \n",
       "Jetta Variant           88078.64\n",
       "Passat                 106161.94\n",
       "Crossfox                72832.16\n",
       "DS5                    124549.07\n",
       "Aston Martin DB4        92612.10\n",
       "...                          ...\n",
       "Phantom 2013            51759.58\n",
       "Cadillac Ciel concept   51667.06\n",
       "Classe GLK              68934.03\n",
       "Aston Martin DB5       122110.90\n",
       "Macan                   90381.47\n",
       "\n",
       "[258 rows x 1 columns]"
      ]
     },
     "execution_count": 36,
     "metadata": {},
     "output_type": "execute_result"
    }
   ],
   "source": [
    "dataset[['Valor']]"
   ]
  },
  {
   "cell_type": "code",
   "execution_count": 19,
   "metadata": {
    "colab": {},
    "colab_type": "code",
    "id": "zxlyC3B8D1BP"
   },
   "outputs": [
    {
     "data": {
      "text/plain": [
       "pandas.core.frame.DataFrame"
      ]
     },
     "execution_count": 19,
     "metadata": {},
     "output_type": "execute_result"
    }
   ],
   "source": [
    "type(dataset[['Valor']])"
   ]
  },
  {
   "cell_type": "markdown",
   "metadata": {
    "colab_type": "text",
    "id": "7RPXPm1XD1BQ"
   },
   "source": [
    "### Seleccionando lineas - [ i : j ] \n",
    "\n",
    "<font color=red>**Observación:**</font> La indexación tiene origen en cero y en las particiones(*slices*) la línea con índice i es **incluída** y la línea con índice j **no es incluída** en el resultado."
   ]
  },
  {
   "cell_type": "code",
   "execution_count": 37,
   "metadata": {
    "colab": {},
    "colab_type": "code",
    "id": "PdDUwPw3D1BQ"
   },
   "outputs": [
    {
     "data": {
      "text/html": [
       "<div>\n",
       "<style scoped>\n",
       "    .dataframe tbody tr th:only-of-type {\n",
       "        vertical-align: middle;\n",
       "    }\n",
       "\n",
       "    .dataframe tbody tr th {\n",
       "        vertical-align: top;\n",
       "    }\n",
       "\n",
       "    .dataframe thead th {\n",
       "        text-align: right;\n",
       "    }\n",
       "</style>\n",
       "<table border=\"1\" class=\"dataframe\">\n",
       "  <thead>\n",
       "    <tr style=\"text-align: right;\">\n",
       "      <th></th>\n",
       "      <th>Motor</th>\n",
       "      <th>Año</th>\n",
       "      <th>Kilometraje</th>\n",
       "      <th>Cero_km</th>\n",
       "      <th>Accesorios</th>\n",
       "      <th>Valor</th>\n",
       "    </tr>\n",
       "    <tr>\n",
       "      <th>Nombre</th>\n",
       "      <th></th>\n",
       "      <th></th>\n",
       "      <th></th>\n",
       "      <th></th>\n",
       "      <th></th>\n",
       "      <th></th>\n",
       "    </tr>\n",
       "  </thead>\n",
       "  <tbody>\n",
       "    <tr>\n",
       "      <th>Jetta Variant</th>\n",
       "      <td>Motor 4.0 Turbo</td>\n",
       "      <td>2003</td>\n",
       "      <td>44410.0</td>\n",
       "      <td>False</td>\n",
       "      <td>['Llantas de aleación', 'Cerraduras electricas...</td>\n",
       "      <td>88078.64</td>\n",
       "    </tr>\n",
       "    <tr>\n",
       "      <th>Passat</th>\n",
       "      <td>Motor Diesel</td>\n",
       "      <td>1991</td>\n",
       "      <td>5712.0</td>\n",
       "      <td>False</td>\n",
       "      <td>['Central multimedia', 'Techo panorámico', 'Fr...</td>\n",
       "      <td>106161.94</td>\n",
       "    </tr>\n",
       "    <tr>\n",
       "      <th>Crossfox</th>\n",
       "      <td>Motor Diesel V8</td>\n",
       "      <td>1990</td>\n",
       "      <td>37123.0</td>\n",
       "      <td>False</td>\n",
       "      <td>['Piloto automático', 'Control de estabilidad'...</td>\n",
       "      <td>72832.16</td>\n",
       "    </tr>\n",
       "    <tr>\n",
       "      <th>DS5</th>\n",
       "      <td>Motor 2.4 Turbo</td>\n",
       "      <td>2019</td>\n",
       "      <td>NaN</td>\n",
       "      <td>True</td>\n",
       "      <td>['Cerraduras electricas', '4 X 4', 'Ventanas e...</td>\n",
       "      <td>124549.07</td>\n",
       "    </tr>\n",
       "  </tbody>\n",
       "</table>\n",
       "</div>"
      ],
      "text/plain": [
       "                         Motor   Año  Kilometraje  Cero_km  \\\n",
       "Nombre                                                       \n",
       "Jetta Variant  Motor 4.0 Turbo  2003      44410.0    False   \n",
       "Passat            Motor Diesel  1991       5712.0    False   \n",
       "Crossfox       Motor Diesel V8  1990      37123.0    False   \n",
       "DS5            Motor 2.4 Turbo  2019          NaN     True   \n",
       "\n",
       "                                                      Accesorios      Valor  \n",
       "Nombre                                                                       \n",
       "Jetta Variant  ['Llantas de aleación', 'Cerraduras electricas...   88078.64  \n",
       "Passat         ['Central multimedia', 'Techo panorámico', 'Fr...  106161.94  \n",
       "Crossfox       ['Piloto automático', 'Control de estabilidad'...   72832.16  \n",
       "DS5            ['Cerraduras electricas', '4 X 4', 'Ventanas e...  124549.07  "
      ]
     },
     "execution_count": 37,
     "metadata": {},
     "output_type": "execute_result"
    }
   ],
   "source": [
    "dataset[0:4]"
   ]
  },
  {
   "cell_type": "markdown",
   "metadata": {
    "colab_type": "text",
    "id": "G3DMSk97D1BR"
   },
   "source": [
    "### Utilizando .loc para selecciones\n",
    "\n",
    "<font color=red>**Observación:**</font> Selecciona un grupo de líneas y columnas según las etiquetas o una matriz booleana."
   ]
  },
  {
   "cell_type": "code",
   "execution_count": 38,
   "metadata": {
    "colab": {},
    "colab_type": "code",
    "id": "Ftg-hNOoD1BR"
   },
   "outputs": [
    {
     "data": {
      "text/plain": [
       "Motor                                               Motor Diesel\n",
       "Año                                                         1991\n",
       "Kilometraje                                                 5712\n",
       "Cero_km                                                    False\n",
       "Accesorios     ['Central multimedia', 'Techo panorámico', 'Fr...\n",
       "Valor                                                     106162\n",
       "Name: Passat, dtype: object"
      ]
     },
     "execution_count": 38,
     "metadata": {},
     "output_type": "execute_result"
    }
   ],
   "source": [
    "dataset.loc['Passat']"
   ]
  },
  {
   "cell_type": "code",
   "execution_count": 39,
   "metadata": {
    "colab": {},
    "colab_type": "code",
    "id": "xdxkDrHvD1BS",
    "scrolled": true
   },
   "outputs": [
    {
     "data": {
      "text/html": [
       "<div>\n",
       "<style scoped>\n",
       "    .dataframe tbody tr th:only-of-type {\n",
       "        vertical-align: middle;\n",
       "    }\n",
       "\n",
       "    .dataframe tbody tr th {\n",
       "        vertical-align: top;\n",
       "    }\n",
       "\n",
       "    .dataframe thead th {\n",
       "        text-align: right;\n",
       "    }\n",
       "</style>\n",
       "<table border=\"1\" class=\"dataframe\">\n",
       "  <thead>\n",
       "    <tr style=\"text-align: right;\">\n",
       "      <th></th>\n",
       "      <th>Motor</th>\n",
       "      <th>Año</th>\n",
       "      <th>Kilometraje</th>\n",
       "      <th>Cero_km</th>\n",
       "      <th>Accesorios</th>\n",
       "      <th>Valor</th>\n",
       "    </tr>\n",
       "    <tr>\n",
       "      <th>Nombre</th>\n",
       "      <th></th>\n",
       "      <th></th>\n",
       "      <th></th>\n",
       "      <th></th>\n",
       "      <th></th>\n",
       "      <th></th>\n",
       "    </tr>\n",
       "  </thead>\n",
       "  <tbody>\n",
       "    <tr>\n",
       "      <th>Passat</th>\n",
       "      <td>Motor Diesel</td>\n",
       "      <td>1991</td>\n",
       "      <td>5712.0</td>\n",
       "      <td>False</td>\n",
       "      <td>['Central multimedia', 'Techo panorámico', 'Fr...</td>\n",
       "      <td>106161.94</td>\n",
       "    </tr>\n",
       "    <tr>\n",
       "      <th>DS5</th>\n",
       "      <td>Motor 2.4 Turbo</td>\n",
       "      <td>2019</td>\n",
       "      <td>NaN</td>\n",
       "      <td>True</td>\n",
       "      <td>['Cerraduras electricas', '4 X 4', 'Ventanas e...</td>\n",
       "      <td>124549.07</td>\n",
       "    </tr>\n",
       "  </tbody>\n",
       "</table>\n",
       "</div>"
      ],
      "text/plain": [
       "                  Motor   Año  Kilometraje  Cero_km  \\\n",
       "Nombre                                                \n",
       "Passat     Motor Diesel  1991       5712.0    False   \n",
       "DS5     Motor 2.4 Turbo  2019          NaN     True   \n",
       "\n",
       "                                               Accesorios      Valor  \n",
       "Nombre                                                                \n",
       "Passat  ['Central multimedia', 'Techo panorámico', 'Fr...  106161.94  \n",
       "DS5     ['Cerraduras electricas', '4 X 4', 'Ventanas e...  124549.07  "
      ]
     },
     "execution_count": 39,
     "metadata": {},
     "output_type": "execute_result"
    }
   ],
   "source": [
    "dataset.loc[['Passat', 'DS5']]"
   ]
  },
  {
   "cell_type": "code",
   "execution_count": 40,
   "metadata": {
    "colab": {},
    "colab_type": "code",
    "id": "pMN3U1KjD1BS"
   },
   "outputs": [
    {
     "data": {
      "text/html": [
       "<div>\n",
       "<style scoped>\n",
       "    .dataframe tbody tr th:only-of-type {\n",
       "        vertical-align: middle;\n",
       "    }\n",
       "\n",
       "    .dataframe tbody tr th {\n",
       "        vertical-align: top;\n",
       "    }\n",
       "\n",
       "    .dataframe thead th {\n",
       "        text-align: right;\n",
       "    }\n",
       "</style>\n",
       "<table border=\"1\" class=\"dataframe\">\n",
       "  <thead>\n",
       "    <tr style=\"text-align: right;\">\n",
       "      <th></th>\n",
       "      <th>Motor</th>\n",
       "      <th>Valor</th>\n",
       "    </tr>\n",
       "    <tr>\n",
       "      <th>Nombre</th>\n",
       "      <th></th>\n",
       "      <th></th>\n",
       "    </tr>\n",
       "  </thead>\n",
       "  <tbody>\n",
       "    <tr>\n",
       "      <th>Passat</th>\n",
       "      <td>Motor Diesel</td>\n",
       "      <td>106161.94</td>\n",
       "    </tr>\n",
       "    <tr>\n",
       "      <th>DS5</th>\n",
       "      <td>Motor 2.4 Turbo</td>\n",
       "      <td>124549.07</td>\n",
       "    </tr>\n",
       "  </tbody>\n",
       "</table>\n",
       "</div>"
      ],
      "text/plain": [
       "                  Motor      Valor\n",
       "Nombre                            \n",
       "Passat     Motor Diesel  106161.94\n",
       "DS5     Motor 2.4 Turbo  124549.07"
      ]
     },
     "execution_count": 40,
     "metadata": {},
     "output_type": "execute_result"
    }
   ],
   "source": [
    "dataset.loc[['Passat', 'DS5'], ['Motor', 'Valor']]"
   ]
  },
  {
   "cell_type": "code",
   "execution_count": 41,
   "metadata": {
    "colab": {},
    "colab_type": "code",
    "id": "oOEO72uZD1BT",
    "scrolled": true
   },
   "outputs": [
    {
     "data": {
      "text/html": [
       "<div>\n",
       "<style scoped>\n",
       "    .dataframe tbody tr th:only-of-type {\n",
       "        vertical-align: middle;\n",
       "    }\n",
       "\n",
       "    .dataframe tbody tr th {\n",
       "        vertical-align: top;\n",
       "    }\n",
       "\n",
       "    .dataframe thead th {\n",
       "        text-align: right;\n",
       "    }\n",
       "</style>\n",
       "<table border=\"1\" class=\"dataframe\">\n",
       "  <thead>\n",
       "    <tr style=\"text-align: right;\">\n",
       "      <th></th>\n",
       "      <th>Motor</th>\n",
       "      <th>Valor</th>\n",
       "    </tr>\n",
       "    <tr>\n",
       "      <th>Nombre</th>\n",
       "      <th></th>\n",
       "      <th></th>\n",
       "    </tr>\n",
       "  </thead>\n",
       "  <tbody>\n",
       "    <tr>\n",
       "      <th>Jetta Variant</th>\n",
       "      <td>Motor 4.0 Turbo</td>\n",
       "      <td>88078.64</td>\n",
       "    </tr>\n",
       "    <tr>\n",
       "      <th>Passat</th>\n",
       "      <td>Motor Diesel</td>\n",
       "      <td>106161.94</td>\n",
       "    </tr>\n",
       "    <tr>\n",
       "      <th>Crossfox</th>\n",
       "      <td>Motor Diesel V8</td>\n",
       "      <td>72832.16</td>\n",
       "    </tr>\n",
       "    <tr>\n",
       "      <th>DS5</th>\n",
       "      <td>Motor 2.4 Turbo</td>\n",
       "      <td>124549.07</td>\n",
       "    </tr>\n",
       "    <tr>\n",
       "      <th>Aston Martin DB4</th>\n",
       "      <td>Motor 2.4 Turbo</td>\n",
       "      <td>92612.10</td>\n",
       "    </tr>\n",
       "    <tr>\n",
       "      <th>...</th>\n",
       "      <td>...</td>\n",
       "      <td>...</td>\n",
       "    </tr>\n",
       "    <tr>\n",
       "      <th>Phantom 2013</th>\n",
       "      <td>Motor V8</td>\n",
       "      <td>51759.58</td>\n",
       "    </tr>\n",
       "    <tr>\n",
       "      <th>Cadillac Ciel concept</th>\n",
       "      <td>Motor V8</td>\n",
       "      <td>51667.06</td>\n",
       "    </tr>\n",
       "    <tr>\n",
       "      <th>Classe GLK</th>\n",
       "      <td>Motor 5.0 V8 Bi-Turbo</td>\n",
       "      <td>68934.03</td>\n",
       "    </tr>\n",
       "    <tr>\n",
       "      <th>Aston Martin DB5</th>\n",
       "      <td>Motor Diesel</td>\n",
       "      <td>122110.90</td>\n",
       "    </tr>\n",
       "    <tr>\n",
       "      <th>Macan</th>\n",
       "      <td>Motor Diesel V6</td>\n",
       "      <td>90381.47</td>\n",
       "    </tr>\n",
       "  </tbody>\n",
       "</table>\n",
       "<p>258 rows × 2 columns</p>\n",
       "</div>"
      ],
      "text/plain": [
       "                                       Motor      Valor\n",
       "Nombre                                                 \n",
       "Jetta Variant                Motor 4.0 Turbo   88078.64\n",
       "Passat                          Motor Diesel  106161.94\n",
       "Crossfox                     Motor Diesel V8   72832.16\n",
       "DS5                          Motor 2.4 Turbo  124549.07\n",
       "Aston Martin DB4             Motor 2.4 Turbo   92612.10\n",
       "...                                      ...        ...\n",
       "Phantom 2013                        Motor V8   51759.58\n",
       "Cadillac Ciel concept               Motor V8   51667.06\n",
       "Classe GLK             Motor 5.0 V8 Bi-Turbo   68934.03\n",
       "Aston Martin DB5                Motor Diesel  122110.90\n",
       "Macan                        Motor Diesel V6   90381.47\n",
       "\n",
       "[258 rows x 2 columns]"
      ]
     },
     "execution_count": 41,
     "metadata": {},
     "output_type": "execute_result"
    }
   ],
   "source": [
    "dataset.loc[:, ['Motor', 'Valor']]"
   ]
  },
  {
   "cell_type": "markdown",
   "metadata": {
    "colab_type": "text",
    "id": "SYKEe3vCD1BT"
   },
   "source": [
    "### Utilizando .iloc para selecciones\n",
    "\n",
    "<font color=red>**Observación:**</font> Selecciona con base en los índices, es decir, utiliza la posición de las informaciones."
   ]
  },
  {
   "cell_type": "code",
   "execution_count": 42,
   "metadata": {
    "colab": {},
    "colab_type": "code",
    "id": "U4Bru90bD1BT"
   },
   "outputs": [
    {
     "data": {
      "text/html": [
       "<div>\n",
       "<style scoped>\n",
       "    .dataframe tbody tr th:only-of-type {\n",
       "        vertical-align: middle;\n",
       "    }\n",
       "\n",
       "    .dataframe tbody tr th {\n",
       "        vertical-align: top;\n",
       "    }\n",
       "\n",
       "    .dataframe thead th {\n",
       "        text-align: right;\n",
       "    }\n",
       "</style>\n",
       "<table border=\"1\" class=\"dataframe\">\n",
       "  <thead>\n",
       "    <tr style=\"text-align: right;\">\n",
       "      <th></th>\n",
       "      <th>Motor</th>\n",
       "      <th>Año</th>\n",
       "      <th>Kilometraje</th>\n",
       "      <th>Cero_km</th>\n",
       "      <th>Accesorios</th>\n",
       "      <th>Valor</th>\n",
       "    </tr>\n",
       "    <tr>\n",
       "      <th>Nombre</th>\n",
       "      <th></th>\n",
       "      <th></th>\n",
       "      <th></th>\n",
       "      <th></th>\n",
       "      <th></th>\n",
       "      <th></th>\n",
       "    </tr>\n",
       "  </thead>\n",
       "  <tbody>\n",
       "    <tr>\n",
       "      <th>Passat</th>\n",
       "      <td>Motor Diesel</td>\n",
       "      <td>1991</td>\n",
       "      <td>5712.0</td>\n",
       "      <td>False</td>\n",
       "      <td>['Central multimedia', 'Techo panorámico', 'Fr...</td>\n",
       "      <td>106161.94</td>\n",
       "    </tr>\n",
       "  </tbody>\n",
       "</table>\n",
       "</div>"
      ],
      "text/plain": [
       "               Motor   Año  Kilometraje  Cero_km  \\\n",
       "Nombre                                             \n",
       "Passat  Motor Diesel  1991       5712.0    False   \n",
       "\n",
       "                                               Accesorios      Valor  \n",
       "Nombre                                                                \n",
       "Passat  ['Central multimedia', 'Techo panorámico', 'Fr...  106161.94  "
      ]
     },
     "execution_count": 42,
     "metadata": {},
     "output_type": "execute_result"
    }
   ],
   "source": [
    "dataset.iloc[[1]]"
   ]
  },
  {
   "cell_type": "code",
   "execution_count": 43,
   "metadata": {
    "colab": {},
    "colab_type": "code",
    "id": "iLKUyrzND1BU"
   },
   "outputs": [
    {
     "data": {
      "text/html": [
       "<div>\n",
       "<style scoped>\n",
       "    .dataframe tbody tr th:only-of-type {\n",
       "        vertical-align: middle;\n",
       "    }\n",
       "\n",
       "    .dataframe tbody tr th {\n",
       "        vertical-align: top;\n",
       "    }\n",
       "\n",
       "    .dataframe thead th {\n",
       "        text-align: right;\n",
       "    }\n",
       "</style>\n",
       "<table border=\"1\" class=\"dataframe\">\n",
       "  <thead>\n",
       "    <tr style=\"text-align: right;\">\n",
       "      <th></th>\n",
       "      <th>Motor</th>\n",
       "      <th>Año</th>\n",
       "      <th>Kilometraje</th>\n",
       "      <th>Cero_km</th>\n",
       "      <th>Accesorios</th>\n",
       "      <th>Valor</th>\n",
       "    </tr>\n",
       "    <tr>\n",
       "      <th>Nombre</th>\n",
       "      <th></th>\n",
       "      <th></th>\n",
       "      <th></th>\n",
       "      <th></th>\n",
       "      <th></th>\n",
       "      <th></th>\n",
       "    </tr>\n",
       "  </thead>\n",
       "  <tbody>\n",
       "    <tr>\n",
       "      <th>Passat</th>\n",
       "      <td>Motor Diesel</td>\n",
       "      <td>1991</td>\n",
       "      <td>5712.0</td>\n",
       "      <td>False</td>\n",
       "      <td>['Central multimedia', 'Techo panorámico', 'Fr...</td>\n",
       "      <td>106161.94</td>\n",
       "    </tr>\n",
       "    <tr>\n",
       "      <th>Crossfox</th>\n",
       "      <td>Motor Diesel V8</td>\n",
       "      <td>1990</td>\n",
       "      <td>37123.0</td>\n",
       "      <td>False</td>\n",
       "      <td>['Piloto automático', 'Control de estabilidad'...</td>\n",
       "      <td>72832.16</td>\n",
       "    </tr>\n",
       "    <tr>\n",
       "      <th>DS5</th>\n",
       "      <td>Motor 2.4 Turbo</td>\n",
       "      <td>2019</td>\n",
       "      <td>NaN</td>\n",
       "      <td>True</td>\n",
       "      <td>['Cerraduras electricas', '4 X 4', 'Ventanas e...</td>\n",
       "      <td>124549.07</td>\n",
       "    </tr>\n",
       "  </tbody>\n",
       "</table>\n",
       "</div>"
      ],
      "text/plain": [
       "                    Motor   Año  Kilometraje  Cero_km  \\\n",
       "Nombre                                                  \n",
       "Passat       Motor Diesel  1991       5712.0    False   \n",
       "Crossfox  Motor Diesel V8  1990      37123.0    False   \n",
       "DS5       Motor 2.4 Turbo  2019          NaN     True   \n",
       "\n",
       "                                                 Accesorios      Valor  \n",
       "Nombre                                                                  \n",
       "Passat    ['Central multimedia', 'Techo panorámico', 'Fr...  106161.94  \n",
       "Crossfox  ['Piloto automático', 'Control de estabilidad'...   72832.16  \n",
       "DS5       ['Cerraduras electricas', '4 X 4', 'Ventanas e...  124549.07  "
      ]
     },
     "execution_count": 43,
     "metadata": {},
     "output_type": "execute_result"
    }
   ],
   "source": [
    "dataset.iloc[1:4]"
   ]
  },
  {
   "cell_type": "code",
   "execution_count": 44,
   "metadata": {
    "colab": {},
    "colab_type": "code",
    "id": "KGZpixYUD1BU"
   },
   "outputs": [
    {
     "data": {
      "text/html": [
       "<div>\n",
       "<style scoped>\n",
       "    .dataframe tbody tr th:only-of-type {\n",
       "        vertical-align: middle;\n",
       "    }\n",
       "\n",
       "    .dataframe tbody tr th {\n",
       "        vertical-align: top;\n",
       "    }\n",
       "\n",
       "    .dataframe thead th {\n",
       "        text-align: right;\n",
       "    }\n",
       "</style>\n",
       "<table border=\"1\" class=\"dataframe\">\n",
       "  <thead>\n",
       "    <tr style=\"text-align: right;\">\n",
       "      <th></th>\n",
       "      <th>Motor</th>\n",
       "      <th>Valor</th>\n",
       "      <th>Kilometraje</th>\n",
       "    </tr>\n",
       "    <tr>\n",
       "      <th>Nombre</th>\n",
       "      <th></th>\n",
       "      <th></th>\n",
       "      <th></th>\n",
       "    </tr>\n",
       "  </thead>\n",
       "  <tbody>\n",
       "    <tr>\n",
       "      <th>Passat</th>\n",
       "      <td>Motor Diesel</td>\n",
       "      <td>106161.94</td>\n",
       "      <td>5712.0</td>\n",
       "    </tr>\n",
       "    <tr>\n",
       "      <th>Crossfox</th>\n",
       "      <td>Motor Diesel V8</td>\n",
       "      <td>72832.16</td>\n",
       "      <td>37123.0</td>\n",
       "    </tr>\n",
       "    <tr>\n",
       "      <th>DS5</th>\n",
       "      <td>Motor 2.4 Turbo</td>\n",
       "      <td>124549.07</td>\n",
       "      <td>NaN</td>\n",
       "    </tr>\n",
       "  </tbody>\n",
       "</table>\n",
       "</div>"
      ],
      "text/plain": [
       "                    Motor      Valor  Kilometraje\n",
       "Nombre                                           \n",
       "Passat       Motor Diesel  106161.94       5712.0\n",
       "Crossfox  Motor Diesel V8   72832.16      37123.0\n",
       "DS5       Motor 2.4 Turbo  124549.07          NaN"
      ]
     },
     "execution_count": 44,
     "metadata": {},
     "output_type": "execute_result"
    }
   ],
   "source": [
    "dataset.iloc[1:4, [0, 5, 2]]"
   ]
  },
  {
   "cell_type": "code",
   "execution_count": 45,
   "metadata": {
    "colab": {},
    "colab_type": "code",
    "id": "GxdqIz4LD1BV"
   },
   "outputs": [
    {
     "data": {
      "text/html": [
       "<div>\n",
       "<style scoped>\n",
       "    .dataframe tbody tr th:only-of-type {\n",
       "        vertical-align: middle;\n",
       "    }\n",
       "\n",
       "    .dataframe tbody tr th {\n",
       "        vertical-align: top;\n",
       "    }\n",
       "\n",
       "    .dataframe thead th {\n",
       "        text-align: right;\n",
       "    }\n",
       "</style>\n",
       "<table border=\"1\" class=\"dataframe\">\n",
       "  <thead>\n",
       "    <tr style=\"text-align: right;\">\n",
       "      <th></th>\n",
       "      <th>Motor</th>\n",
       "      <th>Valor</th>\n",
       "      <th>Kilometraje</th>\n",
       "    </tr>\n",
       "    <tr>\n",
       "      <th>Nombre</th>\n",
       "      <th></th>\n",
       "      <th></th>\n",
       "      <th></th>\n",
       "    </tr>\n",
       "  </thead>\n",
       "  <tbody>\n",
       "    <tr>\n",
       "      <th>Passat</th>\n",
       "      <td>Motor Diesel</td>\n",
       "      <td>106161.94</td>\n",
       "      <td>5712.0</td>\n",
       "    </tr>\n",
       "    <tr>\n",
       "      <th>Optima</th>\n",
       "      <td>Motor 1.8 16v</td>\n",
       "      <td>86641.34</td>\n",
       "      <td>NaN</td>\n",
       "    </tr>\n",
       "    <tr>\n",
       "      <th>Lamborghini Obvious</th>\n",
       "      <td>Motor Diesel V6</td>\n",
       "      <td>133529.84</td>\n",
       "      <td>98079.0</td>\n",
       "    </tr>\n",
       "  </tbody>\n",
       "</table>\n",
       "</div>"
      ],
      "text/plain": [
       "                               Motor      Valor  Kilometraje\n",
       "Nombre                                                      \n",
       "Passat                  Motor Diesel  106161.94       5712.0\n",
       "Optima                 Motor 1.8 16v   86641.34          NaN\n",
       "Lamborghini Obvious  Motor Diesel V6  133529.84      98079.0"
      ]
     },
     "execution_count": 45,
     "metadata": {},
     "output_type": "execute_result"
    }
   ],
   "source": [
    "dataset.iloc[[1, 42, 22], [0, 5, 2]]"
   ]
  },
  {
   "cell_type": "code",
   "execution_count": 46,
   "metadata": {
    "colab": {},
    "colab_type": "code",
    "id": "AVIhs7uLD1BW",
    "scrolled": true
   },
   "outputs": [
    {
     "data": {
      "text/html": [
       "<div>\n",
       "<style scoped>\n",
       "    .dataframe tbody tr th:only-of-type {\n",
       "        vertical-align: middle;\n",
       "    }\n",
       "\n",
       "    .dataframe tbody tr th {\n",
       "        vertical-align: top;\n",
       "    }\n",
       "\n",
       "    .dataframe thead th {\n",
       "        text-align: right;\n",
       "    }\n",
       "</style>\n",
       "<table border=\"1\" class=\"dataframe\">\n",
       "  <thead>\n",
       "    <tr style=\"text-align: right;\">\n",
       "      <th></th>\n",
       "      <th>Motor</th>\n",
       "      <th>Valor</th>\n",
       "      <th>Kilometraje</th>\n",
       "    </tr>\n",
       "    <tr>\n",
       "      <th>Nombre</th>\n",
       "      <th></th>\n",
       "      <th></th>\n",
       "      <th></th>\n",
       "    </tr>\n",
       "  </thead>\n",
       "  <tbody>\n",
       "    <tr>\n",
       "      <th>Jetta Variant</th>\n",
       "      <td>Motor 4.0 Turbo</td>\n",
       "      <td>88078.64</td>\n",
       "      <td>44410.0</td>\n",
       "    </tr>\n",
       "    <tr>\n",
       "      <th>Passat</th>\n",
       "      <td>Motor Diesel</td>\n",
       "      <td>106161.94</td>\n",
       "      <td>5712.0</td>\n",
       "    </tr>\n",
       "    <tr>\n",
       "      <th>Crossfox</th>\n",
       "      <td>Motor Diesel V8</td>\n",
       "      <td>72832.16</td>\n",
       "      <td>37123.0</td>\n",
       "    </tr>\n",
       "    <tr>\n",
       "      <th>DS5</th>\n",
       "      <td>Motor 2.4 Turbo</td>\n",
       "      <td>124549.07</td>\n",
       "      <td>NaN</td>\n",
       "    </tr>\n",
       "    <tr>\n",
       "      <th>Aston Martin DB4</th>\n",
       "      <td>Motor 2.4 Turbo</td>\n",
       "      <td>92612.10</td>\n",
       "      <td>25757.0</td>\n",
       "    </tr>\n",
       "    <tr>\n",
       "      <th>...</th>\n",
       "      <td>...</td>\n",
       "      <td>...</td>\n",
       "      <td>...</td>\n",
       "    </tr>\n",
       "    <tr>\n",
       "      <th>Phantom 2013</th>\n",
       "      <td>Motor V8</td>\n",
       "      <td>51759.58</td>\n",
       "      <td>27505.0</td>\n",
       "    </tr>\n",
       "    <tr>\n",
       "      <th>Cadillac Ciel concept</th>\n",
       "      <td>Motor V8</td>\n",
       "      <td>51667.06</td>\n",
       "      <td>29981.0</td>\n",
       "    </tr>\n",
       "    <tr>\n",
       "      <th>Classe GLK</th>\n",
       "      <td>Motor 5.0 V8 Bi-Turbo</td>\n",
       "      <td>68934.03</td>\n",
       "      <td>52637.0</td>\n",
       "    </tr>\n",
       "    <tr>\n",
       "      <th>Aston Martin DB5</th>\n",
       "      <td>Motor Diesel</td>\n",
       "      <td>122110.90</td>\n",
       "      <td>7685.0</td>\n",
       "    </tr>\n",
       "    <tr>\n",
       "      <th>Macan</th>\n",
       "      <td>Motor Diesel V6</td>\n",
       "      <td>90381.47</td>\n",
       "      <td>50188.0</td>\n",
       "    </tr>\n",
       "  </tbody>\n",
       "</table>\n",
       "<p>258 rows × 3 columns</p>\n",
       "</div>"
      ],
      "text/plain": [
       "                                       Motor      Valor  Kilometraje\n",
       "Nombre                                                              \n",
       "Jetta Variant                Motor 4.0 Turbo   88078.64      44410.0\n",
       "Passat                          Motor Diesel  106161.94       5712.0\n",
       "Crossfox                     Motor Diesel V8   72832.16      37123.0\n",
       "DS5                          Motor 2.4 Turbo  124549.07          NaN\n",
       "Aston Martin DB4             Motor 2.4 Turbo   92612.10      25757.0\n",
       "...                                      ...        ...          ...\n",
       "Phantom 2013                        Motor V8   51759.58      27505.0\n",
       "Cadillac Ciel concept               Motor V8   51667.06      29981.0\n",
       "Classe GLK             Motor 5.0 V8 Bi-Turbo   68934.03      52637.0\n",
       "Aston Martin DB5                Motor Diesel  122110.90       7685.0\n",
       "Macan                        Motor Diesel V6   90381.47      50188.0\n",
       "\n",
       "[258 rows x 3 columns]"
      ]
     },
     "execution_count": 46,
     "metadata": {},
     "output_type": "execute_result"
    }
   ],
   "source": [
    "dataset.iloc[:, [0, 5, 2]]"
   ]
  },
  {
   "cell_type": "markdown",
   "metadata": {
    "colab_type": "text",
    "id": "eAbwq1oLD1BW"
   },
   "source": [
    "# 5.3 Consultas en DataFrames"
   ]
  },
  {
   "cell_type": "code",
   "execution_count": 47,
   "metadata": {
    "colab": {},
    "colab_type": "code",
    "id": "AOZTWzehD1BW",
    "scrolled": true
   },
   "outputs": [
    {
     "data": {
      "text/html": [
       "<div>\n",
       "<style scoped>\n",
       "    .dataframe tbody tr th:only-of-type {\n",
       "        vertical-align: middle;\n",
       "    }\n",
       "\n",
       "    .dataframe tbody tr th {\n",
       "        vertical-align: top;\n",
       "    }\n",
       "\n",
       "    .dataframe thead th {\n",
       "        text-align: right;\n",
       "    }\n",
       "</style>\n",
       "<table border=\"1\" class=\"dataframe\">\n",
       "  <thead>\n",
       "    <tr style=\"text-align: right;\">\n",
       "      <th></th>\n",
       "      <th>Motor</th>\n",
       "      <th>Año</th>\n",
       "      <th>Kilometraje</th>\n",
       "      <th>Cero_km</th>\n",
       "      <th>Accesorios</th>\n",
       "      <th>Valor</th>\n",
       "    </tr>\n",
       "    <tr>\n",
       "      <th>Nombre</th>\n",
       "      <th></th>\n",
       "      <th></th>\n",
       "      <th></th>\n",
       "      <th></th>\n",
       "      <th></th>\n",
       "      <th></th>\n",
       "    </tr>\n",
       "  </thead>\n",
       "  <tbody>\n",
       "    <tr>\n",
       "      <th>Jetta Variant</th>\n",
       "      <td>Motor 4.0 Turbo</td>\n",
       "      <td>2003</td>\n",
       "      <td>44410.0</td>\n",
       "      <td>False</td>\n",
       "      <td>['Llantas de aleación', 'Cerraduras electricas...</td>\n",
       "      <td>88078.64</td>\n",
       "    </tr>\n",
       "    <tr>\n",
       "      <th>Passat</th>\n",
       "      <td>Motor Diesel</td>\n",
       "      <td>1991</td>\n",
       "      <td>5712.0</td>\n",
       "      <td>False</td>\n",
       "      <td>['Central multimedia', 'Techo panorámico', 'Fr...</td>\n",
       "      <td>106161.94</td>\n",
       "    </tr>\n",
       "    <tr>\n",
       "      <th>Crossfox</th>\n",
       "      <td>Motor Diesel V8</td>\n",
       "      <td>1990</td>\n",
       "      <td>37123.0</td>\n",
       "      <td>False</td>\n",
       "      <td>['Piloto automático', 'Control de estabilidad'...</td>\n",
       "      <td>72832.16</td>\n",
       "    </tr>\n",
       "    <tr>\n",
       "      <th>DS5</th>\n",
       "      <td>Motor 2.4 Turbo</td>\n",
       "      <td>2019</td>\n",
       "      <td>NaN</td>\n",
       "      <td>True</td>\n",
       "      <td>['Cerraduras electricas', '4 X 4', 'Ventanas e...</td>\n",
       "      <td>124549.07</td>\n",
       "    </tr>\n",
       "    <tr>\n",
       "      <th>Aston Martin DB4</th>\n",
       "      <td>Motor 2.4 Turbo</td>\n",
       "      <td>2006</td>\n",
       "      <td>25757.0</td>\n",
       "      <td>False</td>\n",
       "      <td>['Llantas de aleación', '4 X 4', 'Central mult...</td>\n",
       "      <td>92612.10</td>\n",
       "    </tr>\n",
       "  </tbody>\n",
       "</table>\n",
       "</div>"
      ],
      "text/plain": [
       "                            Motor   Año  Kilometraje  Cero_km  \\\n",
       "Nombre                                                          \n",
       "Jetta Variant     Motor 4.0 Turbo  2003      44410.0    False   \n",
       "Passat               Motor Diesel  1991       5712.0    False   \n",
       "Crossfox          Motor Diesel V8  1990      37123.0    False   \n",
       "DS5               Motor 2.4 Turbo  2019          NaN     True   \n",
       "Aston Martin DB4  Motor 2.4 Turbo  2006      25757.0    False   \n",
       "\n",
       "                                                         Accesorios      Valor  \n",
       "Nombre                                                                          \n",
       "Jetta Variant     ['Llantas de aleación', 'Cerraduras electricas...   88078.64  \n",
       "Passat            ['Central multimedia', 'Techo panorámico', 'Fr...  106161.94  \n",
       "Crossfox          ['Piloto automático', 'Control de estabilidad'...   72832.16  \n",
       "DS5               ['Cerraduras electricas', '4 X 4', 'Ventanas e...  124549.07  \n",
       "Aston Martin DB4  ['Llantas de aleación', '4 X 4', 'Central mult...   92612.10  "
      ]
     },
     "execution_count": 47,
     "metadata": {},
     "output_type": "execute_result"
    }
   ],
   "source": [
    "dataset.head()"
   ]
  },
  {
   "cell_type": "code",
   "execution_count": 48,
   "metadata": {
    "colab": {},
    "colab_type": "code",
    "id": "rO5T4h94D1BX",
    "scrolled": true
   },
   "outputs": [
    {
     "data": {
      "text/plain": [
       "Nombre\n",
       "Jetta Variant                  Motor 4.0 Turbo\n",
       "Passat                            Motor Diesel\n",
       "Crossfox                       Motor Diesel V8\n",
       "DS5                            Motor 2.4 Turbo\n",
       "Aston Martin DB4               Motor 2.4 Turbo\n",
       "                                 ...          \n",
       "Phantom 2013                          Motor V8\n",
       "Cadillac Ciel concept                 Motor V8\n",
       "Classe GLK               Motor 5.0 V8 Bi-Turbo\n",
       "Aston Martin DB5                  Motor Diesel\n",
       "Macan                          Motor Diesel V6\n",
       "Name: Motor, Length: 258, dtype: object"
      ]
     },
     "execution_count": 48,
     "metadata": {},
     "output_type": "execute_result"
    }
   ],
   "source": [
    "dataset.Motor"
   ]
  },
  {
   "cell_type": "code",
   "execution_count": 50,
   "metadata": {
    "colab": {},
    "colab_type": "code",
    "id": "STZ-l8oaD1BX"
   },
   "outputs": [],
   "source": [
    "select = dataset.Motor == 'Motor Diesel'"
   ]
  },
  {
   "cell_type": "code",
   "execution_count": 52,
   "metadata": {
    "colab": {},
    "colab_type": "code",
    "id": "OZC8NAn6D1BX"
   },
   "outputs": [
    {
     "data": {
      "text/plain": [
       "pandas.core.series.Series"
      ]
     },
     "execution_count": 52,
     "metadata": {},
     "output_type": "execute_result"
    }
   ],
   "source": [
    "type(select)"
   ]
  },
  {
   "cell_type": "code",
   "execution_count": 53,
   "metadata": {
    "colab": {},
    "colab_type": "code",
    "id": "OzXC2M40D1BY",
    "scrolled": true
   },
   "outputs": [
    {
     "data": {
      "text/html": [
       "<div>\n",
       "<style scoped>\n",
       "    .dataframe tbody tr th:only-of-type {\n",
       "        vertical-align: middle;\n",
       "    }\n",
       "\n",
       "    .dataframe tbody tr th {\n",
       "        vertical-align: top;\n",
       "    }\n",
       "\n",
       "    .dataframe thead th {\n",
       "        text-align: right;\n",
       "    }\n",
       "</style>\n",
       "<table border=\"1\" class=\"dataframe\">\n",
       "  <thead>\n",
       "    <tr style=\"text-align: right;\">\n",
       "      <th></th>\n",
       "      <th>Motor</th>\n",
       "      <th>Año</th>\n",
       "      <th>Kilometraje</th>\n",
       "      <th>Cero_km</th>\n",
       "      <th>Accesorios</th>\n",
       "      <th>Valor</th>\n",
       "    </tr>\n",
       "    <tr>\n",
       "      <th>Nombre</th>\n",
       "      <th></th>\n",
       "      <th></th>\n",
       "      <th></th>\n",
       "      <th></th>\n",
       "      <th></th>\n",
       "      <th></th>\n",
       "    </tr>\n",
       "  </thead>\n",
       "  <tbody>\n",
       "    <tr>\n",
       "      <th>Passat</th>\n",
       "      <td>Motor Diesel</td>\n",
       "      <td>1991</td>\n",
       "      <td>5712.0</td>\n",
       "      <td>False</td>\n",
       "      <td>['Central multimedia', 'Techo panorámico', 'Fr...</td>\n",
       "      <td>106161.94</td>\n",
       "    </tr>\n",
       "    <tr>\n",
       "      <th>Effa Hafei Picape Baú</th>\n",
       "      <td>Motor Diesel</td>\n",
       "      <td>1991</td>\n",
       "      <td>102959.0</td>\n",
       "      <td>False</td>\n",
       "      <td>['Control de estabilidad', 'Panel digital', 'V...</td>\n",
       "      <td>125684.65</td>\n",
       "    </tr>\n",
       "    <tr>\n",
       "      <th>Sorento</th>\n",
       "      <td>Motor Diesel</td>\n",
       "      <td>2019</td>\n",
       "      <td>NaN</td>\n",
       "      <td>True</td>\n",
       "      <td>['Sensor de lluvia', 'Cámara de estacionamient...</td>\n",
       "      <td>81399.35</td>\n",
       "    </tr>\n",
       "    <tr>\n",
       "      <th>New Fiesta Hatch</th>\n",
       "      <td>Motor Diesel</td>\n",
       "      <td>2017</td>\n",
       "      <td>118895.0</td>\n",
       "      <td>False</td>\n",
       "      <td>['Sensor de estacionamiento', 'Cerraduras elec...</td>\n",
       "      <td>66007.16</td>\n",
       "    </tr>\n",
       "    <tr>\n",
       "      <th>Kangoo Express</th>\n",
       "      <td>Motor Diesel</td>\n",
       "      <td>2007</td>\n",
       "      <td>29132.0</td>\n",
       "      <td>False</td>\n",
       "      <td>['Asientos de cuero', 'Transmisión automática'...</td>\n",
       "      <td>146716.91</td>\n",
       "    </tr>\n",
       "    <tr>\n",
       "      <th>Fit</th>\n",
       "      <td>Motor Diesel</td>\n",
       "      <td>2013</td>\n",
       "      <td>44329.0</td>\n",
       "      <td>False</td>\n",
       "      <td>['Frenos ABS', 'Cámara de estacionamiento', 'T...</td>\n",
       "      <td>77836.23</td>\n",
       "    </tr>\n",
       "    <tr>\n",
       "      <th>Cielo Hatch</th>\n",
       "      <td>Motor Diesel</td>\n",
       "      <td>2019</td>\n",
       "      <td>NaN</td>\n",
       "      <td>True</td>\n",
       "      <td>['Panel digital', 'Central multimedia', 'Cámar...</td>\n",
       "      <td>145197.70</td>\n",
       "    </tr>\n",
       "    <tr>\n",
       "      <th>Symbol</th>\n",
       "      <td>Motor Diesel</td>\n",
       "      <td>2016</td>\n",
       "      <td>117714.0</td>\n",
       "      <td>False</td>\n",
       "      <td>['4 X 4', 'Piloto automático', 'Sensor crepusc...</td>\n",
       "      <td>133030.60</td>\n",
       "    </tr>\n",
       "    <tr>\n",
       "      <th>A4 Sedan</th>\n",
       "      <td>Motor Diesel</td>\n",
       "      <td>2002</td>\n",
       "      <td>30511.0</td>\n",
       "      <td>False</td>\n",
       "      <td>['Cámara de estacionamiento', '4 X 4', 'Cerrad...</td>\n",
       "      <td>96369.04</td>\n",
       "    </tr>\n",
       "    <tr>\n",
       "      <th>A4 Avant</th>\n",
       "      <td>Motor Diesel</td>\n",
       "      <td>2014</td>\n",
       "      <td>17357.0</td>\n",
       "      <td>False</td>\n",
       "      <td>['Techo panorámico', '4 X 4', 'Asientos de cue...</td>\n",
       "      <td>138946.88</td>\n",
       "    </tr>\n",
       "    <tr>\n",
       "      <th>Silver Shadow</th>\n",
       "      <td>Motor Diesel</td>\n",
       "      <td>2015</td>\n",
       "      <td>99052.0</td>\n",
       "      <td>False</td>\n",
       "      <td>['4 X 4', 'Central multimedia', 'Aire condicio...</td>\n",
       "      <td>143568.22</td>\n",
       "    </tr>\n",
       "    <tr>\n",
       "      <th>Camry</th>\n",
       "      <td>Motor Diesel</td>\n",
       "      <td>2019</td>\n",
       "      <td>NaN</td>\n",
       "      <td>True</td>\n",
       "      <td>['Cerraduras electricas', 'Llantas de aleación...</td>\n",
       "      <td>138597.27</td>\n",
       "    </tr>\n",
       "    <tr>\n",
       "      <th>Clio</th>\n",
       "      <td>Motor Diesel</td>\n",
       "      <td>1990</td>\n",
       "      <td>66437.0</td>\n",
       "      <td>False</td>\n",
       "      <td>['4 X 4', 'Transmisión automática', 'Frenos AB...</td>\n",
       "      <td>111130.33</td>\n",
       "    </tr>\n",
       "    <tr>\n",
       "      <th>Série 3 M3 Coupé</th>\n",
       "      <td>Motor Diesel</td>\n",
       "      <td>2013</td>\n",
       "      <td>19896.0</td>\n",
       "      <td>False</td>\n",
       "      <td>['Asientos de cuero', 'Sensor de lluvia', 'Air...</td>\n",
       "      <td>69219.89</td>\n",
       "    </tr>\n",
       "    <tr>\n",
       "      <th>Gallardo LP 560 – 4</th>\n",
       "      <td>Motor Diesel</td>\n",
       "      <td>2000</td>\n",
       "      <td>113045.0</td>\n",
       "      <td>False</td>\n",
       "      <td>['Frenos ABS', 'Techo panorámico', 'Central mu...</td>\n",
       "      <td>144118.91</td>\n",
       "    </tr>\n",
       "    <tr>\n",
       "      <th>Chana Utility</th>\n",
       "      <td>Motor Diesel</td>\n",
       "      <td>2009</td>\n",
       "      <td>52034.0</td>\n",
       "      <td>False</td>\n",
       "      <td>['Aire condicionado', 'Sensor de estacionamien...</td>\n",
       "      <td>132662.32</td>\n",
       "    </tr>\n",
       "    <tr>\n",
       "      <th>TT Roadster</th>\n",
       "      <td>Motor Diesel</td>\n",
       "      <td>1998</td>\n",
       "      <td>107392.0</td>\n",
       "      <td>False</td>\n",
       "      <td>['Aire condicionado', 'Sensor de estacionamien...</td>\n",
       "      <td>85311.40</td>\n",
       "    </tr>\n",
       "    <tr>\n",
       "      <th>Aston Martin Virage</th>\n",
       "      <td>Motor Diesel</td>\n",
       "      <td>2019</td>\n",
       "      <td>NaN</td>\n",
       "      <td>True</td>\n",
       "      <td>['Cerraduras electricas', 'Control de tracción...</td>\n",
       "      <td>97290.18</td>\n",
       "    </tr>\n",
       "    <tr>\n",
       "      <th>Sandero</th>\n",
       "      <td>Motor Diesel</td>\n",
       "      <td>2015</td>\n",
       "      <td>34783.0</td>\n",
       "      <td>False</td>\n",
       "      <td>['Piloto automático', 'Techo panorámico', 'Tra...</td>\n",
       "      <td>112350.61</td>\n",
       "    </tr>\n",
       "    <tr>\n",
       "      <th>XKR</th>\n",
       "      <td>Motor Diesel</td>\n",
       "      <td>1996</td>\n",
       "      <td>85127.0</td>\n",
       "      <td>False</td>\n",
       "      <td>['Control de tracción', 'Aire condicionado', '...</td>\n",
       "      <td>54263.16</td>\n",
       "    </tr>\n",
       "    <tr>\n",
       "      <th>X5</th>\n",
       "      <td>Motor Diesel</td>\n",
       "      <td>2002</td>\n",
       "      <td>13606.0</td>\n",
       "      <td>False</td>\n",
       "      <td>['Control de tracción', 'Piloto automático', '...</td>\n",
       "      <td>62041.32</td>\n",
       "    </tr>\n",
       "    <tr>\n",
       "      <th>Dodge Dakota</th>\n",
       "      <td>Motor Diesel</td>\n",
       "      <td>1993</td>\n",
       "      <td>71544.0</td>\n",
       "      <td>False</td>\n",
       "      <td>['Control de tracción', 'Sensor de estacionami...</td>\n",
       "      <td>141083.35</td>\n",
       "    </tr>\n",
       "    <tr>\n",
       "      <th>i30 CW</th>\n",
       "      <td>Motor Diesel</td>\n",
       "      <td>2015</td>\n",
       "      <td>8497.0</td>\n",
       "      <td>False</td>\n",
       "      <td>['Sensor de lluvia', 'Ventanas eléctricas', 'C...</td>\n",
       "      <td>73311.75</td>\n",
       "    </tr>\n",
       "    <tr>\n",
       "      <th>Série 7 Sedã</th>\n",
       "      <td>Motor Diesel</td>\n",
       "      <td>2019</td>\n",
       "      <td>NaN</td>\n",
       "      <td>True</td>\n",
       "      <td>['Ventanas eléctricas', 'Cerraduras electricas...</td>\n",
       "      <td>67539.79</td>\n",
       "    </tr>\n",
       "    <tr>\n",
       "      <th>V60</th>\n",
       "      <td>Motor Diesel</td>\n",
       "      <td>2004</td>\n",
       "      <td>91840.0</td>\n",
       "      <td>False</td>\n",
       "      <td>['Llantas de aleación', 'Sensor crepuscular', ...</td>\n",
       "      <td>114728.74</td>\n",
       "    </tr>\n",
       "    <tr>\n",
       "      <th>Aston Martin DB5</th>\n",
       "      <td>Motor Diesel</td>\n",
       "      <td>1996</td>\n",
       "      <td>7685.0</td>\n",
       "      <td>False</td>\n",
       "      <td>['Aire condicionado', '4 X 4', 'Transmisión au...</td>\n",
       "      <td>122110.90</td>\n",
       "    </tr>\n",
       "  </tbody>\n",
       "</table>\n",
       "</div>"
      ],
      "text/plain": [
       "                              Motor   Año  Kilometraje  Cero_km  \\\n",
       "Nombre                                                            \n",
       "Passat                 Motor Diesel  1991       5712.0    False   \n",
       "Effa Hafei Picape Baú  Motor Diesel  1991     102959.0    False   \n",
       "Sorento                Motor Diesel  2019          NaN     True   \n",
       "New Fiesta Hatch       Motor Diesel  2017     118895.0    False   \n",
       "Kangoo Express         Motor Diesel  2007      29132.0    False   \n",
       "Fit                    Motor Diesel  2013      44329.0    False   \n",
       "Cielo Hatch            Motor Diesel  2019          NaN     True   \n",
       "Symbol                 Motor Diesel  2016     117714.0    False   \n",
       "A4 Sedan               Motor Diesel  2002      30511.0    False   \n",
       "A4 Avant               Motor Diesel  2014      17357.0    False   \n",
       "Silver Shadow          Motor Diesel  2015      99052.0    False   \n",
       "Camry                  Motor Diesel  2019          NaN     True   \n",
       "Clio                   Motor Diesel  1990      66437.0    False   \n",
       "Série 3 M3 Coupé       Motor Diesel  2013      19896.0    False   \n",
       "Gallardo LP 560 – 4    Motor Diesel  2000     113045.0    False   \n",
       "Chana Utility          Motor Diesel  2009      52034.0    False   \n",
       "TT Roadster            Motor Diesel  1998     107392.0    False   \n",
       "Aston Martin Virage    Motor Diesel  2019          NaN     True   \n",
       "Sandero                Motor Diesel  2015      34783.0    False   \n",
       "XKR                    Motor Diesel  1996      85127.0    False   \n",
       "X5                     Motor Diesel  2002      13606.0    False   \n",
       "Dodge Dakota           Motor Diesel  1993      71544.0    False   \n",
       "i30 CW                 Motor Diesel  2015       8497.0    False   \n",
       "Série 7 Sedã           Motor Diesel  2019          NaN     True   \n",
       "V60                    Motor Diesel  2004      91840.0    False   \n",
       "Aston Martin DB5       Motor Diesel  1996       7685.0    False   \n",
       "\n",
       "                                                              Accesorios  \\\n",
       "Nombre                                                                     \n",
       "Passat                 ['Central multimedia', 'Techo panorámico', 'Fr...   \n",
       "Effa Hafei Picape Baú  ['Control de estabilidad', 'Panel digital', 'V...   \n",
       "Sorento                ['Sensor de lluvia', 'Cámara de estacionamient...   \n",
       "New Fiesta Hatch       ['Sensor de estacionamiento', 'Cerraduras elec...   \n",
       "Kangoo Express         ['Asientos de cuero', 'Transmisión automática'...   \n",
       "Fit                    ['Frenos ABS', 'Cámara de estacionamiento', 'T...   \n",
       "Cielo Hatch            ['Panel digital', 'Central multimedia', 'Cámar...   \n",
       "Symbol                 ['4 X 4', 'Piloto automático', 'Sensor crepusc...   \n",
       "A4 Sedan               ['Cámara de estacionamiento', '4 X 4', 'Cerrad...   \n",
       "A4 Avant               ['Techo panorámico', '4 X 4', 'Asientos de cue...   \n",
       "Silver Shadow          ['4 X 4', 'Central multimedia', 'Aire condicio...   \n",
       "Camry                  ['Cerraduras electricas', 'Llantas de aleación...   \n",
       "Clio                   ['4 X 4', 'Transmisión automática', 'Frenos AB...   \n",
       "Série 3 M3 Coupé       ['Asientos de cuero', 'Sensor de lluvia', 'Air...   \n",
       "Gallardo LP 560 – 4    ['Frenos ABS', 'Techo panorámico', 'Central mu...   \n",
       "Chana Utility          ['Aire condicionado', 'Sensor de estacionamien...   \n",
       "TT Roadster            ['Aire condicionado', 'Sensor de estacionamien...   \n",
       "Aston Martin Virage    ['Cerraduras electricas', 'Control de tracción...   \n",
       "Sandero                ['Piloto automático', 'Techo panorámico', 'Tra...   \n",
       "XKR                    ['Control de tracción', 'Aire condicionado', '...   \n",
       "X5                     ['Control de tracción', 'Piloto automático', '...   \n",
       "Dodge Dakota           ['Control de tracción', 'Sensor de estacionami...   \n",
       "i30 CW                 ['Sensor de lluvia', 'Ventanas eléctricas', 'C...   \n",
       "Série 7 Sedã           ['Ventanas eléctricas', 'Cerraduras electricas...   \n",
       "V60                    ['Llantas de aleación', 'Sensor crepuscular', ...   \n",
       "Aston Martin DB5       ['Aire condicionado', '4 X 4', 'Transmisión au...   \n",
       "\n",
       "                           Valor  \n",
       "Nombre                            \n",
       "Passat                 106161.94  \n",
       "Effa Hafei Picape Baú  125684.65  \n",
       "Sorento                 81399.35  \n",
       "New Fiesta Hatch        66007.16  \n",
       "Kangoo Express         146716.91  \n",
       "Fit                     77836.23  \n",
       "Cielo Hatch            145197.70  \n",
       "Symbol                 133030.60  \n",
       "A4 Sedan                96369.04  \n",
       "A4 Avant               138946.88  \n",
       "Silver Shadow          143568.22  \n",
       "Camry                  138597.27  \n",
       "Clio                   111130.33  \n",
       "Série 3 M3 Coupé        69219.89  \n",
       "Gallardo LP 560 – 4    144118.91  \n",
       "Chana Utility          132662.32  \n",
       "TT Roadster             85311.40  \n",
       "Aston Martin Virage     97290.18  \n",
       "Sandero                112350.61  \n",
       "XKR                     54263.16  \n",
       "X5                      62041.32  \n",
       "Dodge Dakota           141083.35  \n",
       "i30 CW                  73311.75  \n",
       "Série 7 Sedã            67539.79  \n",
       "V60                    114728.74  \n",
       "Aston Martin DB5       122110.90  "
      ]
     },
     "execution_count": 53,
     "metadata": {},
     "output_type": "execute_result"
    }
   ],
   "source": [
    "dataset[select]"
   ]
  },
  {
   "cell_type": "code",
   "execution_count": 54,
   "metadata": {},
   "outputs": [
    {
     "data": {
      "text/html": [
       "<div>\n",
       "<style scoped>\n",
       "    .dataframe tbody tr th:only-of-type {\n",
       "        vertical-align: middle;\n",
       "    }\n",
       "\n",
       "    .dataframe tbody tr th {\n",
       "        vertical-align: top;\n",
       "    }\n",
       "\n",
       "    .dataframe thead th {\n",
       "        text-align: right;\n",
       "    }\n",
       "</style>\n",
       "<table border=\"1\" class=\"dataframe\">\n",
       "  <thead>\n",
       "    <tr style=\"text-align: right;\">\n",
       "      <th></th>\n",
       "      <th>Motor</th>\n",
       "      <th>Año</th>\n",
       "      <th>Kilometraje</th>\n",
       "      <th>Cero_km</th>\n",
       "      <th>Accesorios</th>\n",
       "      <th>Valor</th>\n",
       "    </tr>\n",
       "    <tr>\n",
       "      <th>Nombre</th>\n",
       "      <th></th>\n",
       "      <th></th>\n",
       "      <th></th>\n",
       "      <th></th>\n",
       "      <th></th>\n",
       "      <th></th>\n",
       "    </tr>\n",
       "  </thead>\n",
       "  <tbody>\n",
       "    <tr>\n",
       "      <th>Sorento</th>\n",
       "      <td>Motor Diesel</td>\n",
       "      <td>2019</td>\n",
       "      <td>NaN</td>\n",
       "      <td>True</td>\n",
       "      <td>['Sensor de lluvia', 'Cámara de estacionamient...</td>\n",
       "      <td>81399.35</td>\n",
       "    </tr>\n",
       "    <tr>\n",
       "      <th>Cielo Hatch</th>\n",
       "      <td>Motor Diesel</td>\n",
       "      <td>2019</td>\n",
       "      <td>NaN</td>\n",
       "      <td>True</td>\n",
       "      <td>['Panel digital', 'Central multimedia', 'Cámar...</td>\n",
       "      <td>145197.70</td>\n",
       "    </tr>\n",
       "    <tr>\n",
       "      <th>Camry</th>\n",
       "      <td>Motor Diesel</td>\n",
       "      <td>2019</td>\n",
       "      <td>NaN</td>\n",
       "      <td>True</td>\n",
       "      <td>['Cerraduras electricas', 'Llantas de aleación...</td>\n",
       "      <td>138597.27</td>\n",
       "    </tr>\n",
       "    <tr>\n",
       "      <th>Aston Martin Virage</th>\n",
       "      <td>Motor Diesel</td>\n",
       "      <td>2019</td>\n",
       "      <td>NaN</td>\n",
       "      <td>True</td>\n",
       "      <td>['Cerraduras electricas', 'Control de tracción...</td>\n",
       "      <td>97290.18</td>\n",
       "    </tr>\n",
       "    <tr>\n",
       "      <th>Série 7 Sedã</th>\n",
       "      <td>Motor Diesel</td>\n",
       "      <td>2019</td>\n",
       "      <td>NaN</td>\n",
       "      <td>True</td>\n",
       "      <td>['Ventanas eléctricas', 'Cerraduras electricas...</td>\n",
       "      <td>67539.79</td>\n",
       "    </tr>\n",
       "  </tbody>\n",
       "</table>\n",
       "</div>"
      ],
      "text/plain": [
       "                            Motor   Año  Kilometraje  Cero_km  \\\n",
       "Nombre                                                          \n",
       "Sorento              Motor Diesel  2019          NaN     True   \n",
       "Cielo Hatch          Motor Diesel  2019          NaN     True   \n",
       "Camry                Motor Diesel  2019          NaN     True   \n",
       "Aston Martin Virage  Motor Diesel  2019          NaN     True   \n",
       "Série 7 Sedã         Motor Diesel  2019          NaN     True   \n",
       "\n",
       "                                                            Accesorios  \\\n",
       "Nombre                                                                   \n",
       "Sorento              ['Sensor de lluvia', 'Cámara de estacionamient...   \n",
       "Cielo Hatch          ['Panel digital', 'Central multimedia', 'Cámar...   \n",
       "Camry                ['Cerraduras electricas', 'Llantas de aleación...   \n",
       "Aston Martin Virage  ['Cerraduras electricas', 'Control de tracción...   \n",
       "Série 7 Sedã         ['Ventanas eléctricas', 'Cerraduras electricas...   \n",
       "\n",
       "                         Valor  \n",
       "Nombre                          \n",
       "Sorento               81399.35  \n",
       "Cielo Hatch          145197.70  \n",
       "Camry                138597.27  \n",
       "Aston Martin Virage   97290.18  \n",
       "Série 7 Sedã          67539.79  "
      ]
     },
     "execution_count": 54,
     "metadata": {},
     "output_type": "execute_result"
    }
   ],
   "source": [
    "dataset[(dataset.Motor == 'Motor Diesel') & (dataset.Cero_km == True)]"
   ]
  },
  {
   "cell_type": "code",
   "execution_count": 55,
   "metadata": {},
   "outputs": [
    {
     "data": {
      "text/plain": [
       "Nombre\n",
       "Jetta Variant            False\n",
       "Passat                   False\n",
       "Crossfox                 False\n",
       "DS5                      False\n",
       "Aston Martin DB4         False\n",
       "                         ...  \n",
       "Phantom 2013             False\n",
       "Cadillac Ciel concept    False\n",
       "Classe GLK               False\n",
       "Aston Martin DB5         False\n",
       "Macan                    False\n",
       "Length: 258, dtype: bool"
      ]
     },
     "execution_count": 55,
     "metadata": {},
     "output_type": "execute_result"
    }
   ],
   "source": [
    "(dataset.Motor == 'Motor Diesel') & (dataset.Cero_km == True)"
   ]
  },
  {
   "cell_type": "markdown",
   "metadata": {
    "colab_type": "text",
    "id": "_XKXcWO-D1BY"
   },
   "source": [
    "### Utilizando el método query"
   ]
  },
  {
   "cell_type": "code",
   "execution_count": 56,
   "metadata": {
    "colab": {},
    "colab_type": "code",
    "id": "AB9JirSoD1BY"
   },
   "outputs": [
    {
     "data": {
      "text/html": [
       "<div>\n",
       "<style scoped>\n",
       "    .dataframe tbody tr th:only-of-type {\n",
       "        vertical-align: middle;\n",
       "    }\n",
       "\n",
       "    .dataframe tbody tr th {\n",
       "        vertical-align: top;\n",
       "    }\n",
       "\n",
       "    .dataframe thead th {\n",
       "        text-align: right;\n",
       "    }\n",
       "</style>\n",
       "<table border=\"1\" class=\"dataframe\">\n",
       "  <thead>\n",
       "    <tr style=\"text-align: right;\">\n",
       "      <th></th>\n",
       "      <th>Motor</th>\n",
       "      <th>Año</th>\n",
       "      <th>Kilometraje</th>\n",
       "      <th>Cero_km</th>\n",
       "      <th>Accesorios</th>\n",
       "      <th>Valor</th>\n",
       "    </tr>\n",
       "    <tr>\n",
       "      <th>Nombre</th>\n",
       "      <th></th>\n",
       "      <th></th>\n",
       "      <th></th>\n",
       "      <th></th>\n",
       "      <th></th>\n",
       "      <th></th>\n",
       "    </tr>\n",
       "  </thead>\n",
       "  <tbody>\n",
       "    <tr>\n",
       "      <th>Sorento</th>\n",
       "      <td>Motor Diesel</td>\n",
       "      <td>2019</td>\n",
       "      <td>NaN</td>\n",
       "      <td>True</td>\n",
       "      <td>['Sensor de lluvia', 'Cámara de estacionamient...</td>\n",
       "      <td>81399.35</td>\n",
       "    </tr>\n",
       "    <tr>\n",
       "      <th>Cielo Hatch</th>\n",
       "      <td>Motor Diesel</td>\n",
       "      <td>2019</td>\n",
       "      <td>NaN</td>\n",
       "      <td>True</td>\n",
       "      <td>['Panel digital', 'Central multimedia', 'Cámar...</td>\n",
       "      <td>145197.70</td>\n",
       "    </tr>\n",
       "    <tr>\n",
       "      <th>Camry</th>\n",
       "      <td>Motor Diesel</td>\n",
       "      <td>2019</td>\n",
       "      <td>NaN</td>\n",
       "      <td>True</td>\n",
       "      <td>['Cerraduras electricas', 'Llantas de aleación...</td>\n",
       "      <td>138597.27</td>\n",
       "    </tr>\n",
       "    <tr>\n",
       "      <th>Aston Martin Virage</th>\n",
       "      <td>Motor Diesel</td>\n",
       "      <td>2019</td>\n",
       "      <td>NaN</td>\n",
       "      <td>True</td>\n",
       "      <td>['Cerraduras electricas', 'Control de tracción...</td>\n",
       "      <td>97290.18</td>\n",
       "    </tr>\n",
       "    <tr>\n",
       "      <th>Série 7 Sedã</th>\n",
       "      <td>Motor Diesel</td>\n",
       "      <td>2019</td>\n",
       "      <td>NaN</td>\n",
       "      <td>True</td>\n",
       "      <td>['Ventanas eléctricas', 'Cerraduras electricas...</td>\n",
       "      <td>67539.79</td>\n",
       "    </tr>\n",
       "  </tbody>\n",
       "</table>\n",
       "</div>"
      ],
      "text/plain": [
       "                            Motor   Año  Kilometraje  Cero_km  \\\n",
       "Nombre                                                          \n",
       "Sorento              Motor Diesel  2019          NaN     True   \n",
       "Cielo Hatch          Motor Diesel  2019          NaN     True   \n",
       "Camry                Motor Diesel  2019          NaN     True   \n",
       "Aston Martin Virage  Motor Diesel  2019          NaN     True   \n",
       "Série 7 Sedã         Motor Diesel  2019          NaN     True   \n",
       "\n",
       "                                                            Accesorios  \\\n",
       "Nombre                                                                   \n",
       "Sorento              ['Sensor de lluvia', 'Cámara de estacionamient...   \n",
       "Cielo Hatch          ['Panel digital', 'Central multimedia', 'Cámar...   \n",
       "Camry                ['Cerraduras electricas', 'Llantas de aleación...   \n",
       "Aston Martin Virage  ['Cerraduras electricas', 'Control de tracción...   \n",
       "Série 7 Sedã         ['Ventanas eléctricas', 'Cerraduras electricas...   \n",
       "\n",
       "                         Valor  \n",
       "Nombre                          \n",
       "Sorento               81399.35  \n",
       "Cielo Hatch          145197.70  \n",
       "Camry                138597.27  \n",
       "Aston Martin Virage   97290.18  \n",
       "Série 7 Sedã          67539.79  "
      ]
     },
     "execution_count": 56,
     "metadata": {},
     "output_type": "execute_result"
    }
   ],
   "source": [
    "dataset.query('Motor == \"Motor Diesel\" and Cero_km == True')"
   ]
  },
  {
   "cell_type": "markdown",
   "metadata": {
    "colab_type": "text",
    "id": "ciJ4dw_FD1BZ"
   },
   "source": [
    "# 5.4 Iterando con DataFrames"
   ]
  },
  {
   "cell_type": "code",
   "execution_count": 57,
   "metadata": {
    "colab": {},
    "colab_type": "code",
    "id": "TKAB-g5KD1BZ"
   },
   "outputs": [
    {
     "name": "stdout",
     "output_type": "stream",
     "text": [
      "Motor\n",
      "Año\n",
      "Kilometraje\n",
      "Cero_km\n",
      "Accesorios\n",
      "Valor\n"
     ]
    }
   ],
   "source": [
    "for item in dataset:\n",
    "    print(item)"
   ]
  },
  {
   "cell_type": "code",
   "execution_count": 59,
   "metadata": {
    "colab": {},
    "colab_type": "code",
    "id": "eFTNtPRWD1Ba"
   },
   "outputs": [
    {
     "data": {
      "text/html": [
       "<div>\n",
       "<style scoped>\n",
       "    .dataframe tbody tr th:only-of-type {\n",
       "        vertical-align: middle;\n",
       "    }\n",
       "\n",
       "    .dataframe tbody tr th {\n",
       "        vertical-align: top;\n",
       "    }\n",
       "\n",
       "    .dataframe thead th {\n",
       "        text-align: right;\n",
       "    }\n",
       "</style>\n",
       "<table border=\"1\" class=\"dataframe\">\n",
       "  <thead>\n",
       "    <tr style=\"text-align: right;\">\n",
       "      <th></th>\n",
       "      <th>Motor</th>\n",
       "      <th>Año</th>\n",
       "      <th>Kilometraje</th>\n",
       "      <th>Cero_km</th>\n",
       "      <th>Accesorios</th>\n",
       "      <th>Valor</th>\n",
       "      <th>km_media</th>\n",
       "    </tr>\n",
       "    <tr>\n",
       "      <th>Nombre</th>\n",
       "      <th></th>\n",
       "      <th></th>\n",
       "      <th></th>\n",
       "      <th></th>\n",
       "      <th></th>\n",
       "      <th></th>\n",
       "      <th></th>\n",
       "    </tr>\n",
       "  </thead>\n",
       "  <tbody>\n",
       "    <tr>\n",
       "      <th>Jetta Variant</th>\n",
       "      <td>Motor 4.0 Turbo</td>\n",
       "      <td>2003</td>\n",
       "      <td>44410.0</td>\n",
       "      <td>False</td>\n",
       "      <td>['Llantas de aleación', 'Cerraduras electricas...</td>\n",
       "      <td>88078.64</td>\n",
       "      <td>2612.352941</td>\n",
       "    </tr>\n",
       "    <tr>\n",
       "      <th>Passat</th>\n",
       "      <td>Motor Diesel</td>\n",
       "      <td>1991</td>\n",
       "      <td>5712.0</td>\n",
       "      <td>False</td>\n",
       "      <td>['Central multimedia', 'Techo panorámico', 'Fr...</td>\n",
       "      <td>106161.94</td>\n",
       "      <td>196.965517</td>\n",
       "    </tr>\n",
       "    <tr>\n",
       "      <th>Crossfox</th>\n",
       "      <td>Motor Diesel V8</td>\n",
       "      <td>1990</td>\n",
       "      <td>37123.0</td>\n",
       "      <td>False</td>\n",
       "      <td>['Piloto automático', 'Control de estabilidad'...</td>\n",
       "      <td>72832.16</td>\n",
       "      <td>1237.433333</td>\n",
       "    </tr>\n",
       "    <tr>\n",
       "      <th>DS5</th>\n",
       "      <td>Motor 2.4 Turbo</td>\n",
       "      <td>2019</td>\n",
       "      <td>NaN</td>\n",
       "      <td>True</td>\n",
       "      <td>['Cerraduras electricas', '4 X 4', 'Ventanas e...</td>\n",
       "      <td>124549.07</td>\n",
       "      <td>NaN</td>\n",
       "    </tr>\n",
       "    <tr>\n",
       "      <th>Aston Martin DB4</th>\n",
       "      <td>Motor 2.4 Turbo</td>\n",
       "      <td>2006</td>\n",
       "      <td>25757.0</td>\n",
       "      <td>False</td>\n",
       "      <td>['Llantas de aleación', '4 X 4', 'Central mult...</td>\n",
       "      <td>92612.10</td>\n",
       "      <td>1839.785714</td>\n",
       "    </tr>\n",
       "    <tr>\n",
       "      <th>...</th>\n",
       "      <td>...</td>\n",
       "      <td>...</td>\n",
       "      <td>...</td>\n",
       "      <td>...</td>\n",
       "      <td>...</td>\n",
       "      <td>...</td>\n",
       "      <td>...</td>\n",
       "    </tr>\n",
       "    <tr>\n",
       "      <th>Phantom 2013</th>\n",
       "      <td>Motor V8</td>\n",
       "      <td>2014</td>\n",
       "      <td>27505.0</td>\n",
       "      <td>False</td>\n",
       "      <td>['Control de estabilidad', 'Piloto automático'...</td>\n",
       "      <td>51759.58</td>\n",
       "      <td>4584.166667</td>\n",
       "    </tr>\n",
       "    <tr>\n",
       "      <th>Cadillac Ciel concept</th>\n",
       "      <td>Motor V8</td>\n",
       "      <td>1991</td>\n",
       "      <td>29981.0</td>\n",
       "      <td>False</td>\n",
       "      <td>['Asientos de cuero', 'Panel digital', 'Sensor...</td>\n",
       "      <td>51667.06</td>\n",
       "      <td>1033.827586</td>\n",
       "    </tr>\n",
       "    <tr>\n",
       "      <th>Classe GLK</th>\n",
       "      <td>Motor 5.0 V8 Bi-Turbo</td>\n",
       "      <td>2002</td>\n",
       "      <td>52637.0</td>\n",
       "      <td>False</td>\n",
       "      <td>['Llantas de aleación', 'Control de tracción',...</td>\n",
       "      <td>68934.03</td>\n",
       "      <td>2924.277778</td>\n",
       "    </tr>\n",
       "    <tr>\n",
       "      <th>Aston Martin DB5</th>\n",
       "      <td>Motor Diesel</td>\n",
       "      <td>1996</td>\n",
       "      <td>7685.0</td>\n",
       "      <td>False</td>\n",
       "      <td>['Aire condicionado', '4 X 4', 'Transmisión au...</td>\n",
       "      <td>122110.90</td>\n",
       "      <td>320.208333</td>\n",
       "    </tr>\n",
       "    <tr>\n",
       "      <th>Macan</th>\n",
       "      <td>Motor Diesel V6</td>\n",
       "      <td>1992</td>\n",
       "      <td>50188.0</td>\n",
       "      <td>False</td>\n",
       "      <td>['Central multimedia', 'Techo panorámico', 'Ve...</td>\n",
       "      <td>90381.47</td>\n",
       "      <td>1792.428571</td>\n",
       "    </tr>\n",
       "  </tbody>\n",
       "</table>\n",
       "<p>258 rows × 7 columns</p>\n",
       "</div>"
      ],
      "text/plain": [
       "                                       Motor   Año  Kilometraje  Cero_km  \\\n",
       "Nombre                                                                     \n",
       "Jetta Variant                Motor 4.0 Turbo  2003      44410.0    False   \n",
       "Passat                          Motor Diesel  1991       5712.0    False   \n",
       "Crossfox                     Motor Diesel V8  1990      37123.0    False   \n",
       "DS5                          Motor 2.4 Turbo  2019          NaN     True   \n",
       "Aston Martin DB4             Motor 2.4 Turbo  2006      25757.0    False   \n",
       "...                                      ...   ...          ...      ...   \n",
       "Phantom 2013                        Motor V8  2014      27505.0    False   \n",
       "Cadillac Ciel concept               Motor V8  1991      29981.0    False   \n",
       "Classe GLK             Motor 5.0 V8 Bi-Turbo  2002      52637.0    False   \n",
       "Aston Martin DB5                Motor Diesel  1996       7685.0    False   \n",
       "Macan                        Motor Diesel V6  1992      50188.0    False   \n",
       "\n",
       "                                                              Accesorios  \\\n",
       "Nombre                                                                     \n",
       "Jetta Variant          ['Llantas de aleación', 'Cerraduras electricas...   \n",
       "Passat                 ['Central multimedia', 'Techo panorámico', 'Fr...   \n",
       "Crossfox               ['Piloto automático', 'Control de estabilidad'...   \n",
       "DS5                    ['Cerraduras electricas', '4 X 4', 'Ventanas e...   \n",
       "Aston Martin DB4       ['Llantas de aleación', '4 X 4', 'Central mult...   \n",
       "...                                                                  ...   \n",
       "Phantom 2013           ['Control de estabilidad', 'Piloto automático'...   \n",
       "Cadillac Ciel concept  ['Asientos de cuero', 'Panel digital', 'Sensor...   \n",
       "Classe GLK             ['Llantas de aleación', 'Control de tracción',...   \n",
       "Aston Martin DB5       ['Aire condicionado', '4 X 4', 'Transmisión au...   \n",
       "Macan                  ['Central multimedia', 'Techo panorámico', 'Ve...   \n",
       "\n",
       "                           Valor     km_media  \n",
       "Nombre                                         \n",
       "Jetta Variant           88078.64  2612.352941  \n",
       "Passat                 106161.94   196.965517  \n",
       "Crossfox                72832.16  1237.433333  \n",
       "DS5                    124549.07          NaN  \n",
       "Aston Martin DB4        92612.10  1839.785714  \n",
       "...                          ...          ...  \n",
       "Phantom 2013            51759.58  4584.166667  \n",
       "Cadillac Ciel concept   51667.06  1033.827586  \n",
       "Classe GLK              68934.03  2924.277778  \n",
       "Aston Martin DB5       122110.90   320.208333  \n",
       "Macan                   90381.47  1792.428571  \n",
       "\n",
       "[258 rows x 7 columns]"
      ]
     },
     "execution_count": 59,
     "metadata": {},
     "output_type": "execute_result"
    }
   ],
   "source": [
    "for index, row in dataset.iterrows():\n",
    "    if(2020 - row['Año'] != 0):\n",
    "        dataset.loc[index, 'km_media'] = row['Kilometraje'] / (2020 - row['Año'])\n",
    "    else:\n",
    "        dataset.loc[index, 'km_media'] = 0\n",
    "\n",
    "dataset    "
   ]
  },
  {
   "cell_type": "markdown",
   "metadata": {
    "colab_type": "text",
    "id": "HnUzHFQPD1Ba"
   },
   "source": [
    "# 5.5 Tratamiento de datos"
   ]
  },
  {
   "cell_type": "code",
   "execution_count": 60,
   "metadata": {
    "colab": {},
    "colab_type": "code",
    "id": "FRxBWoBGD1Ba"
   },
   "outputs": [
    {
     "data": {
      "text/html": [
       "<div>\n",
       "<style scoped>\n",
       "    .dataframe tbody tr th:only-of-type {\n",
       "        vertical-align: middle;\n",
       "    }\n",
       "\n",
       "    .dataframe tbody tr th {\n",
       "        vertical-align: top;\n",
       "    }\n",
       "\n",
       "    .dataframe thead th {\n",
       "        text-align: right;\n",
       "    }\n",
       "</style>\n",
       "<table border=\"1\" class=\"dataframe\">\n",
       "  <thead>\n",
       "    <tr style=\"text-align: right;\">\n",
       "      <th></th>\n",
       "      <th>Motor</th>\n",
       "      <th>Año</th>\n",
       "      <th>Kilometraje</th>\n",
       "      <th>Cero_km</th>\n",
       "      <th>Accesorios</th>\n",
       "      <th>Valor</th>\n",
       "      <th>km_media</th>\n",
       "    </tr>\n",
       "    <tr>\n",
       "      <th>Nombre</th>\n",
       "      <th></th>\n",
       "      <th></th>\n",
       "      <th></th>\n",
       "      <th></th>\n",
       "      <th></th>\n",
       "      <th></th>\n",
       "      <th></th>\n",
       "    </tr>\n",
       "  </thead>\n",
       "  <tbody>\n",
       "    <tr>\n",
       "      <th>Jetta Variant</th>\n",
       "      <td>Motor 4.0 Turbo</td>\n",
       "      <td>2003</td>\n",
       "      <td>44410.0</td>\n",
       "      <td>False</td>\n",
       "      <td>['Llantas de aleación', 'Cerraduras electricas...</td>\n",
       "      <td>88078.64</td>\n",
       "      <td>2612.352941</td>\n",
       "    </tr>\n",
       "    <tr>\n",
       "      <th>Passat</th>\n",
       "      <td>Motor Diesel</td>\n",
       "      <td>1991</td>\n",
       "      <td>5712.0</td>\n",
       "      <td>False</td>\n",
       "      <td>['Central multimedia', 'Techo panorámico', 'Fr...</td>\n",
       "      <td>106161.94</td>\n",
       "      <td>196.965517</td>\n",
       "    </tr>\n",
       "    <tr>\n",
       "      <th>Crossfox</th>\n",
       "      <td>Motor Diesel V8</td>\n",
       "      <td>1990</td>\n",
       "      <td>37123.0</td>\n",
       "      <td>False</td>\n",
       "      <td>['Piloto automático', 'Control de estabilidad'...</td>\n",
       "      <td>72832.16</td>\n",
       "      <td>1237.433333</td>\n",
       "    </tr>\n",
       "    <tr>\n",
       "      <th>DS5</th>\n",
       "      <td>Motor 2.4 Turbo</td>\n",
       "      <td>2019</td>\n",
       "      <td>NaN</td>\n",
       "      <td>True</td>\n",
       "      <td>['Cerraduras electricas', '4 X 4', 'Ventanas e...</td>\n",
       "      <td>124549.07</td>\n",
       "      <td>NaN</td>\n",
       "    </tr>\n",
       "    <tr>\n",
       "      <th>Aston Martin DB4</th>\n",
       "      <td>Motor 2.4 Turbo</td>\n",
       "      <td>2006</td>\n",
       "      <td>25757.0</td>\n",
       "      <td>False</td>\n",
       "      <td>['Llantas de aleación', '4 X 4', 'Central mult...</td>\n",
       "      <td>92612.10</td>\n",
       "      <td>1839.785714</td>\n",
       "    </tr>\n",
       "  </tbody>\n",
       "</table>\n",
       "</div>"
      ],
      "text/plain": [
       "                            Motor   Año  Kilometraje  Cero_km  \\\n",
       "Nombre                                                          \n",
       "Jetta Variant     Motor 4.0 Turbo  2003      44410.0    False   \n",
       "Passat               Motor Diesel  1991       5712.0    False   \n",
       "Crossfox          Motor Diesel V8  1990      37123.0    False   \n",
       "DS5               Motor 2.4 Turbo  2019          NaN     True   \n",
       "Aston Martin DB4  Motor 2.4 Turbo  2006      25757.0    False   \n",
       "\n",
       "                                                         Accesorios  \\\n",
       "Nombre                                                                \n",
       "Jetta Variant     ['Llantas de aleación', 'Cerraduras electricas...   \n",
       "Passat            ['Central multimedia', 'Techo panorámico', 'Fr...   \n",
       "Crossfox          ['Piloto automático', 'Control de estabilidad'...   \n",
       "DS5               ['Cerraduras electricas', '4 X 4', 'Ventanas e...   \n",
       "Aston Martin DB4  ['Llantas de aleación', '4 X 4', 'Central mult...   \n",
       "\n",
       "                      Valor     km_media  \n",
       "Nombre                                    \n",
       "Jetta Variant      88078.64  2612.352941  \n",
       "Passat            106161.94   196.965517  \n",
       "Crossfox           72832.16  1237.433333  \n",
       "DS5               124549.07          NaN  \n",
       "Aston Martin DB4   92612.10  1839.785714  "
      ]
     },
     "execution_count": 60,
     "metadata": {},
     "output_type": "execute_result"
    }
   ],
   "source": [
    "dataset.head()"
   ]
  },
  {
   "cell_type": "code",
   "execution_count": 61,
   "metadata": {
    "colab": {},
    "colab_type": "code",
    "id": "HHSwH0ZaD1Bc"
   },
   "outputs": [
    {
     "name": "stdout",
     "output_type": "stream",
     "text": [
      "<class 'pandas.core.frame.DataFrame'>\n",
      "Index: 258 entries, Jetta Variant to Macan\n",
      "Data columns (total 7 columns):\n",
      " #   Column       Non-Null Count  Dtype  \n",
      "---  ------       --------------  -----  \n",
      " 0   Motor        258 non-null    object \n",
      " 1   Año          258 non-null    int64  \n",
      " 2   Kilometraje  197 non-null    float64\n",
      " 3   Cero_km      258 non-null    bool   \n",
      " 4   Accesorios   258 non-null    object \n",
      " 5   Valor        258 non-null    float64\n",
      " 6   km_media     197 non-null    float64\n",
      "dtypes: bool(1), float64(3), int64(1), object(2)\n",
      "memory usage: 24.4+ KB\n"
     ]
    }
   ],
   "source": [
    "dataset.info()"
   ]
  },
  {
   "cell_type": "code",
   "execution_count": 62,
   "metadata": {
    "colab": {},
    "colab_type": "code",
    "id": "G27pxgZ5D1Bd",
    "scrolled": true
   },
   "outputs": [
    {
     "data": {
      "text/plain": [
       "Nombre\n",
       "Jetta Variant            False\n",
       "Passat                   False\n",
       "Crossfox                 False\n",
       "DS5                       True\n",
       "Aston Martin DB4         False\n",
       "                         ...  \n",
       "Phantom 2013             False\n",
       "Cadillac Ciel concept    False\n",
       "Classe GLK               False\n",
       "Aston Martin DB5         False\n",
       "Macan                    False\n",
       "Name: Kilometraje, Length: 258, dtype: bool"
      ]
     },
     "execution_count": 62,
     "metadata": {},
     "output_type": "execute_result"
    }
   ],
   "source": [
    "dataset.Kilometraje.isna()"
   ]
  },
  {
   "cell_type": "code",
   "execution_count": 64,
   "metadata": {
    "colab": {},
    "colab_type": "code",
    "id": "DhlRbxy2D1Bd",
    "scrolled": true
   },
   "outputs": [
    {
     "data": {
      "text/html": [
       "<div>\n",
       "<style scoped>\n",
       "    .dataframe tbody tr th:only-of-type {\n",
       "        vertical-align: middle;\n",
       "    }\n",
       "\n",
       "    .dataframe tbody tr th {\n",
       "        vertical-align: top;\n",
       "    }\n",
       "\n",
       "    .dataframe thead th {\n",
       "        text-align: right;\n",
       "    }\n",
       "</style>\n",
       "<table border=\"1\" class=\"dataframe\">\n",
       "  <thead>\n",
       "    <tr style=\"text-align: right;\">\n",
       "      <th></th>\n",
       "      <th>Motor</th>\n",
       "      <th>Año</th>\n",
       "      <th>Kilometraje</th>\n",
       "      <th>Cero_km</th>\n",
       "      <th>Accesorios</th>\n",
       "      <th>Valor</th>\n",
       "      <th>km_media</th>\n",
       "    </tr>\n",
       "    <tr>\n",
       "      <th>Nombre</th>\n",
       "      <th></th>\n",
       "      <th></th>\n",
       "      <th></th>\n",
       "      <th></th>\n",
       "      <th></th>\n",
       "      <th></th>\n",
       "      <th></th>\n",
       "    </tr>\n",
       "  </thead>\n",
       "  <tbody>\n",
       "    <tr>\n",
       "      <th>DS5</th>\n",
       "      <td>Motor 2.4 Turbo</td>\n",
       "      <td>2019</td>\n",
       "      <td>NaN</td>\n",
       "      <td>True</td>\n",
       "      <td>['Cerraduras electricas', '4 X 4', 'Ventanas e...</td>\n",
       "      <td>124549.07</td>\n",
       "      <td>NaN</td>\n",
       "    </tr>\n",
       "    <tr>\n",
       "      <th>A5</th>\n",
       "      <td>Motor 4.0 Turbo</td>\n",
       "      <td>2019</td>\n",
       "      <td>NaN</td>\n",
       "      <td>True</td>\n",
       "      <td>['Transmisión automática', 'Cámara de estacion...</td>\n",
       "      <td>56445.20</td>\n",
       "      <td>NaN</td>\n",
       "    </tr>\n",
       "    <tr>\n",
       "      <th>J5</th>\n",
       "      <td>Motor V6</td>\n",
       "      <td>2019</td>\n",
       "      <td>NaN</td>\n",
       "      <td>True</td>\n",
       "      <td>['Sensor crepuscular', 'Panel digital', 'Llant...</td>\n",
       "      <td>53183.38</td>\n",
       "      <td>NaN</td>\n",
       "    </tr>\n",
       "    <tr>\n",
       "      <th>A3</th>\n",
       "      <td>Motor 1.0 8v</td>\n",
       "      <td>2019</td>\n",
       "      <td>NaN</td>\n",
       "      <td>True</td>\n",
       "      <td>['4 X 4', 'Piloto automático', 'Central multim...</td>\n",
       "      <td>88552.39</td>\n",
       "      <td>NaN</td>\n",
       "    </tr>\n",
       "    <tr>\n",
       "      <th>Série 1 M</th>\n",
       "      <td>Motor V8</td>\n",
       "      <td>2019</td>\n",
       "      <td>NaN</td>\n",
       "      <td>True</td>\n",
       "      <td>['Control de estabilidad', 'Central multimedia...</td>\n",
       "      <td>94564.40</td>\n",
       "      <td>NaN</td>\n",
       "    </tr>\n",
       "    <tr>\n",
       "      <th>...</th>\n",
       "      <td>...</td>\n",
       "      <td>...</td>\n",
       "      <td>...</td>\n",
       "      <td>...</td>\n",
       "      <td>...</td>\n",
       "      <td>...</td>\n",
       "      <td>...</td>\n",
       "    </tr>\n",
       "    <tr>\n",
       "      <th>Lamborghini Reventón</th>\n",
       "      <td>Motor 4.0 Turbo</td>\n",
       "      <td>2019</td>\n",
       "      <td>NaN</td>\n",
       "      <td>True</td>\n",
       "      <td>['Control de tracción', 'Aire condicionado', '...</td>\n",
       "      <td>67664.86</td>\n",
       "      <td>NaN</td>\n",
       "    </tr>\n",
       "    <tr>\n",
       "      <th>Benni Mini</th>\n",
       "      <td>Motor V8</td>\n",
       "      <td>2019</td>\n",
       "      <td>NaN</td>\n",
       "      <td>True</td>\n",
       "      <td>['Sensor crepuscular', 'Transmisión automática...</td>\n",
       "      <td>126247.84</td>\n",
       "      <td>NaN</td>\n",
       "    </tr>\n",
       "    <tr>\n",
       "      <th>Uno</th>\n",
       "      <td>Motor Diesel V6</td>\n",
       "      <td>2019</td>\n",
       "      <td>NaN</td>\n",
       "      <td>True</td>\n",
       "      <td>['Central multimedia', 'Sensor crepuscular', '...</td>\n",
       "      <td>128852.21</td>\n",
       "      <td>NaN</td>\n",
       "    </tr>\n",
       "    <tr>\n",
       "      <th>Santa Fe</th>\n",
       "      <td>Motor 3.0 32v</td>\n",
       "      <td>2019</td>\n",
       "      <td>NaN</td>\n",
       "      <td>True</td>\n",
       "      <td>['Cerraduras electricas', 'Aire condicionado',...</td>\n",
       "      <td>129415.33</td>\n",
       "      <td>NaN</td>\n",
       "    </tr>\n",
       "    <tr>\n",
       "      <th>XC60</th>\n",
       "      <td>Motor 4.0 Turbo</td>\n",
       "      <td>2019</td>\n",
       "      <td>NaN</td>\n",
       "      <td>True</td>\n",
       "      <td>['Panel digital', 'Piloto automático', 'Centra...</td>\n",
       "      <td>77675.79</td>\n",
       "      <td>NaN</td>\n",
       "    </tr>\n",
       "  </tbody>\n",
       "</table>\n",
       "<p>61 rows × 7 columns</p>\n",
       "</div>"
      ],
      "text/plain": [
       "                                Motor   Año  Kilometraje  Cero_km  \\\n",
       "Nombre                                                              \n",
       "DS5                   Motor 2.4 Turbo  2019          NaN     True   \n",
       "A5                    Motor 4.0 Turbo  2019          NaN     True   \n",
       "J5                           Motor V6  2019          NaN     True   \n",
       "A3                       Motor 1.0 8v  2019          NaN     True   \n",
       "Série 1 M                    Motor V8  2019          NaN     True   \n",
       "...                               ...   ...          ...      ...   \n",
       "Lamborghini Reventón  Motor 4.0 Turbo  2019          NaN     True   \n",
       "Benni Mini                   Motor V8  2019          NaN     True   \n",
       "Uno                   Motor Diesel V6  2019          NaN     True   \n",
       "Santa Fe                Motor 3.0 32v  2019          NaN     True   \n",
       "XC60                  Motor 4.0 Turbo  2019          NaN     True   \n",
       "\n",
       "                                                             Accesorios  \\\n",
       "Nombre                                                                    \n",
       "DS5                   ['Cerraduras electricas', '4 X 4', 'Ventanas e...   \n",
       "A5                    ['Transmisión automática', 'Cámara de estacion...   \n",
       "J5                    ['Sensor crepuscular', 'Panel digital', 'Llant...   \n",
       "A3                    ['4 X 4', 'Piloto automático', 'Central multim...   \n",
       "Série 1 M             ['Control de estabilidad', 'Central multimedia...   \n",
       "...                                                                 ...   \n",
       "Lamborghini Reventón  ['Control de tracción', 'Aire condicionado', '...   \n",
       "Benni Mini            ['Sensor crepuscular', 'Transmisión automática...   \n",
       "Uno                   ['Central multimedia', 'Sensor crepuscular', '...   \n",
       "Santa Fe              ['Cerraduras electricas', 'Aire condicionado',...   \n",
       "XC60                  ['Panel digital', 'Piloto automático', 'Centra...   \n",
       "\n",
       "                          Valor  km_media  \n",
       "Nombre                                     \n",
       "DS5                   124549.07       NaN  \n",
       "A5                     56445.20       NaN  \n",
       "J5                     53183.38       NaN  \n",
       "A3                     88552.39       NaN  \n",
       "Série 1 M              94564.40       NaN  \n",
       "...                         ...       ...  \n",
       "Lamborghini Reventón   67664.86       NaN  \n",
       "Benni Mini            126247.84       NaN  \n",
       "Uno                   128852.21       NaN  \n",
       "Santa Fe              129415.33       NaN  \n",
       "XC60                   77675.79       NaN  \n",
       "\n",
       "[61 rows x 7 columns]"
      ]
     },
     "execution_count": 64,
     "metadata": {},
     "output_type": "execute_result"
    }
   ],
   "source": [
    "dataset[dataset.Kilometraje.isna()]"
   ]
  },
  {
   "cell_type": "code",
   "execution_count": 67,
   "metadata": {
    "colab": {},
    "colab_type": "code",
    "id": "OL04QU5RD1Be"
   },
   "outputs": [],
   "source": [
    "dataset.fillna(0, inplace = True)"
   ]
  },
  {
   "cell_type": "code",
   "execution_count": 69,
   "metadata": {
    "colab": {},
    "colab_type": "code",
    "id": "fTH2JkGDD1Bf",
    "scrolled": true
   },
   "outputs": [
    {
     "data": {
      "text/html": [
       "<div>\n",
       "<style scoped>\n",
       "    .dataframe tbody tr th:only-of-type {\n",
       "        vertical-align: middle;\n",
       "    }\n",
       "\n",
       "    .dataframe tbody tr th {\n",
       "        vertical-align: top;\n",
       "    }\n",
       "\n",
       "    .dataframe thead th {\n",
       "        text-align: right;\n",
       "    }\n",
       "</style>\n",
       "<table border=\"1\" class=\"dataframe\">\n",
       "  <thead>\n",
       "    <tr style=\"text-align: right;\">\n",
       "      <th></th>\n",
       "      <th>Motor</th>\n",
       "      <th>Año</th>\n",
       "      <th>Kilometraje</th>\n",
       "      <th>Cero_km</th>\n",
       "      <th>Accesorios</th>\n",
       "      <th>Valor</th>\n",
       "      <th>km_media</th>\n",
       "    </tr>\n",
       "    <tr>\n",
       "      <th>Nombre</th>\n",
       "      <th></th>\n",
       "      <th></th>\n",
       "      <th></th>\n",
       "      <th></th>\n",
       "      <th></th>\n",
       "      <th></th>\n",
       "      <th></th>\n",
       "    </tr>\n",
       "  </thead>\n",
       "  <tbody>\n",
       "    <tr>\n",
       "      <th>DS5</th>\n",
       "      <td>Motor 2.4 Turbo</td>\n",
       "      <td>2019</td>\n",
       "      <td>0.0</td>\n",
       "      <td>True</td>\n",
       "      <td>['Cerraduras electricas', '4 X 4', 'Ventanas e...</td>\n",
       "      <td>124549.07</td>\n",
       "      <td>0.0</td>\n",
       "    </tr>\n",
       "    <tr>\n",
       "      <th>A5</th>\n",
       "      <td>Motor 4.0 Turbo</td>\n",
       "      <td>2019</td>\n",
       "      <td>0.0</td>\n",
       "      <td>True</td>\n",
       "      <td>['Transmisión automática', 'Cámara de estacion...</td>\n",
       "      <td>56445.20</td>\n",
       "      <td>0.0</td>\n",
       "    </tr>\n",
       "    <tr>\n",
       "      <th>J5</th>\n",
       "      <td>Motor V6</td>\n",
       "      <td>2019</td>\n",
       "      <td>0.0</td>\n",
       "      <td>True</td>\n",
       "      <td>['Sensor crepuscular', 'Panel digital', 'Llant...</td>\n",
       "      <td>53183.38</td>\n",
       "      <td>0.0</td>\n",
       "    </tr>\n",
       "    <tr>\n",
       "      <th>A3</th>\n",
       "      <td>Motor 1.0 8v</td>\n",
       "      <td>2019</td>\n",
       "      <td>0.0</td>\n",
       "      <td>True</td>\n",
       "      <td>['4 X 4', 'Piloto automático', 'Central multim...</td>\n",
       "      <td>88552.39</td>\n",
       "      <td>0.0</td>\n",
       "    </tr>\n",
       "    <tr>\n",
       "      <th>Série 1 M</th>\n",
       "      <td>Motor V8</td>\n",
       "      <td>2019</td>\n",
       "      <td>0.0</td>\n",
       "      <td>True</td>\n",
       "      <td>['Control de estabilidad', 'Central multimedia...</td>\n",
       "      <td>94564.40</td>\n",
       "      <td>0.0</td>\n",
       "    </tr>\n",
       "    <tr>\n",
       "      <th>...</th>\n",
       "      <td>...</td>\n",
       "      <td>...</td>\n",
       "      <td>...</td>\n",
       "      <td>...</td>\n",
       "      <td>...</td>\n",
       "      <td>...</td>\n",
       "      <td>...</td>\n",
       "    </tr>\n",
       "    <tr>\n",
       "      <th>Lamborghini Reventón</th>\n",
       "      <td>Motor 4.0 Turbo</td>\n",
       "      <td>2019</td>\n",
       "      <td>0.0</td>\n",
       "      <td>True</td>\n",
       "      <td>['Control de tracción', 'Aire condicionado', '...</td>\n",
       "      <td>67664.86</td>\n",
       "      <td>0.0</td>\n",
       "    </tr>\n",
       "    <tr>\n",
       "      <th>Benni Mini</th>\n",
       "      <td>Motor V8</td>\n",
       "      <td>2019</td>\n",
       "      <td>0.0</td>\n",
       "      <td>True</td>\n",
       "      <td>['Sensor crepuscular', 'Transmisión automática...</td>\n",
       "      <td>126247.84</td>\n",
       "      <td>0.0</td>\n",
       "    </tr>\n",
       "    <tr>\n",
       "      <th>Uno</th>\n",
       "      <td>Motor Diesel V6</td>\n",
       "      <td>2019</td>\n",
       "      <td>0.0</td>\n",
       "      <td>True</td>\n",
       "      <td>['Central multimedia', 'Sensor crepuscular', '...</td>\n",
       "      <td>128852.21</td>\n",
       "      <td>0.0</td>\n",
       "    </tr>\n",
       "    <tr>\n",
       "      <th>Santa Fe</th>\n",
       "      <td>Motor 3.0 32v</td>\n",
       "      <td>2019</td>\n",
       "      <td>0.0</td>\n",
       "      <td>True</td>\n",
       "      <td>['Cerraduras electricas', 'Aire condicionado',...</td>\n",
       "      <td>129415.33</td>\n",
       "      <td>0.0</td>\n",
       "    </tr>\n",
       "    <tr>\n",
       "      <th>XC60</th>\n",
       "      <td>Motor 4.0 Turbo</td>\n",
       "      <td>2019</td>\n",
       "      <td>0.0</td>\n",
       "      <td>True</td>\n",
       "      <td>['Panel digital', 'Piloto automático', 'Centra...</td>\n",
       "      <td>77675.79</td>\n",
       "      <td>0.0</td>\n",
       "    </tr>\n",
       "  </tbody>\n",
       "</table>\n",
       "<p>61 rows × 7 columns</p>\n",
       "</div>"
      ],
      "text/plain": [
       "                                Motor   Año  Kilometraje  Cero_km  \\\n",
       "Nombre                                                              \n",
       "DS5                   Motor 2.4 Turbo  2019          0.0     True   \n",
       "A5                    Motor 4.0 Turbo  2019          0.0     True   \n",
       "J5                           Motor V6  2019          0.0     True   \n",
       "A3                       Motor 1.0 8v  2019          0.0     True   \n",
       "Série 1 M                    Motor V8  2019          0.0     True   \n",
       "...                               ...   ...          ...      ...   \n",
       "Lamborghini Reventón  Motor 4.0 Turbo  2019          0.0     True   \n",
       "Benni Mini                   Motor V8  2019          0.0     True   \n",
       "Uno                   Motor Diesel V6  2019          0.0     True   \n",
       "Santa Fe                Motor 3.0 32v  2019          0.0     True   \n",
       "XC60                  Motor 4.0 Turbo  2019          0.0     True   \n",
       "\n",
       "                                                             Accesorios  \\\n",
       "Nombre                                                                    \n",
       "DS5                   ['Cerraduras electricas', '4 X 4', 'Ventanas e...   \n",
       "A5                    ['Transmisión automática', 'Cámara de estacion...   \n",
       "J5                    ['Sensor crepuscular', 'Panel digital', 'Llant...   \n",
       "A3                    ['4 X 4', 'Piloto automático', 'Central multim...   \n",
       "Série 1 M             ['Control de estabilidad', 'Central multimedia...   \n",
       "...                                                                 ...   \n",
       "Lamborghini Reventón  ['Control de tracción', 'Aire condicionado', '...   \n",
       "Benni Mini            ['Sensor crepuscular', 'Transmisión automática...   \n",
       "Uno                   ['Central multimedia', 'Sensor crepuscular', '...   \n",
       "Santa Fe              ['Cerraduras electricas', 'Aire condicionado',...   \n",
       "XC60                  ['Panel digital', 'Piloto automático', 'Centra...   \n",
       "\n",
       "                          Valor  km_media  \n",
       "Nombre                                     \n",
       "DS5                   124549.07       0.0  \n",
       "A5                     56445.20       0.0  \n",
       "J5                     53183.38       0.0  \n",
       "A3                     88552.39       0.0  \n",
       "Série 1 M              94564.40       0.0  \n",
       "...                         ...       ...  \n",
       "Lamborghini Reventón   67664.86       0.0  \n",
       "Benni Mini            126247.84       0.0  \n",
       "Uno                   128852.21       0.0  \n",
       "Santa Fe              129415.33       0.0  \n",
       "XC60                   77675.79       0.0  \n",
       "\n",
       "[61 rows x 7 columns]"
      ]
     },
     "execution_count": 69,
     "metadata": {},
     "output_type": "execute_result"
    }
   ],
   "source": [
    "dataset.query(\"Cero_km == True\")"
   ]
  },
  {
   "cell_type": "code",
   "execution_count": 70,
   "metadata": {
    "colab": {},
    "colab_type": "code",
    "id": "lure2GvpD1Bg"
   },
   "outputs": [],
   "source": [
    "dataset = pd.read_csv('db.csv', sep = ';')"
   ]
  },
  {
   "cell_type": "code",
   "execution_count": 71,
   "metadata": {
    "colab": {},
    "colab_type": "code",
    "id": "4-ZvhXjvD1Bj"
   },
   "outputs": [
    {
     "data": {
      "text/html": [
       "<div>\n",
       "<style scoped>\n",
       "    .dataframe tbody tr th:only-of-type {\n",
       "        vertical-align: middle;\n",
       "    }\n",
       "\n",
       "    .dataframe tbody tr th {\n",
       "        vertical-align: top;\n",
       "    }\n",
       "\n",
       "    .dataframe thead th {\n",
       "        text-align: right;\n",
       "    }\n",
       "</style>\n",
       "<table border=\"1\" class=\"dataframe\">\n",
       "  <thead>\n",
       "    <tr style=\"text-align: right;\">\n",
       "      <th></th>\n",
       "      <th>Nombre</th>\n",
       "      <th>Motor</th>\n",
       "      <th>Año</th>\n",
       "      <th>Kilometraje</th>\n",
       "      <th>Cero_km</th>\n",
       "      <th>Accesorios</th>\n",
       "      <th>Valor</th>\n",
       "    </tr>\n",
       "  </thead>\n",
       "  <tbody>\n",
       "    <tr>\n",
       "      <th>0</th>\n",
       "      <td>Jetta Variant</td>\n",
       "      <td>Motor 4.0 Turbo</td>\n",
       "      <td>2003</td>\n",
       "      <td>44410.0</td>\n",
       "      <td>False</td>\n",
       "      <td>['Llantas de aleación', 'Cerraduras electricas...</td>\n",
       "      <td>88078.64</td>\n",
       "    </tr>\n",
       "    <tr>\n",
       "      <th>1</th>\n",
       "      <td>Passat</td>\n",
       "      <td>Motor Diesel</td>\n",
       "      <td>1991</td>\n",
       "      <td>5712.0</td>\n",
       "      <td>False</td>\n",
       "      <td>['Central multimedia', 'Techo panorámico', 'Fr...</td>\n",
       "      <td>106161.94</td>\n",
       "    </tr>\n",
       "    <tr>\n",
       "      <th>2</th>\n",
       "      <td>Crossfox</td>\n",
       "      <td>Motor Diesel V8</td>\n",
       "      <td>1990</td>\n",
       "      <td>37123.0</td>\n",
       "      <td>False</td>\n",
       "      <td>['Piloto automático', 'Control de estabilidad'...</td>\n",
       "      <td>72832.16</td>\n",
       "    </tr>\n",
       "    <tr>\n",
       "      <th>3</th>\n",
       "      <td>DS5</td>\n",
       "      <td>Motor 2.4 Turbo</td>\n",
       "      <td>2019</td>\n",
       "      <td>NaN</td>\n",
       "      <td>True</td>\n",
       "      <td>['Cerraduras electricas', '4 X 4', 'Ventanas e...</td>\n",
       "      <td>124549.07</td>\n",
       "    </tr>\n",
       "    <tr>\n",
       "      <th>4</th>\n",
       "      <td>Aston Martin DB4</td>\n",
       "      <td>Motor 2.4 Turbo</td>\n",
       "      <td>2006</td>\n",
       "      <td>25757.0</td>\n",
       "      <td>False</td>\n",
       "      <td>['Llantas de aleación', '4 X 4', 'Central mult...</td>\n",
       "      <td>92612.10</td>\n",
       "    </tr>\n",
       "    <tr>\n",
       "      <th>...</th>\n",
       "      <td>...</td>\n",
       "      <td>...</td>\n",
       "      <td>...</td>\n",
       "      <td>...</td>\n",
       "      <td>...</td>\n",
       "      <td>...</td>\n",
       "      <td>...</td>\n",
       "    </tr>\n",
       "    <tr>\n",
       "      <th>253</th>\n",
       "      <td>Phantom 2013</td>\n",
       "      <td>Motor V8</td>\n",
       "      <td>2014</td>\n",
       "      <td>27505.0</td>\n",
       "      <td>False</td>\n",
       "      <td>['Control de estabilidad', 'Piloto automático'...</td>\n",
       "      <td>51759.58</td>\n",
       "    </tr>\n",
       "    <tr>\n",
       "      <th>254</th>\n",
       "      <td>Cadillac Ciel concept</td>\n",
       "      <td>Motor V8</td>\n",
       "      <td>1991</td>\n",
       "      <td>29981.0</td>\n",
       "      <td>False</td>\n",
       "      <td>['Asientos de cuero', 'Panel digital', 'Sensor...</td>\n",
       "      <td>51667.06</td>\n",
       "    </tr>\n",
       "    <tr>\n",
       "      <th>255</th>\n",
       "      <td>Classe GLK</td>\n",
       "      <td>Motor 5.0 V8 Bi-Turbo</td>\n",
       "      <td>2002</td>\n",
       "      <td>52637.0</td>\n",
       "      <td>False</td>\n",
       "      <td>['Llantas de aleación', 'Control de tracción',...</td>\n",
       "      <td>68934.03</td>\n",
       "    </tr>\n",
       "    <tr>\n",
       "      <th>256</th>\n",
       "      <td>Aston Martin DB5</td>\n",
       "      <td>Motor Diesel</td>\n",
       "      <td>1996</td>\n",
       "      <td>7685.0</td>\n",
       "      <td>False</td>\n",
       "      <td>['Aire condicionado', '4 X 4', 'Transmisión au...</td>\n",
       "      <td>122110.90</td>\n",
       "    </tr>\n",
       "    <tr>\n",
       "      <th>257</th>\n",
       "      <td>Macan</td>\n",
       "      <td>Motor Diesel V6</td>\n",
       "      <td>1992</td>\n",
       "      <td>50188.0</td>\n",
       "      <td>False</td>\n",
       "      <td>['Central multimedia', 'Techo panorámico', 'Ve...</td>\n",
       "      <td>90381.47</td>\n",
       "    </tr>\n",
       "  </tbody>\n",
       "</table>\n",
       "<p>258 rows × 7 columns</p>\n",
       "</div>"
      ],
      "text/plain": [
       "                    Nombre                  Motor   Año  Kilometraje  Cero_km  \\\n",
       "0            Jetta Variant        Motor 4.0 Turbo  2003      44410.0    False   \n",
       "1                   Passat           Motor Diesel  1991       5712.0    False   \n",
       "2                 Crossfox        Motor Diesel V8  1990      37123.0    False   \n",
       "3                      DS5        Motor 2.4 Turbo  2019          NaN     True   \n",
       "4         Aston Martin DB4        Motor 2.4 Turbo  2006      25757.0    False   \n",
       "..                     ...                    ...   ...          ...      ...   \n",
       "253           Phantom 2013               Motor V8  2014      27505.0    False   \n",
       "254  Cadillac Ciel concept               Motor V8  1991      29981.0    False   \n",
       "255             Classe GLK  Motor 5.0 V8 Bi-Turbo  2002      52637.0    False   \n",
       "256       Aston Martin DB5           Motor Diesel  1996       7685.0    False   \n",
       "257                  Macan        Motor Diesel V6  1992      50188.0    False   \n",
       "\n",
       "                                            Accesorios      Valor  \n",
       "0    ['Llantas de aleación', 'Cerraduras electricas...   88078.64  \n",
       "1    ['Central multimedia', 'Techo panorámico', 'Fr...  106161.94  \n",
       "2    ['Piloto automático', 'Control de estabilidad'...   72832.16  \n",
       "3    ['Cerraduras electricas', '4 X 4', 'Ventanas e...  124549.07  \n",
       "4    ['Llantas de aleación', '4 X 4', 'Central mult...   92612.10  \n",
       "..                                                 ...        ...  \n",
       "253  ['Control de estabilidad', 'Piloto automático'...   51759.58  \n",
       "254  ['Asientos de cuero', 'Panel digital', 'Sensor...   51667.06  \n",
       "255  ['Llantas de aleación', 'Control de tracción',...   68934.03  \n",
       "256  ['Aire condicionado', '4 X 4', 'Transmisión au...  122110.90  \n",
       "257  ['Central multimedia', 'Techo panorámico', 'Ve...   90381.47  \n",
       "\n",
       "[258 rows x 7 columns]"
      ]
     },
     "execution_count": 71,
     "metadata": {},
     "output_type": "execute_result"
    }
   ],
   "source": [
    "dataset"
   ]
  },
  {
   "cell_type": "code",
   "execution_count": 72,
   "metadata": {
    "colab": {},
    "colab_type": "code",
    "id": "MQUw7i1OD1Bk",
    "scrolled": true
   },
   "outputs": [],
   "source": [
    "dataset.dropna(subset = ['Kilometraje'], inplace = True)"
   ]
  },
  {
   "cell_type": "code",
   "execution_count": 73,
   "metadata": {
    "colab": {},
    "colab_type": "code",
    "id": "U4Cse7miD1Bl"
   },
   "outputs": [
    {
     "data": {
      "text/html": [
       "<div>\n",
       "<style scoped>\n",
       "    .dataframe tbody tr th:only-of-type {\n",
       "        vertical-align: middle;\n",
       "    }\n",
       "\n",
       "    .dataframe tbody tr th {\n",
       "        vertical-align: top;\n",
       "    }\n",
       "\n",
       "    .dataframe thead th {\n",
       "        text-align: right;\n",
       "    }\n",
       "</style>\n",
       "<table border=\"1\" class=\"dataframe\">\n",
       "  <thead>\n",
       "    <tr style=\"text-align: right;\">\n",
       "      <th></th>\n",
       "      <th>Nombre</th>\n",
       "      <th>Motor</th>\n",
       "      <th>Año</th>\n",
       "      <th>Kilometraje</th>\n",
       "      <th>Cero_km</th>\n",
       "      <th>Accesorios</th>\n",
       "      <th>Valor</th>\n",
       "    </tr>\n",
       "  </thead>\n",
       "  <tbody>\n",
       "    <tr>\n",
       "      <th>0</th>\n",
       "      <td>Jetta Variant</td>\n",
       "      <td>Motor 4.0 Turbo</td>\n",
       "      <td>2003</td>\n",
       "      <td>44410.0</td>\n",
       "      <td>False</td>\n",
       "      <td>['Llantas de aleación', 'Cerraduras electricas...</td>\n",
       "      <td>88078.64</td>\n",
       "    </tr>\n",
       "    <tr>\n",
       "      <th>1</th>\n",
       "      <td>Passat</td>\n",
       "      <td>Motor Diesel</td>\n",
       "      <td>1991</td>\n",
       "      <td>5712.0</td>\n",
       "      <td>False</td>\n",
       "      <td>['Central multimedia', 'Techo panorámico', 'Fr...</td>\n",
       "      <td>106161.94</td>\n",
       "    </tr>\n",
       "    <tr>\n",
       "      <th>2</th>\n",
       "      <td>Crossfox</td>\n",
       "      <td>Motor Diesel V8</td>\n",
       "      <td>1990</td>\n",
       "      <td>37123.0</td>\n",
       "      <td>False</td>\n",
       "      <td>['Piloto automático', 'Control de estabilidad'...</td>\n",
       "      <td>72832.16</td>\n",
       "    </tr>\n",
       "    <tr>\n",
       "      <th>4</th>\n",
       "      <td>Aston Martin DB4</td>\n",
       "      <td>Motor 2.4 Turbo</td>\n",
       "      <td>2006</td>\n",
       "      <td>25757.0</td>\n",
       "      <td>False</td>\n",
       "      <td>['Llantas de aleación', '4 X 4', 'Central mult...</td>\n",
       "      <td>92612.10</td>\n",
       "    </tr>\n",
       "    <tr>\n",
       "      <th>5</th>\n",
       "      <td>Palio Weekend</td>\n",
       "      <td>Motor 1.8 16v</td>\n",
       "      <td>2012</td>\n",
       "      <td>10728.0</td>\n",
       "      <td>False</td>\n",
       "      <td>['Sensor de estacionamiento', 'Techo panorámic...</td>\n",
       "      <td>97497.73</td>\n",
       "    </tr>\n",
       "    <tr>\n",
       "      <th>...</th>\n",
       "      <td>...</td>\n",
       "      <td>...</td>\n",
       "      <td>...</td>\n",
       "      <td>...</td>\n",
       "      <td>...</td>\n",
       "      <td>...</td>\n",
       "      <td>...</td>\n",
       "    </tr>\n",
       "    <tr>\n",
       "      <th>253</th>\n",
       "      <td>Phantom 2013</td>\n",
       "      <td>Motor V8</td>\n",
       "      <td>2014</td>\n",
       "      <td>27505.0</td>\n",
       "      <td>False</td>\n",
       "      <td>['Control de estabilidad', 'Piloto automático'...</td>\n",
       "      <td>51759.58</td>\n",
       "    </tr>\n",
       "    <tr>\n",
       "      <th>254</th>\n",
       "      <td>Cadillac Ciel concept</td>\n",
       "      <td>Motor V8</td>\n",
       "      <td>1991</td>\n",
       "      <td>29981.0</td>\n",
       "      <td>False</td>\n",
       "      <td>['Asientos de cuero', 'Panel digital', 'Sensor...</td>\n",
       "      <td>51667.06</td>\n",
       "    </tr>\n",
       "    <tr>\n",
       "      <th>255</th>\n",
       "      <td>Classe GLK</td>\n",
       "      <td>Motor 5.0 V8 Bi-Turbo</td>\n",
       "      <td>2002</td>\n",
       "      <td>52637.0</td>\n",
       "      <td>False</td>\n",
       "      <td>['Llantas de aleación', 'Control de tracción',...</td>\n",
       "      <td>68934.03</td>\n",
       "    </tr>\n",
       "    <tr>\n",
       "      <th>256</th>\n",
       "      <td>Aston Martin DB5</td>\n",
       "      <td>Motor Diesel</td>\n",
       "      <td>1996</td>\n",
       "      <td>7685.0</td>\n",
       "      <td>False</td>\n",
       "      <td>['Aire condicionado', '4 X 4', 'Transmisión au...</td>\n",
       "      <td>122110.90</td>\n",
       "    </tr>\n",
       "    <tr>\n",
       "      <th>257</th>\n",
       "      <td>Macan</td>\n",
       "      <td>Motor Diesel V6</td>\n",
       "      <td>1992</td>\n",
       "      <td>50188.0</td>\n",
       "      <td>False</td>\n",
       "      <td>['Central multimedia', 'Techo panorámico', 'Ve...</td>\n",
       "      <td>90381.47</td>\n",
       "    </tr>\n",
       "  </tbody>\n",
       "</table>\n",
       "<p>197 rows × 7 columns</p>\n",
       "</div>"
      ],
      "text/plain": [
       "                    Nombre                  Motor   Año  Kilometraje  Cero_km  \\\n",
       "0            Jetta Variant        Motor 4.0 Turbo  2003      44410.0    False   \n",
       "1                   Passat           Motor Diesel  1991       5712.0    False   \n",
       "2                 Crossfox        Motor Diesel V8  1990      37123.0    False   \n",
       "4         Aston Martin DB4        Motor 2.4 Turbo  2006      25757.0    False   \n",
       "5            Palio Weekend          Motor 1.8 16v  2012      10728.0    False   \n",
       "..                     ...                    ...   ...          ...      ...   \n",
       "253           Phantom 2013               Motor V8  2014      27505.0    False   \n",
       "254  Cadillac Ciel concept               Motor V8  1991      29981.0    False   \n",
       "255             Classe GLK  Motor 5.0 V8 Bi-Turbo  2002      52637.0    False   \n",
       "256       Aston Martin DB5           Motor Diesel  1996       7685.0    False   \n",
       "257                  Macan        Motor Diesel V6  1992      50188.0    False   \n",
       "\n",
       "                                            Accesorios      Valor  \n",
       "0    ['Llantas de aleación', 'Cerraduras electricas...   88078.64  \n",
       "1    ['Central multimedia', 'Techo panorámico', 'Fr...  106161.94  \n",
       "2    ['Piloto automático', 'Control de estabilidad'...   72832.16  \n",
       "4    ['Llantas de aleación', '4 X 4', 'Central mult...   92612.10  \n",
       "5    ['Sensor de estacionamiento', 'Techo panorámic...   97497.73  \n",
       "..                                                 ...        ...  \n",
       "253  ['Control de estabilidad', 'Piloto automático'...   51759.58  \n",
       "254  ['Asientos de cuero', 'Panel digital', 'Sensor...   51667.06  \n",
       "255  ['Llantas de aleación', 'Control de tracción',...   68934.03  \n",
       "256  ['Aire condicionado', '4 X 4', 'Transmisión au...  122110.90  \n",
       "257  ['Central multimedia', 'Techo panorámico', 'Ve...   90381.47  \n",
       "\n",
       "[197 rows x 7 columns]"
      ]
     },
     "execution_count": 73,
     "metadata": {},
     "output_type": "execute_result"
    }
   ],
   "source": [
    "dataset"
   ]
  }
 ],
 "metadata": {
  "colab": {
   "name": "Python para Data Science - Pandas.ipynb",
   "provenance": []
  },
  "kernelspec": {
   "display_name": "Python 3",
   "language": "python",
   "name": "python3"
  },
  "language_info": {
   "codemirror_mode": {
    "name": "ipython",
    "version": 3
   },
   "file_extension": ".py",
   "mimetype": "text/x-python",
   "name": "python",
   "nbconvert_exporter": "python",
   "pygments_lexer": "ipython3",
   "version": "3.7.1"
  }
 },
 "nbformat": 4,
 "nbformat_minor": 1
}
